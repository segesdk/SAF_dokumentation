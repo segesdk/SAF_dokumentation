{
 "cells": [
  {
   "attachments": {},
   "cell_type": "markdown",
   "metadata": {},
   "source": [
    "# **Metan (CH4) på grisestald- og lager**\n",
    "\n",
    "## **Stald**\n",
    "\n",
    "### **Beregning af metan på stald** \n",
    "\n",
    "$$ CH_{4_{stald}} = VS_{total} \\cdot O \\cdot B0 \\cdot MCF \\cdot SD \\cdot \\delta_f \\cdot VM_{CH_4Stald}$$\n",
    "\n",
    "Hvor: \n",
    "\n",
    " * O: Omregningsfaktor fra m<sup>3</sup> til kg metan = [Standardtal](https://seges.sharepoint.com/:x:/r/sites/SAFprojeketet/_layouts/15/Doc.aspx?sourcedoc=%7B55DC573E-DF3A-4BB4-BA90-49438C005785%7D&file=Formler%20til%20PORK%202.0%20med%20foderberegner.xlsx&activeCell=%27Formler-metan-stald%201%27!B68&action=embedview)\n",
    " * B0: [Standardtal](https://seges.sharepoint.com/:x:/r/sites/SAFprojeketet/_layouts/15/Doc.aspx?sourcedoc=%7B55DC573E-DF3A-4BB4-BA90-49438C005785%7D&file=Formler%20til%20PORK%202.0%20med%20foderberegner.xlsx&activeCell=%27Formler-metan-stald%201%27!B62&action=embedview)\n",
    " * MCF: methane conversion factor = [Tabelværdi](https://seges.sharepoint.com/:x:/r/sites/SAFprojeketet/_layouts/15/Doc.aspx?sourcedoc=%7B0C95A002-A20E-4641-95BE-18B1560D7CE2%7D&file=PigData.xlsx&activeCell=HousingSystems!F1&action=embedview)\n",
    " * δ<sub>f</sub>: fordelingsfaktor stald/lager = [Standardtal](https://seges.sharepoint.com/:x:/r/sites/SAFprojeketet/_layouts/15/Doc.aspx?sourcedoc=%7B55DC573E-DF3A-4BB4-BA90-49438C005785%7D&file=Formler%20til%20PORK%202.0%20med%20foderberegner.xlsx&activeCell=%27Formler-metan-stald%201%27!C62&action=embedview) - *NB for staldtyperne \"faremark\", \"friland\" og \"udendørs\" er δ<sub>f</sub> = 1, da hele aftrykket tillægges stalden*\n",
    " * VM<sub>CH<sub>4</sub>Stald</sub>: Effekten af evt. valgte virkemidler på stalden = [Tabelværdi](https://seges.sharepoint.com/:x:/r/sites/SAFprojeketet/_layouts/15/Doc.aspx?sourcedoc=%7B0C95A002-A20E-4641-95BE-18B1560D7CE2%7D&file=PigData.xlsx&activeCell=ClimateMeasures!E1&action=embedview)\n",
    "\n",
    " ### **Beregning af SD, stalddage pr dyr, afhænger af dyretypen:**\n",
    "\n",
    "> Slagtegris (konv. + øko) + FRATS\n",
    "\n",
    "$$SD = \\frac{T}{DT} \\cdot 1000+10$$\n",
    "\n",
    "Hvor tilvæksten, T:\n",
    "\n",
    "$$ T = V_{slagt}  \\cdot \\Delta_d - V_{ind}$$\n",
    "\n",
    "\n",
    "> Smågrise (konv. + øko)\n",
    "\n",
    "$$SD = \\frac{T}{DT} \\cdot 1000+4$$\n",
    "\n",
    "Hvor tilvæksten, T:\n",
    "\n",
    "$$ T = V_{ud} - V_{ind} $$\n",
    "\n",
    "\n",
    "> Årsso (løbestald + farestald, konv. + øko)\n",
    "\n",
    "$$SD = 365$$\n",
    "\n",
    "Hvor:\n",
    "\n",
    " * V<sub>slagt</sub>: Slagtevægt = input fra bruger el. [Tabelværdi](https://seges.sharepoint.com/:x:/r/sites/SAFprojeketet/_layouts/15/Doc.aspx?sourcedoc=%7B0C95A002-A20E-4641-95BE-18B1560D7CE2%7D&file=PigData.xlsx&activeCell=AnimalTypes!E1&action=embedview) [kg]\n",
    " * Δ<sub>d</sub> = 1,31\n",
    " * V<sub>ind</sub>: Indsættelsesvægt = input fra bruger el. [Tabelværdi](https://seges.sharepoint.com/:x:/r/sites/SAFprojeketet/_layouts/15/Doc.aspx?sourcedoc=%7B0C95A002-A20E-4641-95BE-18B1560D7CE2%7D&file=PigData.xlsx&activeCell=AnimalTypes!D1&action=embedview) [kg]\n",
    "* DT: Daglig tilvækst = input fra bruger el. [Tabelværdi](https://seges.sharepoint.com/:x:/r/sites/SAFprojeketet/_layouts/15/Doc.aspx?sourcedoc=%7B0C95A002-A20E-4641-95BE-18B1560D7CE2%7D&file=PigData.xlsx&activeCell=AnimalTypes!I1&action=embedview) [g]\n",
    " * V<sub>ud</sub>: Vægt ved afgang el. salg el. fravænning = input fra bruger el. [Tabelværdi](https://seges.sharepoint.com/:x:/r/sites/SAFprojeketet/_layouts/15/Doc.aspx?sourcedoc=%7B0C95A002-A20E-4641-95BE-18B1560D7CE2%7D&file=PigData.xlsx&activeCell=AnimalTypes!F1&action=embedview) [kg]\n",
    "\n",
    "\n",
    " ### **Beregning af VS<sub>total</sub>:**\n",
    "$$VS_{total} = \\frac{VS_{dyr}}{SD \\cdot \\delta_f + (SD - SD \\cdot \\delta_f)}+\\frac{VS_{strøelse}}{SD \\cdot \\delta_f + (SD - SD \\cdot \\delta_f)}$$\n",
    " ### **Beregning af VS<sub>dyr</sub>, afhænger af dyretypen:**\n",
    "\n",
    ">Slagtegrise (konv. + øko)  + FRATS + smågrise (konv. + øko)\n",
    "\n",
    "$$VS_{dyr} = VS_{tør} \\cdot \\frac{G \\cdot G_{tør} + U \\cdot U_{tør}}{G + U} \\cdot (G + U)$$\n",
    "\n",
    "Hvor:\n",
    "\n",
    " * G: Gødning ab årsso pr gris [kg]:\n",
    "\n",
    "$$G = {\\frac{\\frac{T \\cdot F}{Fe} \\cdot \\frac{87}{100} \\cdot (1-w)}{0,25}}$$\n",
    "\n",
    " * U: Urin ab årsso pr gris [kg]:\n",
    "\n",
    " $$U =\\frac{T \\cdot F}{Fe}\\cdot \\frac{87}{100} \\cdot 2$$\n",
    "\n",
    " Hvor tilvæksten, T, beregnes for hhv. slagte/FRATSgrise og smågrise:\n",
    "\n",
    "$$ T_{slagt+FRATS} = V_{slagt}  \\cdot \\Delta_d - V_{ind}$$\n",
    "\n",
    "$$ T_{smågris} = V_{ud} - V_{ind} $$\n",
    "\n",
    ">Årssøer, løbe-og drætighedsstalden, konv + øko \n",
    "\n",
    "$$VS_{dyr} = VS_{tør} \\cdot \\frac{G \\cdot G_{tør} + U \\cdot U_{tør}}{G + U} \\cdot (G + U) \\cdot X_{løb}$$\n",
    "\n",
    " Hvor:\n",
    "\n",
    " * G: Gødning ab årsso pr gris [kg]:\n",
    "\n",
    "$$G = \\frac{{\\frac{F}{Fe} \\cdot \\frac{87}{100}}\\cdot (1 - \\frac{81}{100})}{\\frac{30}{100}}$$\n",
    "\n",
    " * U: Urin ab årsso pr gris [kg]:\n",
    "\n",
    " $$U ={\\frac{F}{Fe} \\cdot \\frac{87}{100}} \\cdot 2,5$$\n",
    "\n",
    "\n",
    ">Årssøer, farestald, konv + øko \n",
    "\n",
    "$$VS_{dyr} = VS_{tør} \\cdot \\frac{G \\cdot G_{tør} + U \\cdot U_{tør}}{G + U} \\cdot (G + U) \\cdot X_{fare}$$\n",
    "\n",
    "*G og U i farestalden beregnes på samme vis som for årssøerne i løbe-og drægtighedsstalden*\n",
    "\n",
    "\n",
    "Hvor: \n",
    "\n",
    " * VS<sub>tør</sub>: VS af tørstof = [Standardtal](https://seges.sharepoint.com/:x:/r/sites/SAFprojeketet/_layouts/15/Doc.aspx?sourcedoc=%7B55DC573E-DF3A-4BB4-BA90-49438C005785%7D&file=Formler%20til%20PORK%202.0%20med%20foderberegner.xlsx&activeCell=%27Formler-metan-stald%201%27!C57&action=embedview)\n",
    "* F: Foder = input fra bruger el. [Tabelværdi](https://seges.sharepoint.com/:x:/r/sites/SAFprojeketet/_layouts/15/Doc.aspx?sourcedoc=%7B0C95A002-A20E-4641-95BE-18B1560D7CE2%7D&file=PigData.xlsx&activeCell=AnimalTypes!G1&action=embedview) [FEsv pr kg tilvækst/FEso pr so]\n",
    " * Fe: Foderenheder = input fra bruger el. [Tabelværdi](https://seges.sharepoint.com/:x:/r/sites/SAFprojeketet/_layouts/15/Doc.aspx?sourcedoc=%7B0C95A002-A20E-4641-95BE-18B1560D7CE2%7D&file=PigData.xlsx&activeCell=AnimalTypes!J1&action=embedview) [FE pr kg foder]\n",
    " * X<sub>løb</sub>  = 0,7 for konv / 0,5 for øko\n",
    " * X<sub>fare</sub>  = 0,3 for konv / 0,5 for øko\n",
    " * w = 0,83 for slagte+FRATS grisen / 0,85 for smågrisen\n",
    " * G<sub>tør</sub>: Tørstof i gylle/fæces = [Tabelværdi](https://seges.sharepoint.com/:x:/r/sites/SAFprojeketet/_layouts/15/Doc.aspx?sourcedoc=%7B0C95A002-A20E-4641-95BE-18B1560D7CE2%7D&file=PigData.xlsx&activeCell=AnimalTypes!N1&action=embedview) [%] \n",
    " * U<sub>tør</sub>: Tørstof i urin = [Tabelværdi](https://seges.sharepoint.com/:x:/r/sites/SAFprojeketet/_layouts/15/Doc.aspx?sourcedoc=%7B0C95A002-A20E-4641-95BE-18B1560D7CE2%7D&file=PigData.xlsx&activeCell=AnimalTypes!M1&action=embedview) [%] \n",
    "\n",
    "\n",
    "### **Beregning af VS<sub>strøelse</sub>**\n",
    "$$VS_{strøelse} = H \\cdot H_{tør} \\cdot (1- A) \\cdot VS_{tør}$$\n",
    "\n",
    "Hvor: \n",
    "\n",
    " * H: halm per dyr = [Tabelværdi](https://seges.sharepoint.com/:x:/r/sites/SAFprojeketet/_layouts/15/Doc.aspx?sourcedoc=%7B0C95A002-A20E-4641-95BE-18B1560D7CE2%7D&file=PigData.xlsx&activeCell=HousingSystems!G1&action=embedview) [kg]\n",
    " * H<sub>tør</sub>: Tørstof i halm = [Standardtal](https://seges.sharepoint.com/:x:/r/sites/SAFprojeketet/_layouts/15/Doc.aspx?sourcedoc=%7B55DC573E-DF3A-4BB4-BA90-49438C005785%7D&file=Formler%20til%20PORK%202.0%20med%20foderberegner.xlsx&activeCell=%27hALM-nORM%27!C65&action=embedview)\n",
    " * A: Askeindhold = [Standardtal](https://seges.sharepoint.com/:x:/r/sites/SAFprojeketet/_layouts/15/Doc.aspx?sourcedoc=%7B55DC573E-DF3A-4BB4-BA90-49438C005785%7D&file=Formler%20til%20PORK%202.0%20med%20foderberegner.xlsx&activeCell=%27hALM-nORM%27!C66&action=embedview)\n",
    " * VS<sub>tør</sub>: VS af tørstof = [Standardtal](https://seges.sharepoint.com/:x:/r/sites/SAFprojeketet/_layouts/15/Doc.aspx?sourcedoc=%7B55DC573E-DF3A-4BB4-BA90-49438C005785%7D&file=Formler%20til%20PORK%202.0%20med%20foderberegner.xlsx&activeCell=%27hALM-nORM%27!C67&action=embedview)\n",
    "\n",
    "\n",
    "### **Omregning til CO<sub>2</sub>e:**\n",
    " $$CO_2e = CH_{4_{stald}} \\cdot \\theta_{CH_4-CO_2} $$\n",
    "\n",
    "Hvor: \n",
    "\n",
    "* $\\theta$<sub>CH<sub>4</sub>-CO<sub>2</sub></sub>: Omregningsfaktor CH<sub>4</sub> til CO<sub>2</sub> = [Standardtal](https://seges.sharepoint.com/:x:/r/sites/SAFprojeketet/_layouts/15/Doc.aspx?sourcedoc=%7B55DC573E-DF3A-4BB4-BA90-49438C005785%7D&file=Formler%20til%20PORK%202.0%20med%20foderberegner.xlsx&activeCell=%27Enterisk%20metan%2Bsoallokering%27!C3&action=embedview)\n",
    "\n",
    "____\n",
    "## **Lager**\n",
    "\n",
    "### **Beregning af metan på lager**\n",
    "\n",
    "*NB for staldtyperne \"faremark\", \"friland\" og \"udendørs\" tilføres der ikke noget til lageret og værdien af CH<sub>4</sub><sub>lager</sub> = 0*\n",
    "\n",
    "$$CH_{4_{lager}} = VS_{total} \\cdot O \\cdot B0 \\cdot MCF \\cdot (SD-SD \\cdot \\delta_f) \\cdot VM_{CH_4lager} $$\n",
    "\n",
    "Hvor: \n",
    "\n",
    " * VM<sub>CH<sub>4</sub>lager</sub>: Effekten af evt. valgte virkemidler på lageret = [Tabelværdi](https://seges.sharepoint.com/:x:/r/sites/SAFprojeketet/_layouts/15/Doc.aspx?sourcedoc=%7B0C95A002-A20E-4641-95BE-18B1560D7CE2%7D&file=PigData.xlsx&activeCell=HousingSystems!H1&action=embedview)\n",
    "\n",
    "### **Omregning til CO<sub>2</sub>e:**\n",
    " $$CO_2e = CH_{4_{lager}} \\cdot \\theta_{CH_4-CO_2} $$\n",
    "\n",
    "Hvor: \n",
    "\n",
    "* $\\theta$<sub>CH<sub>4</sub>-CO<sub>2</sub></sub>: Omregningsfaktor CH<sub>4</sub> til CO<sub>2</sub> = [Standardtal](https://seges.sharepoint.com/:x:/r/sites/SAFprojeketet/_layouts/15/Doc.aspx?sourcedoc=%7B55DC573E-DF3A-4BB4-BA90-49438C005785%7D&file=Formler%20til%20PORK%202.0%20med%20foderberegner.xlsx&activeCell=%27Enterisk%20metan%2Bsoallokering%27!C3&action=embedview)"
   ]
  },
  {
   "attachments": {},
   "cell_type": "markdown",
   "metadata": {},
   "source": [
    "## **Testcases:**"
   ]
  },
  {
   "cell_type": "code",
   "execution_count": null,
   "metadata": {
    "dotnet_interactive": {
     "language": "csharp"
    }
   },
   "outputs": [],
   "source": [
    "// konstanter - nix pille\n",
    "double O = 0.67;\n",
    "double B0 = 0.45;\n",
    "double delta_f = 0.69;\n",
    "double Delta_d = 1.31;\n",
    "double VS_tør = 0.8;\n",
    "double H_tør = 0.85;\n",
    "double A = 0.045;\n",
    "double theta_CH4_CO2 = 25.0;"
   ]
  },
  {
   "attachments": {},
   "cell_type": "markdown",
   "metadata": {},
   "source": [
    "### **Stald**"
   ]
  },
  {
   "attachments": {},
   "cell_type": "markdown",
   "metadata": {},
   "source": [
    "**Slagtegrise**"
   ]
  },
  {
   "cell_type": "code",
   "execution_count": null,
   "metadata": {
    "dotnet_interactive": {
     "language": "csharp"
    }
   },
   "outputs": [],
   "source": [
    "// Input - Test andre scenarier, ved at ændre i input-værdierne herunder\n",
    "double V_slagt = 88.0;\n",
    "double V_ind = 30.0;\n",
    "double DT = 1026.0;\n",
    "double F = 2.75;\n",
    "double Fe = 1.099988605416310;\n",
    "double H = 3.0;\n",
    "double MCF = 0.134;\n",
    "double VM_CH4_stald = 1.0;\n",
    "double w = 0.83;\n",
    "double G_tør = 0.25;\n",
    "double U_tør = 0.02;\n",
    "\n",
    "// Beregning\n",
    "double T = V_slagt * Delta_d - V_ind;\n",
    "double SD_slagt = T / DT * 1000.0 + 10.0;\n",
    "double G = T * F / Fe * 87.0 / 100.0 * (1.0 - w) / 0.25;\n",
    "double U = T * F / Fe * 87.0 / 100.0 * 2.0;\n",
    "double VS_dyr = VS_tør * (G * G_tør + U * U_tør) / (G + U) * (G + U);\n",
    "double VS_stroelse = H * H_tør * (1.0 - A) * VS_tør;\n",
    "double VS_total_slagt = (VS_dyr / (SD_slagt * delta_f + (SD_slagt - SD_slagt * delta_f))) + (VS_stroelse / (SD_slagt * delta_f + (SD_slagt - SD_slagt * delta_f)));\n",
    "double CH4_stald = VS_total_slagt * O * B0 * MCF * SD_slagt * delta_f * VM_CH4_stald;\n",
    "\n",
    "Console.WriteLine($\"Metan på stalden: {CH4_stald}\");\n",
    "Console.WriteLine($\"Omregnet til CO2e: {CH4_stald * theta_CH4_CO2}\");"
   ]
  },
  {
   "attachments": {},
   "cell_type": "markdown",
   "metadata": {},
   "source": [
    "**Smågrise**"
   ]
  },
  {
   "cell_type": "code",
   "execution_count": null,
   "metadata": {
    "dotnet_interactive": {
     "language": "csharp"
    }
   },
   "outputs": [],
   "source": [
    "// Input - Test andre scenarier, ved at ændre i input-værdierne herunder\n",
    "double V_ud = 30.0;\n",
    "double V_ind = 6.6;;\n",
    "double DT = 461.0;\n",
    "double F = 1.86;\n",
    "double Fe = 1.10;\n",
    "double H = 1.0;\n",
    "double MCF = 0.134;\n",
    "double VM_CH4_stald = 1.0;\n",
    "double w = 0.85;\n",
    "double G_tør = 0.25;\n",
    "double U_tør = 0.02;\n",
    "\n",
    "// Beregning\n",
    "double T = V_ud - V_ind;\n",
    "double SD_smaa = T / DT * 1000.0 + 4.0;\n",
    "double G = T * F / Fe * 87.0 / 100.0 * (1.0 - w) / 0.25;\n",
    "double U = T * F / Fe * 87.0 / 100.0 * 2.0;\n",
    "double VS_dyr = VS_tør * (G * G_tør + U * U_tør) / (G + U) * (G + U);\n",
    "double VS_stroelse = H * H_tør * (1 - A) * VS_tør;\n",
    "double VS_total_smaa = (VS_dyr / (SD_smaa * delta_f + (SD_smaa - SD_smaa * delta_f))) + (VS_stroelse / (SD_smaa * delta_f + (SD_smaa - SD_smaa * delta_f)));\n",
    "double CH4_stald = VS_total_smaa * O * B0 * MCF * SD_smaa * delta_f * VM_CH4_stald;\n",
    "\n",
    "Console.WriteLine($\"Metan på stalden: {CH4_stald}\");\n",
    "Console.WriteLine($\"Omregnet til CO2e: {CH4_stald * theta_CH4_CO2}\");"
   ]
  },
  {
   "attachments": {},
   "cell_type": "markdown",
   "metadata": {},
   "source": [
    "**Årssøer, løbe og drægtighedsstald**"
   ]
  },
  {
   "cell_type": "code",
   "execution_count": null,
   "metadata": {
    "dotnet_interactive": {
     "language": "csharp"
    }
   },
   "outputs": [],
   "source": [
    "// Input - Test andre scenarier, ved at ændre i input-værdierne herunder\n",
    "double F = 1497.0;\n",
    "double Fe = 1.03930583303452;\n",
    "double H = 0.0;\n",
    "double MCF = 0.134;\n",
    "double VM_CH4_stald = 1.0;\n",
    "double X_lob = 0.7;\n",
    "double G_tør = 0.3;\n",
    "double U_tør = 0.02;\n",
    "\n",
    "// Beregning\n",
    "double SD = 365.0;\n",
    "double G = F / Fe * 87.0 / 100.0 * (1.0 - 81.0 / 100.0) / (30.0 / 100.0);\n",
    "double U = F / Fe * 87.0 / 100.0 * 2.5;\n",
    "double VS_dyr = VS_tør * (G * G_tør + U * U_tør) / (G + U) * (G + U) * X_lob;\n",
    "double VS_stroelse = H * H_tør * (1 - A) * VS_tør;\n",
    "double VS_total = (VS_dyr / (SD * delta_f + (SD - SD * delta_f))) + (VS_stroelse / (SD * delta_f + (SD - SD * delta_f)));\n",
    "double CH4_stald = VS_total * O * B0 * MCF * SD * delta_f * VM_CH4_stald;\n",
    "\n",
    "Console.WriteLine($\"Metan på stalden: {CH4_stald}\");\n",
    "Console.WriteLine($\"Omregnet til CO2e: {CH4_stald * theta_CH4_CO2}\");"
   ]
  },
  {
   "attachments": {},
   "cell_type": "markdown",
   "metadata": {},
   "source": [
    "**Årssøer - farestald**"
   ]
  },
  {
   "cell_type": "code",
   "execution_count": null,
   "metadata": {
    "dotnet_interactive": {
     "language": "csharp"
    }
   },
   "outputs": [],
   "source": [
    "// Input - Test andre scenarier, ved at ændre i input-værdierne herunder\n",
    "double F = 1497.0;\n",
    "double Fe = 1.03930583303452;\n",
    "double H = 0.0;\n",
    "double MCF = 0.134;\n",
    "double VM_CH4_stald = 1.0;\n",
    "double X_fare = 0.3;\n",
    "double G_tør = 0.3;\n",
    "double U_tør = 0.02;\n",
    "\n",
    "// Beregning\n",
    "double SD = 365.0;\n",
    "double G = F / Fe * 87.0 / 100.0 * (1.0 - 81.0 / 100.0) / (30.0 / 100.0);\n",
    "double U = F / Fe * 87.0 / 100.0 * 2.5;\n",
    "double VS_dyr = VS_tør * (G * G_tør + U * U_tør) / (G + U) * (G + U) * X_fare;\n",
    "double VS_stroelse = H * H_tør * (1 - A) * VS_tør;\n",
    "double VS_total = (VS_dyr / (SD * delta_f + (SD - SD * delta_f))) + (VS_stroelse / (SD * delta_f + (SD - SD * delta_f)));\n",
    "double CH4_stald = VS_total * O * B0 * MCF * SD * delta_f * VM_CH4_stald;\n",
    "\n",
    "Console.WriteLine($\"Metan på stalden: {CH4_stald}\");\n",
    "Console.WriteLine($\"Omregnet til CO2e: {CH4_stald * theta_CH4_CO2}\");"
   ]
  },
  {
   "attachments": {},
   "cell_type": "markdown",
   "metadata": {},
   "source": [
    "### **Lager**"
   ]
  },
  {
   "attachments": {},
   "cell_type": "markdown",
   "metadata": {},
   "source": [
    "Lagerberegninger er de samme for alle dyretyper - her er givet to eksempler på hhv. slagtegrise og smågrise\n",
    "\n",
    "*NB for staldtyperne \"faremark\", \"friland\" og \"udendørs\" tilføres der ikke noget til lageret og værdien af CH<sub>4lager</sub> = 0*\n",
    "\n",
    "**Slagte/FRATSgrise**"
   ]
  },
  {
   "cell_type": "code",
   "execution_count": null,
   "metadata": {
    "dotnet_interactive": {
     "language": "csharp"
    }
   },
   "outputs": [],
   "source": [
    "// Input - Test andre scenarier, ved at ændre i input-værdierne herunder\n",
    "double MCF = 0.134;\n",
    "double VM_CH4_lager = 0.4; //gylleforsuring stald\n",
    "\n",
    "// Beregning\n",
    "double CH4_lager = VS_total_slagt * O * B0 * MCF * (SD_slagt - SD_slagt * delta_f) * VM_CH4_lager;\n",
    "Console.WriteLine($\"VS total: {VS_total_slagt}\");\n",
    "Console.WriteLine($\"CH4 for slagtegrise/FRATSgrise: {CH4_lager}\");\n",
    "Console.WriteLine($\"Omregnet til CO2e: {CH4_lager * theta_CH4_CO2}\");"
   ]
  },
  {
   "attachments": {},
   "cell_type": "markdown",
   "metadata": {},
   "source": [
    "**Smågrise**"
   ]
  },
  {
   "cell_type": "code",
   "execution_count": null,
   "metadata": {
    "dotnet_interactive": {
     "language": "csharp"
    }
   },
   "outputs": [],
   "source": [
    "// Input - Test andre scenarier, ved at ændre i input-værdierne herunder\n",
    "double MCF = 0.134;\n",
    "double VM_CH4_lager = 1.0;\n",
    "\n",
    "// Beregning\n",
    "CH4_lager = VS_total_smaa * O * B0 * MCF * (SD_smaa - SD_smaa * delta_f) * VM_CH4_lager;\n",
    "Console.WriteLine($\"CH4 for smågrise: {CH4_lager}\");\n",
    "Console.WriteLine($\"Omregnet til CO2e: {CH4_lager * theta_CH4_CO2}\");"
   ]
  }
 ],
 "metadata": {
  "kernelspec": {
   "display_name": ".NET (C#)",
   "language": "C#",
   "name": ".net-csharp"
  },
  "language_info": {
   "name": "polyglot-notebook"
  },
  "polyglot_notebook": {
   "kernelInfo": {
    "defaultKernelName": "csharp",
    "items": [
     {
      "aliases": [],
      "name": ".NET"
     },
     {
      "aliases": [
       "C#",
       "c#"
      ],
      "languageName": "C#",
      "name": "csharp"
     },
     {
      "aliases": [
       "F#",
       "f#"
      ],
      "languageName": "F#",
      "name": "fsharp"
     },
     {
      "aliases": [],
      "languageName": "HTML",
      "name": "html"
     },
     {
      "aliases": [],
      "languageName": "KQL",
      "name": "kql"
     },
     {
      "aliases": [],
      "languageName": "Mermaid",
      "name": "mermaid"
     },
     {
      "aliases": [
       "powershell"
      ],
      "languageName": "PowerShell",
      "name": "pwsh"
     },
     {
      "aliases": [],
      "languageName": "SQL",
      "name": "sql"
     },
     {
      "aliases": [],
      "name": "value"
     },
     {
      "aliases": [
       "frontend"
      ],
      "name": "vscode"
     }
    ]
   }
  }
 },
 "nbformat": 4,
 "nbformat_minor": 2
}
