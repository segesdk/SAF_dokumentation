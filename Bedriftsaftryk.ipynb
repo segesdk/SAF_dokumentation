{
 "cells": [
  {
   "cell_type": "markdown",
   "metadata": {},
   "source": [
    "# **Grisens bedriftsaftryk**\n",
    "\n",
    "## **Intro**\n",
    "\n",
    "Bedriftsaftrykket for grisen findes ved at fratrække mængden af egenproduceret korn fra grisens produktaftryk pr CHR nummer. Herefter ganges med antallet af dyr på CHR nummeret (se fig 1)\n",
    "\n",
    "\n",
    "#### **En note om egenproduceret korn**\n",
    "\n",
    "I ESGreen Tool skal brugeren oplyse _pr CHR nummer_, hvor stor en andel af kornet i deres foderblandinger, de selv dyrker. Denne andel skal nemlig trækkes fra grisens aftryk, når det opgøres på bedriftsniveau.\n",
    "I [dokumentationen](https://github.com/segesdk/SAF_dokumentation/blob/main/Egenproduceret_korn.ipynb) for egenproduceret korn ses, at aftrykket pr gris er negativt, og derfor benyttes den absolutte værdi af egenproduceret korn i formlen for B (se nedenfor).\n",
    "\n",
    "## **Beregning af bedriftsaftryk, B, _pr dyretype_**\n",
    "\n",
    "$$B = \\sum_{i=1}^{n} w_i \\cdot (\\mu P_i - |\\mu CO_2e_{korn_i}|)$$\n",
    "\n",
    "Hvor: \n",
    "* n: antallet CHR numre på bedriften, hvor dyretypen findes\n",
    "* w<sub>i</sub>: det totale antal dyr af typen på det i'te CHR nummer = input fra bruger el. værdi indlæst fra MO\n",
    "* μP<sub>i</sub>: Det gennemsnitlige produktaftryk for dyret m/u LUC på det i'te CHR nummer = Beregnes i [Produktaftryk gris](https://github.com/segesdk/SAF_dokumentation/blob/main/Produktaftryk_gris.ipynb)\n",
    "* μCO<sub>2</sub>e<sub>korn<sub>i</sub></sub>: den gennemsnitlige CO<sub>2</sub>e udledning fra egenproduceret korn på det i'te CHR nummer. Kan beregnes vha. formlen:\n",
    "\n",
    "$$\\mu CO_2e_{korn} = \\frac{\\sum_{j=1}^{n} w_j \\cdot CO_2e_{korn_j}}{\\sum_{j=1}^{n}w_j}$$\n",
    "\n",
    "Hvor:\n",
    "\n",
    "* n: antallet af stalde med den pågældende grisetype på CHR nummeret\n",
    "* CO<sub>2</sub>e<sub>korn<sub>j</sub></sub>: CO<sub>2</sub>e udledningen fra egenproduceret korn på den j'te stald = beregnes i [Egenproduceret korn](https://github.com/segesdk/SAF_dokumentation/blob/main/Egenproduceret_korn.ipynb)\n",
    "* w<sub>j</sub>: antal grise af grisetypen på den j'te stald = input fra bruger el. værdi indlæst fra MO.\n",
    "\n",
    "\n",
    "## **Det totale bedriftsaftryk**\n",
    "For at finde det totale bedriftsaftryk for CVR nummeret summeres værdien af B for samtlige grisetyper på bedriften (se fig 1)\n",
    "\n",
    "Til det samlede aftryk fra grise kan sidenhen lægges udledning fra andre produktionsgrene som f.eks. mark, fjerkræ, skov etc.\n",
    "\n",
    "___\n",
    "\n",
    "_Fig 1: Emissionskilder og beregningsrækkefølge for grisens bedriftsaftryk_ Klik [HER](https://viewer.diagrams.net/?tags=%7B%7D&highlight=0000ff&edit=_blank&layers=1&nav=1&title=Bedriftsaftryk.drawio#Uhttps%3A%2F%2Fraw.githubusercontent.com%2Fsegesdk%2FSAF_dokumentation%2Fmain%2FFlowcharts%2FBedriftsaftryk.drawio) for at se billedet i fuld opløsning\n",
    "\n",
    "![Emissionskilder og beregningsrækkefølge for grisens produktaftryk](Flowcharts/Bedriftsaftryk_gris.PNG)\n"
   ]
  }
 ],
 "metadata": {
  "kernelspec": {
   "display_name": ".NET (C#)",
   "language": "C#",
   "name": ".net-csharp"
  },
  "language_info": {
   "file_extension": ".cs",
   "mimetype": "text/x-csharp",
   "name": "C#",
   "pygments_lexer": "csharp",
   "version": "9.0"
  },
  "orig_nbformat": 4
 },
 "nbformat": 4,
 "nbformat_minor": 2
}
