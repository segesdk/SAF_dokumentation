{
 "cells": [
  {
   "attachments": {},
   "cell_type": "markdown",
   "metadata": {},
   "source": [
    "# **Grisens bedriftsaftryk**\n",
    "\n",
    "## **Intro**\n",
    "\n",
    "Bedriftsaftrykket for grisen findes ved at fratrække mængden af egenproduceret korn fra grisens produktaftryk pr CHR nummer samt tillægge mængden af evt. importeret strøelse pr CHR nummer. Herefter ganges med antallet af dyr på CHR nummeret (se fig 1)\n",
    "\n",
    "\n",
    "#### **En note om egenproduceret korn**\n",
    "\n",
    "I ESGreen Tool skal brugeren oplyse _pr CHR nummer_, hvor stor en andel af kornet i deres foderblandinger, de selv dyrker. Denne andel skal nemlig trækkes fra bedriftens klimaaftryk. Dette skyldes, at klimaaftrykket fra det korn, bedriften selv producerer, allerede medregnes i opgørelsen for planteproduktionen.\n",
    "\n",
    "I [dokumentationen](https://github.com/segesdk/SAF_dokumentation/blob/main/Egenproduceret_korn.ipynb) for egenproduceret korn ses, at aftrykket pr dyr er negativt, og derfor benyttes den absolutte værdi af egenproduceret korn i formlen for B (se nedenfor).\n",
    "\n",
    "## **Beregning af bedriftsaftryk, B, _pr dyretype_**\n",
    "\n",
    "$$B = \\sum_{i=1}^{n} w_i \\cdot (\\mu P_i - |CO_2e_{korn_i}|)$$\n",
    "\n",
    "Hvor: \n",
    "* n: antallet CHR numre på bedriften, hvor dyretypen findes\n",
    "* w<sub>i</sub>: det totale antal dyr af typen på det i'te CHR nummer = input fra bruger el. værdi indlæst fra MO\n",
    "* μP<sub>i</sub>: Det gennemsnitlige produktaftryk for dyret m/u LUC på det i'te CHR nummer = beregnes i [Produktaftryk gris](https://github.com/segesdk/SAF_dokumentation/blob/main/Produktaftryk_gris.ipynb)\n",
    "* CO<sub>2</sub>e<sub>korn<sub>i</sub></sub>: CO<sub>2</sub>e udledningen fra egenproduceret korn på det i'te CHR nummer = beregnes i [Egenproduceret korn](https://github.com/segesdk/SAF_dokumentation/blob/main/Egenproduceret_korn.ipynb)\n",
    "\n",
    "\n",
    "## **Det totale bedriftsaftryk**\n",
    "For at finde det totale bedriftsaftryk for grise på CVR nummeret summeres værdien af B for samtlige grisetyper på bedriften og summen af [importeret halm](https://github.com/segesdk/SAF_dokumentation/blob/main/Importeret_halm.ipynb) lægges til (se fig 1)\n",
    "\n",
    "Til det samlede aftryk fra grise kan sidenhen lægges udledning fra andre produktionsgrene som f.eks. mark, fjerkræ, skov etc.\n",
    "\n",
    "___\n",
    "\n",
    "_Fig 1: Emissionskilder og beregningsrækkefølge for grisens bedriftsaftryk_ Klik [HER](https://viewer.diagrams.net/?tags=%7B%7D&highlight=0000ff&edit=_blank&layers=1&nav=1&title=Bedriftsaftryk.drawio#Uhttps%3A%2F%2Fraw.githubusercontent.com%2Fsegesdk%2FSAF_dokumentation%2Fmain%2FFlowcharts%2FBedriftsaftryk.drawio) for at se billedet i fuld opløsning\n",
    "\n",
    "![Emissionskilder og beregningsrækkefølge for grisens produktaftryk](Flowcharts/Bedriftsaftryk_gris.PNG)\n"
   ]
  }
 ],
 "metadata": {
  "kernelspec": {
   "display_name": ".NET (C#)",
   "language": "C#",
   "name": ".net-csharp"
  },
  "language_info": {
   "name": "polyglot-notebook"
  },
  "polyglot_notebook": {
   "kernelInfo": {
    "defaultKernelName": "csharp",
    "items": [
     {
      "aliases": [],
      "name": ".NET"
     },
     {
      "aliases": [
       "C#",
       "c#"
      ],
      "languageName": "C#",
      "name": "csharp"
     },
     {
      "aliases": [
       "F#",
       "f#"
      ],
      "languageName": "F#",
      "name": "fsharp"
     },
     {
      "aliases": [],
      "languageName": "HTML",
      "name": "html"
     },
     {
      "aliases": [
       "js"
      ],
      "languageName": "JavaScript",
      "name": "javascript"
     },
     {
      "aliases": [],
      "languageName": "KQL",
      "name": "kql"
     },
     {
      "aliases": [],
      "languageName": "Mermaid",
      "name": "mermaid"
     },
     {
      "aliases": [
       "powershell"
      ],
      "languageName": "PowerShell",
      "name": "pwsh"
     },
     {
      "aliases": [],
      "languageName": "SQL",
      "name": "sql"
     },
     {
      "aliases": [],
      "name": "value"
     },
     {
      "aliases": [
       "frontend"
      ],
      "name": "vscode"
     },
     {
      "aliases": [],
      "name": "webview"
     }
    ]
   }
  }
 },
 "nbformat": 4,
 "nbformat_minor": 2
}
