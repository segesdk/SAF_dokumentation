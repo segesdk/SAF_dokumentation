{
 "cells": [
  {
   "cell_type": "markdown",
   "metadata": {},
   "source": [
    "# **Indirekte N<sub>2</sub>0 (N<sub>2</sub>) på grisestald- og lager**\n",
    "\n",
    "## **Stald**\n",
    "\n",
    "### **Beregning af indirekte N<sub>2</sub>0 (N<sub>2</sub>) på stald** \n",
    "\n",
    "$$ N_{2stald} = TAN_N \\cdot Tab_{N_2stald} \\cdot VM_{N_2stald} $$\n",
    "\n",
    "Hvor: \n",
    "\n",
    " * Tab<sub>N<sub>2</sub>stald</sub>: Indirekte N<sub>2</sub>O tab i stalden = [Tabelværdi](https://seges.sharepoint.com/:x:/r/sites/SAFprojeketet/_layouts/15/Doc.aspx?sourcedoc=%7B55DC573E-DF3A-4BB4-BA90-49438C005785%7D&file=Formler%20til%20PORK%202.0%20med%20foderberegner.xlsx&activeCell=%27Formler%20NH3%20og%20N2O%20-stald%201%27!I56&action=embedview) [% af N ab dyr]\n",
    " * VM<sub>N<sub>2</sub>stald</sub>: Effekten af evt. valgte virkemidler på stalden = [Tabelværdi](https://seges.sharepoint.com/:x:/r/sites/SAFprojeketet/_layouts/15/Doc.aspx?sourcedoc=%7B55DC573E-DF3A-4BB4-BA90-49438C005785%7D&file=Formler%20til%20PORK%202.0%20med%20foderberegner.xlsx&activeCell=%27Virkemidler%20%27!C26&action=embedview)\n",
    "\n",
    "### **Beregning af kg TAN<sub>N</sub> ab gris, afhænger af dyretypen:**\n",
    "\n",
    ">Slagtegris (konv. + øko) + FRATS + smågrise (konv. + øko)  \n",
    "\n",
    "$$ TAN_N = \\frac{\\frac{T \\cdot F \\cdot R \\cdot K}{P}-T \\cdot N}{1000}$$\n",
    "\n",
    "Hvor tilvæksten, T, beregnes for hhv. slagte/FRATSgrise og smågrise:\n",
    "\n",
    "$$ T_{slagt+FRATS} = V_{slagt}  \\cdot \\Delta_d - V_{ind}$$\n",
    "\n",
    "\n",
    "$$ T_{smågris} = V_{ud} - V_{ind} $$\n",
    "\n",
    ">Årssøer, løbe-og drætighedsstalden, konv + øko \n",
    "\n",
    "$$TAN_N = (\\frac{\\frac{F \\cdot X_{løb} \\cdot R \\cdot K}{1000}}{P} - k_{so} \\cdot X_{løb} - \\frac{(V_{ind} \\cdot V_{ud}) \\cdot X_{løb} \\cdot N_{pat}}{1000})$$\n",
    "\n",
    ">Årssøer, farestald, konv + øko \n",
    "\n",
    "$$TAN_N = (\\frac{\\frac{F \\cdot X_{fare} \\cdot R \\cdot K}{1000}}{P} - k_{so} \\cdot X_{fare} - \\frac{(V_{ind} \\cdot V_{ud}) \\cdot X_{fare} \\cdot N_{pat}}{1000})$$\n",
    "\n",
    "\n",
    "\n",
    "Hvor:\n",
    " * F: Foder = input fra bruger el. [Tabelværdi](https://seges.sharepoint.com/:x:/r/sites/SAFprojeketet/_layouts/15/Doc.aspx?sourcedoc=%7B55DC573E-DF3A-4BB4-BA90-49438C005785%7D&file=Formler%20til%20PORK%202.0%20med%20foderberegner.xlsx&activeCell=%27Formler%20NH3%20og%20N2O%20-stald%201%27!N2&action=embedview) [FEsv pr kg tilvækst/FEso pr so]\n",
    " * R: Råprotein = input fra bruger el. [Tabelværdi](https://seges.sharepoint.com/:x:/r/sites/SAFprojeketet/_layouts/15/Doc.aspx?sourcedoc=%7B55DC573E-DF3A-4BB4-BA90-49438C005785%7D&file=Formler%20til%20PORK%202.0%20med%20foderberegner.xlsx&activeCell=%27Formler%20NH3%20og%20N2O%20-stald%201%27!O2&action=embedview) [g pr foderenhed]\n",
    " * K: FordøjelighedsKoefficient = [Tabelværdi](https://seges.sharepoint.com/:x:/r/sites/SAFprojeketet/_layouts/15/Doc.aspx?sourcedoc=%7B55DC573E-DF3A-4BB4-BA90-49438C005785%7D&file=Formler%20til%20PORK%202.0%20med%20foderberegner.xlsx&activeCell=%27Formler%20NH3%20og%20N2O%20-stald%201%27!U2&action=embedview)\n",
    " * P: Protein til N = [Standardtal](https://seges.sharepoint.com/:x:/r/sites/SAFprojeketet/_layouts/15/Doc.aspx?sourcedoc=%7B55DC573E-DF3A-4BB4-BA90-49438C005785%7D&file=Formler%20til%20PORK%202.0%20med%20foderberegner.xlsx&activeCell=%27Formler%20NH3%20og%20N2O%20-stald%201%27!C107&action=embedview)\n",
    " * N: N i dyret = [Tabelværdi](https://seges.sharepoint.com/:x:/r/sites/SAFprojeketet/_layouts/15/Doc.aspx?sourcedoc=%7B55DC573E-DF3A-4BB4-BA90-49438C005785%7D&file=Formler%20til%20PORK%202.0%20med%20foderberegner.xlsx&activeCell=%27Formler%20NH3%20og%20N2O%20-stald%201%27!Q2&action=embedview) [g N pr kg tilvækst]\n",
    " * k<sub>so</sub>: Korrektionsfaktor for soen [Standardtal konv.](https://seges.sharepoint.com/:x:/r/sites/SAFprojeketet/_layouts/15/Doc.aspx?sourcedoc=%7B55DC573E-DF3A-4BB4-BA90-49438C005785%7D&file=Formler%20til%20PORK%202.0%20med%20foderberegner.xlsx&activeCell=%27Formler%20NH3%20og%20N2O%20-stald%201%27!C112&action=embedview) / [Standardtal øko](https://seges.sharepoint.com/:x:/r/sites/SAFprojeketet/_layouts/15/Doc.aspx?sourcedoc=%7B55DC573E-DF3A-4BB4-BA90-49438C005785%7D&file=Formler%20til%20PORK%202.0%20med%20foderberegner.xlsx&activeCell=%27Formler%20NH3%20og%20N2O%20-stald%201%27!C116&action=embedview)\n",
    " * V<sub>ud</sub>: Vægt ved afgang el. salg el. fravænning = input fra bruger el. [Tabelværdi](https://seges.sharepoint.com/:x:/r/sites/SAFprojeketet/_layouts/15/Doc.aspx?sourcedoc=%7B55DC573E-DF3A-4BB4-BA90-49438C005785%7D&file=Formler%20til%20PORK%202.0%20med%20foderberegner.xlsx&activeCell=%27Formler%20NH3%20og%20N2O%20-stald%201%27!L2&action=embedview) [kg]\n",
    " * V<sub>slagt</sub>: Slagtevægt = input fra bruger el. [Tabelværdi](https://seges.sharepoint.com/:x:/r/sites/SAFprojeketet/_layouts/15/Doc.aspx?sourcedoc=%7B55DC573E-DF3A-4BB4-BA90-49438C005785%7D&file=Formler%20til%20PORK%202.0%20med%20foderberegner.xlsx&activeCell=%27Formler%20NH3%20og%20N2O%20-stald%201%27!K2&action=embedview) [kg]\n",
    " * Δ<sub>d</sub> = 1,31\n",
    " * V<sub>ind</sub>: Indsættelsesvægt el. grise pr årsso = input fra bruger el. [Tabelværdi](https://seges.sharepoint.com/:x:/r/sites/SAFprojeketet/_layouts/15/Doc.aspx?sourcedoc=%7B55DC573E-DF3A-4BB4-BA90-49438C005785%7D&file=Formler%20til%20PORK%202.0%20med%20foderberegner.xlsx&activeCell=%27Formler%20NH3%20og%20N2O%20-stald%201%27!J2&action=embedview) [kg]\n",
    " * X<sub>løb</sub>  = 0,7 for konv / 0,5 for øko\n",
    " * X<sub>fare</sub>  = 0,3 for konv / 0,5 for øko\n",
    " * N<sub>pat</sub>: N i pattegrisen = [Tabelværdi](https://seges.sharepoint.com/:x:/r/sites/SAFprojeketet/_layouts/15/Doc.aspx?sourcedoc=%7B55DC573E-DF3A-4BB4-BA90-49438C005785%7D&file=Formler%20til%20PORK%202.0%20med%20foderberegner.xlsx&activeCell=%27Formler%20NH3%20og%20N2O%20-stald%201%27!R2&action=embedview) [g N pr kg tilvækst]\n",
    "\n",
    "### **Omregning til CO<sub>2</sub>e:**\n",
    "\n",
    "$$CO_2e = N_{2stald} \\cdot \\frac{44}{28} \\cdot 0,01 \\cdot \\theta_{N_2O-CO_2} $$\n",
    "\n",
    "Hvor: \n",
    "\n",
    " * $\\theta$ N<sub>2</sub>O-CO<sub>2</sub></sub>: Omregningsfaktor N<sub>2</sub>O til CO<sub>2</sub> = [Standardtal](https://seges.sharepoint.com/:x:/r/sites/SAFprojeketet/_layouts/15/Doc.aspx?sourcedoc=%7B55DC573E-DF3A-4BB4-BA90-49438C005785%7D&file=Formler%20til%20PORK%202.0%20med%20foderberegner.xlsx&activeCell=%27Enterisk%20metan%2Bsoallokering%27!C2&action=embedview)\n",
    "\n",
    "____\n",
    "\n",
    "## **Lager**\n",
    "\n",
    "### **Beregning af indirekte N<sub>2</sub>0 (N<sub>2</sub>) på lager** \n",
    "\n",
    "*NB for staldtyperne \"faremark\", \"friland\" og \"udendørs\" tilføres der ikke noget til lageret og værdien af N<sub>2lager</sub> = 0*\n",
    "\n",
    "$$N_{2lager} = (TAN_N - N_{2stald}) \\cdot Tab_{N_2lager} \\cdot VM_{N_2lager} $$\n",
    "\n",
    "\n",
    "Hvor: \n",
    "\n",
    " * Tab<sub>N<sub>2</sub>lager</sub>: Indirekte N2O tab på lageret = [Tabelværdi](https://seges.sharepoint.com/:x:/r/sites/SAFprojeketet/_layouts/15/Doc.aspx?sourcedoc=%7B55DC573E-DF3A-4BB4-BA90-49438C005785%7D&file=Formler%20til%20PORK%202.0%20med%20foderberegner.xlsx&activeCell=%27Formler%20NH3%20og%20N2O%20-stald%201%27!J56&action=embedview) [% af N ab dyr]\n",
    " * VM<sub>N<sub>2</sub>lager</sub>: Effekten af evt. valgte virkemidler på lageret = [Tabelværdi](https://seges.sharepoint.com/:x:/r/sites/SAFprojeketet/_layouts/15/Doc.aspx?sourcedoc=%7B55DC573E-DF3A-4BB4-BA90-49438C005785%7D&file=Formler%20til%20PORK%202.0%20med%20foderberegner.xlsx&activeCell=%27Virkemidler%20%27!E26&action=embedview)\n",
    "\n",
    "### **Omregning til CO<sub>2</sub>e:**\n",
    "\n",
    "$$CO_2e = N_{2lager}  \\cdot \\frac{44}{28} \\cdot 0,01 \\cdot \\theta_{N_2O-CO_2} $$\n",
    "\n",
    "Hvor: \n",
    "\n",
    " * $\\theta$ N<sub>2</sub>O-CO<sub>2</sub></sub>: Omregningsfaktor N<sub>2</sub>O til CO<sub>2</sub> = [Standardtal](https://seges.sharepoint.com/:x:/r/sites/SAFprojeketet/_layouts/15/Doc.aspx?sourcedoc=%7B55DC573E-DF3A-4BB4-BA90-49438C005785%7D&file=Formler%20til%20PORK%202.0%20med%20foderberegner.xlsx&activeCell=%27Enterisk%20metan%2Bsoallokering%27!C2&action=embedview)\n",
    "\n",
    " ____"
   ]
  },
  {
   "cell_type": "markdown",
   "metadata": {},
   "source": [
    "# **Testcases**\n",
    "\n",
    "Hvis du selv vil lege med beregningerne i testcases kan du køre notebooken i google colab [HER](https://colab.research.google.com/github/segesdk/SAF_dokumentation/blob/main/N2_Stald_Lager.ipynb) (kræver login på din google konto)\n",
    "\n",
    "## **Stald**"
   ]
  },
  {
   "cell_type": "code",
   "execution_count": null,
   "metadata": {
    "dotnet_interactive": {
     "language": "csharp"
    },
    "vscode": {
     "languageId": "dotnet-interactive.csharp"
    }
   },
   "outputs": [],
   "source": [
    "// konstanter - nix pille\n",
    "double P = 6.25;\n",
    "double k_so = 1.98;\n",
    "double Delta_d = 1.31;\n",
    "double theta_N2O_CO2 = 298;\n",
    "double X_lob = 0.7;\n",
    "double X_fare = 0.3;"
   ]
  },
  {
   "cell_type": "markdown",
   "metadata": {},
   "source": [
    "**Slagte/FRATS grise**"
   ]
  },
  {
   "cell_type": "code",
   "execution_count": null,
   "metadata": {
    "dotnet_interactive": {
     "language": "csharp"
    },
    "vscode": {
     "languageId": "dotnet-interactive.csharp"
    }
   },
   "outputs": [
    {
     "name": "stdout",
     "output_type": "stream",
     "text": [
      "N2 for slagtegrise/FRATSgrise: 0,08669316464640005\r\n",
      "Omregnet til N2O: 0,0013623211587291436\r\n",
      "Omregnet til CO2e: 0,4059717053012848\r\n"
     ]
    }
   ],
   "source": [
    "// Input - Test andre scenarier, ved at ændre i input-værdierne herunder\n",
    "double V_slagt = 88;\n",
    "double V_ind = 30;\n",
    "double F = 2.75;\n",
    "double R = 144;\n",
    "double K = 0.81;\n",
    "double N = 29.6;\n",
    "double Tab_N2_stald = 0.13;\n",
    "double VM_N2_stald = 0.36;\n",
    "\n",
    "// Beregning\n",
    "double T = V_slagt * Delta_d - V_ind;\n",
    "double TAN_N_slagt = ((T * F * R * K / P) - T * N) / 1000.0;\n",
    "double N2_stald_slagt = TAN_N_slagt * Tab_N2_stald * VM_N2_stald;\n",
    "Console.WriteLine($\"N2 for slagtegrise/FRATSgrise: {N2_stald_slagt}\");\n",
    "Console.WriteLine($\"Omregnet til N2O: {N2_stald_slagt * 44.0 / 28.0 * 0.01}\");\n",
    "Console.WriteLine($\"Omregnet til CO2e: {N2_stald_slagt * 44.0 / 28.0 * 0.01 * theta_N2O_CO2}\");"
   ]
  },
  {
   "cell_type": "markdown",
   "metadata": {},
   "source": [
    "**Smågrise**"
   ]
  },
  {
   "cell_type": "code",
   "execution_count": null,
   "metadata": {
    "dotnet_interactive": {
     "language": "csharp"
    },
    "vscode": {
     "languageId": "dotnet-interactive.csharp"
    }
   },
   "outputs": [
    {
     "name": "stdout",
     "output_type": "stream",
     "text": [
      "N2 for smågrise: 0,015695387136\r\n",
      "Omregnet til N2O: 0,0002466417978514286\r\n",
      "Omregnet til CO2e: 0,07349925575972573\r\n"
     ]
    }
   ],
   "source": [
    "//Input - Test andre scenarier, ved at ændre i input-værdierne herunder\n",
    "double V_ud = 30;\n",
    "double V_ind = 6.6;\n",
    "double F = 1.86;\n",
    "double R = 146;\n",
    "double K = 0.84;\n",
    "double N = 30.4;\n",
    "double Tab_N2_stald = 0.11;\n",
    "double VM_N2_stald = 1;\n",
    "\n",
    "// Beregning\n",
    "double T = V_ud - V_ind;\n",
    "double TAN_N_smaa = ((T * F * R * K / P) - T * N) / 1000.0;\n",
    "double N2_stald_smaa = TAN_N_smaa * Tab_N2_stald * VM_N2_stald;\n",
    "Console.WriteLine($\"N2 for smågrise: {N2_stald_smaa}\");\n",
    "Console.WriteLine($\"Omregnet til N2O: {N2_stald_smaa * 44.0 / 28.0 * 0.01}\");\n",
    "Console.WriteLine($\"Omregnet til CO2e: {N2_stald_smaa * 44.0 / 28.0 * 0.01 * theta_N2O_CO2}\");"
   ]
  },
  {
   "cell_type": "markdown",
   "metadata": {},
   "source": [
    "**Årssøer - løbe og drægtighedsstald**"
   ]
  },
  {
   "cell_type": "code",
   "execution_count": null,
   "metadata": {
    "dotnet_interactive": {
     "language": "csharp"
    },
    "vscode": {
     "languageId": "dotnet-interactive.csharp"
    }
   },
   "outputs": [
    {
     "name": "stdout",
     "output_type": "stream",
     "text": [
      "N2 for årssøer - løbe og dræftighedsstald: 1,6420063295999998\r\n",
      "Omregnet til N2O: 0,025802956608\r\n",
      "Omregnet til CO2e: 7,689281069184\r\n"
     ]
    }
   ],
   "source": [
    "// Input - Test andre scenarier, ved at ændre i input-værdierne herunder\n",
    "double V_ud = 6.4;\n",
    "double V_ind = 33.9;\n",
    "double F = 1497;\n",
    "double R = 133.6;\n",
    "double K = 0.8;\n",
    "double N_pat = 25.7;\n",
    "double Tab_N2_stald = 0.13;\n",
    "double VM_N2_stald = 1;\n",
    "\n",
    "// Beregning\n",
    "double TAN_N_aar_lob = (F * X_lob * R * K / 1000.0 / P) - k_so * X_lob - (V_ind * V_ud * X_lob * N_pat / 1000.0);\n",
    "double N2_stald_aar_lob = TAN_N_aar_lob * Tab_N2_stald * VM_N2_stald;\n",
    "Console.WriteLine($\"N2 for årssøer - løbe og dræftighedsstald: {N2_stald_aar_lob}\");\n",
    "Console.WriteLine($\"Omregnet til N2O: {N2_stald_aar_lob * 44.0 / 28.0 * 0.01}\");\n",
    "Console.WriteLine($\"Omregnet til CO2e: {N2_stald_aar_lob * 44.0 / 28.0 * 0.01 * theta_N2O_CO2}\");"
   ]
  },
  {
   "cell_type": "markdown",
   "metadata": {},
   "source": [
    "**Årssøer - faremarken**"
   ]
  },
  {
   "cell_type": "code",
   "execution_count": null,
   "metadata": {
    "dotnet_interactive": {
     "language": "csharp"
    },
    "vscode": {
     "languageId": "dotnet-interactive.csharp"
    }
   },
   "outputs": [
    {
     "name": "stdout",
     "output_type": "stream",
     "text": [
      "N2 for årssøer - faremarken: 0,7037169983999999\r\n",
      "Omregnet til N2O: 0,011058409974857143\r\n",
      "Omregnet til CO2e: 3,2954061725074286\r\n"
     ]
    }
   ],
   "source": [
    "// Input - Test andre scenarier, ved at ændre i input-værdierne herunder\n",
    "double V_ud = 6.4;\n",
    "double V_ind = 33.9;\n",
    "double F = 1497;\n",
    "double R = 133.6;\n",
    "double K = 0.8;\n",
    "double N_pat = 25.7;\n",
    "double Tab_N2_stald = 0.13;\n",
    "double VM_N2_stald = 1;\n",
    "\n",
    "// Beregning\n",
    "double TAN_N_aar_fare = (F * X_fare * R * K / 1000.0 / P) - k_so * X_fare - (V_ind * V_ud * X_fare * N_pat / 1000.0);\n",
    "double N2_stald_aar_fare = TAN_N_aar_fare * Tab_N2_stald * VM_N2_stald;\n",
    "Console.WriteLine($\"N2 for årssøer - faremarken: {N2_stald_aar_fare}\");\n",
    "Console.WriteLine($\"Omregnet til N2O: {N2_stald_aar_fare * 44.0 / 28.0 * 0.01}\");\n",
    "Console.WriteLine($\"Omregnet til CO2e: {N2_stald_aar_fare * 44.0 / 28.0 * 0.01 * theta_N2O_CO2}\");"
   ]
  },
  {
   "cell_type": "markdown",
   "metadata": {},
   "source": [
    "## **Lager**\n",
    "\n",
    "Lagerberegninger er de samme for alle dyretyper - her er givet to eksempler på hhv. slagtegrise og smågrise\n",
    "\n",
    "*NB for staldtyperne \"faremark\", \"friland\" og \"udendørs\" tilføres der ikke noget til lageret og værdien af N<sub>2lager</sub> = 0*\n",
    "\n",
    "**Slagte/FRATSgrise**"
   ]
  },
  {
   "cell_type": "code",
   "execution_count": null,
   "metadata": {
    "dotnet_interactive": {
     "language": "csharp"
    },
    "vscode": {
     "languageId": "dotnet-interactive.csharp"
    }
   },
   "outputs": [
    {
     "name": "stdout",
     "output_type": "stream",
     "text": [
      "N2 for slagtegrise/FRATSgrise: 0,015255862992175111\r\n",
      "Omregnet til N2O: 0,00023973498987703745\r\n",
      "Omregnet til CO2e: 0,07144102698335716\r\n"
     ]
    }
   ],
   "source": [
    "// Input - Test andre scenarier, ved at ændre i input-værdierne herunder\n",
    "double Tab_N2_lager = 0.024;\n",
    "double VM_N2_lager = 0.3600;\n",
    "\n",
    "// Beregning\n",
    "double N2_lager = (TAN_N_slagt - N2_stald_slagt) * Tab_N2_lager * VM_N2_lager;\n",
    "Console.WriteLine($\"N2 for slagtegrise/FRATSgrise: {N2_lager}\");\n",
    "Console.WriteLine($\"Omregnet til N2O: {N2_lager * 44 / 28 * 0.01}\");\n",
    "Console.WriteLine($\"Omregnet til CO2e: {N2_lager * 44 / 28 * 0.01 * theta_N2O_CO2}\");"
   ]
  },
  {
   "cell_type": "markdown",
   "metadata": {},
   "source": [
    "**Smågrise**"
   ]
  },
  {
   "cell_type": "code",
   "execution_count": null,
   "metadata": {
    "dotnet_interactive": {
     "language": "csharp"
    },
    "vscode": {
     "languageId": "dotnet-interactive.csharp"
    }
   },
   "outputs": [
    {
     "name": "stdout",
     "output_type": "stream",
     "text": [
      "N2 for smågrise: 0,0031747487616000008\r\n",
      "Omregnet til N2O: 4,535355373714287E-06\r\n",
      "Omregnet til CO2e: 0,014866894915035433\r\n"
     ]
    }
   ],
   "source": [
    "// Input - Test andre scenarier, ved at ændre i input-værdierne herunder\n",
    "double Tab_N2_lager = 0.025;\n",
    "double VM_N2_lager = 1;\n",
    "\n",
    "// Beregning\n",
    "double N2_lager = (TAN_N_smaa - N2_stald_smaa) * Tab_N2_lager * VM_N2_lager;\n",
    "Console.WriteLine($\"N2 for smågrise: {N2_lager}\");\n",
    "Console.WriteLine($\"Omregnet til N2O: {N2_lager * 4 / 28 * 0.01}\");\n",
    "Console.WriteLine($\"Omregnet til CO2e: {N2_lager * 44 / 28 * 0.01 * theta_N2O_CO2}\");"
   ]
  }
 ],
 "metadata": {
  "kernelspec": {
   "display_name": ".NET (C#)",
   "language": "C#",
   "name": ".net-csharp"
  },
  "language_info": {
   "file_extension": ".cs",
   "mimetype": "text/x-csharp",
   "name": "C#",
   "pygments_lexer": "csharp",
   "version": "9.0"
  },
  "orig_nbformat": 4,
  "vscode": {
   "interpreter": {
    "hash": "bdf001e0a405e8b8504014542464f4868d6e9f604bb794366dc2b084054cc945"
   }
  }
 },
 "nbformat": 4,
 "nbformat_minor": 2
}
