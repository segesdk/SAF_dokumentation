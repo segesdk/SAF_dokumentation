{
 "cells": [
  {
   "attachments": {},
   "cell_type": "markdown",
   "metadata": {},
   "source": [
    "# **Indirekte N<sub>2</sub>0 (N<sub>2</sub>) på grisestald- og lager**\n",
    "\n",
    "## **Stald**\n",
    "\n",
    "### **Beregning af indirekte N<sub>2</sub>0 (N<sub>2</sub>) på stald** \n",
    "\n",
    "$$ N_{2stald} = TAN_N \\cdot Tab_{N_2stald} \\cdot VM_{N_2stald} $$\n",
    "\n",
    "Hvor: \n",
    "\n",
    " * Tab<sub>N<sub>2</sub>stald</sub>: Indirekte N<sub>2</sub>O tab i stalden = [Tabelværdi](https://seges.sharepoint.com/:x:/r/sites/SAFprojeketet/_layouts/15/Doc.aspx?sourcedoc=%7B0C95A002-A20E-4641-95BE-18B1560D7CE2%7D&file=PigData.xlsx&activeCell=HousingSystems!H1&action=embedview) [% af N ab dyr]\n",
    " * VM<sub>N<sub>2</sub>stald</sub>: Effekten af evt. valgte virkemidler på stalden = [Tabelværdi](https://seges.sharepoint.com/:x:/r/sites/SAFprojeketet/_layouts/15/Doc.aspx?sourcedoc=%7B0C95A002-A20E-4641-95BE-18B1560D7CE2%7D&file=PigData.xlsx&activeCell=ClimateMeasures!C1&action=embedview)\n",
    "\n",
    "### **Beregning af kg TAN<sub>N</sub> ab gris, afhænger af dyretypen:**\n",
    "\n",
    ">Slagtegris (konv. + øko) + FRATS + smågrise (konv. + øko)  \n",
    "\n",
    "$$ TAN_N = \\frac{\\frac{T \\cdot F \\cdot \\frac{R}{Fe} \\cdot K}{P_N}-T \\cdot N}{1000}$$\n",
    "\n",
    "Hvor tilvæksten, T, beregnes for hhv. slagte/FRATSgrise og smågrise:\n",
    "\n",
    "$$ T_{slagt+FRATS} = V_{slagt}  \\cdot \\Delta_d - V_{ind}$$\n",
    "\n",
    "\n",
    "$$ T_{smågris} = V_{ud} - V_{ind} $$\n",
    "\n",
    ">Årssøer, løbe-og drætighedsstalden, konv + øko \n",
    "\n",
    "$$TAN_N = \\frac{\\frac{F \\cdot X_{løb} \\cdot \\frac{R}{Fe} \\cdot K}{1000}}{P_N} - N_{so} \\cdot X_{løb} - \\frac{(G \\cdot V_{ud}) \\cdot X_{løb} \\cdot N}{1000}$$\n",
    "\n",
    ">Årssøer, farestald, konv + øko \n",
    "\n",
    "$$TAN_N = \\frac{\\frac{F \\cdot X_{fare} \\cdot \\frac{R}{Fe} \\cdot K}{1000}}{P_N} - N_{so} \\cdot X_{fare} - \\frac{(G \\cdot V_{ud}) \\cdot X_{fare} \\cdot N}{1000}$$\n",
    "\n",
    "\n",
    "\n",
    "Hvor:\n",
    " * F: Foder = input fra bruger el. [Tabelværdi](https://seges.sharepoint.com/:x:/r/sites/SAFprojeketet/_layouts/15/Doc.aspx?sourcedoc=%7B0C95A002-A20E-4641-95BE-18B1560D7CE2%7D&file=PigData.xlsx&activeCell=AnimalTypes!G1&action=embedview) [FEsv pr kg tilvækst/FEso pr so]\n",
    " * R: Råprotein = input fra bruger el. [Tabelværdi](https://seges.sharepoint.com/:x:/r/sites/SAFprojeketet/_layouts/15/Doc.aspx?sourcedoc=%7B0C95A002-A20E-4641-95BE-18B1560D7CE2%7D&file=PigData.xlsx&activeCell=AnimalTypes!Z1&action=embedview) [g pr kg foder]\n",
    " * Fe: Foderenheder = input fra bruger el. [Tabelværdi](https://seges.sharepoint.com/:x:/r/sites/SAFprojeketet/_layouts/15/Doc.aspx?sourcedoc=%7B0C95A002-A20E-4641-95BE-18B1560D7CE2%7D&file=PigData.xlsx&activeCell=AnimalTypes!J1&action=embedview) [FE pr kg foder]\n",
    " * K: FordøjelighedsKoefficient = [Tabelværdi](https://seges.sharepoint.com/:x:/r/sites/SAFprojeketet/_layouts/15/Doc.aspx?sourcedoc=%7B0C95A002-A20E-4641-95BE-18B1560D7CE2%7D&file=PigData.xlsx&activeCell=AnimalTypes!AB1&action=embedview)\n",
    " * P<sub>N</sub>: Protein til N = [Standardtal](https://seges.sharepoint.com/:x:/r/sites/SAFprojeketet/_layouts/15/Doc.aspx?sourcedoc=%7B55DC573E-DF3A-4BB4-BA90-49438C005785%7D&file=Formler%20til%20PORK%202.0%20med%20foderberegner.xlsx&activeCell=%27Formler%20NH3%20og%20N2O%20-stald%201%27!C107&action=embedview)\n",
    " * N: N i dyret/pattegrisen = [Tabelværdi](https://seges.sharepoint.com/:x:/r/sites/SAFprojeketet/_layouts/15/Doc.aspx?sourcedoc=%7B0C95A002-A20E-4641-95BE-18B1560D7CE2%7D&file=PigData.xlsx&activeCell=AnimalTypes!AA1&action=embedview) [g N pr kg tilvækst]\n",
    " * N<sub>so</sub>: N i soen [Tabelværdi](https://seges.sharepoint.com/:x:/r/sites/SAFprojeketet/_layouts/15/Doc.aspx?sourcedoc=%7B0C95A002-A20E-4641-95BE-18B1560D7CE2%7D&file=PigData.xlsx&activeCell=AnimalTypes!AC1&action=embedview) [kg N pr so]\n",
    " * V<sub>ud</sub>: Vægt ved afgang el. salg el. fravænning = input fra bruger el. [Tabelværdi](https://seges.sharepoint.com/:x:/r/sites/SAFprojeketet/_layouts/15/Doc.aspx?sourcedoc=%7B0C95A002-A20E-4641-95BE-18B1560D7CE2%7D&file=PigData.xlsx&activeCell=AnimalTypes!F1&action=embedview) [kg]\n",
    " * V<sub>slagt</sub>: Slagtevægt = input fra bruger el. [Tabelværdi](https://seges.sharepoint.com/:x:/r/sites/SAFprojeketet/_layouts/15/Doc.aspx?sourcedoc=%7B0C95A002-A20E-4641-95BE-18B1560D7CE2%7D&file=PigData.xlsx&activeCell=AnimalTypes!E1&action=embedview) [kg]\n",
    " * Δ<sub>d</sub> = 1,31\n",
    " * V<sub>ind</sub>: Indsættelsesvægt = input fra bruger el. [Tabelværdi](https://seges.sharepoint.com/:x:/r/sites/SAFprojeketet/_layouts/15/Doc.aspx?sourcedoc=%7B0C95A002-A20E-4641-95BE-18B1560D7CE2%7D&file=PigData.xlsx&activeCell=AnimalTypes!D1&action=embedview) [kg]\n",
    "* G: Grise pr årsso = input fra bruger el. [Tabelværdi](https://seges.sharepoint.com/:x:/r/sites/SAFprojeketet/_layouts/15/Doc.aspx?sourcedoc=%7B0C95A002-A20E-4641-95BE-18B1560D7CE2%7D&file=PigData.xlsx&activeCell=AnimalTypes!C1&action=embedview)\n",
    " * X<sub>løb</sub>  = 0,7 for konv / 0,5 for øko\n",
    " * X<sub>fare</sub>  = 0,3 for konv / 0,5 for øko\n",
    "\n",
    "### **Omregning til CO<sub>2</sub>e:**\n",
    "\n",
    "$$CO_2e = N_{2stald} \\cdot \\frac{44}{28} \\cdot 0,01 \\cdot \\theta_{N_2O-CO_2} $$\n",
    "\n",
    "Hvor: \n",
    "\n",
    " * $\\theta$ N<sub>2</sub>O-CO<sub>2</sub></sub>: Omregningsfaktor N<sub>2</sub>O til CO<sub>2</sub> = [Standardtal](https://seges.sharepoint.com/:x:/r/sites/SAFprojeketet/_layouts/15/Doc.aspx?sourcedoc=%7B55DC573E-DF3A-4BB4-BA90-49438C005785%7D&file=Formler%20til%20PORK%202.0%20med%20foderberegner.xlsx&activeCell=%27Enterisk%20metan%2Bsoallokering%27!C2&action=embedview)\n",
    "\n",
    "____\n",
    "\n",
    "## **Lager**\n",
    "\n",
    "### **Beregning af indirekte N<sub>2</sub>0 (N<sub>2</sub>) på lager** \n",
    "\n",
    "*NB for staldtyperne \"faremark\", \"friland\" og \"udendørs\" tilføres der ikke noget til lageret og værdien af N<sub>2lager</sub> = 0*\n",
    "\n",
    "$$N_{2lager} = (TAN_N - N_{2stald}) \\cdot Tab_{N_2lager} \\cdot VM_{N_2lager} $$\n",
    "\n",
    "\n",
    "Hvor: \n",
    "\n",
    " * Tab<sub>N<sub>2</sub>lager</sub>: Indirekte N2O tab på lageret = [Tabelværdi](https://seges.sharepoint.com/:x:/r/sites/SAFprojeketet/_layouts/15/Doc.aspx?sourcedoc=%7B0C95A002-A20E-4641-95BE-18B1560D7CE2%7D&file=PigData.xlsx&activeCell=HousingTypes!J1&action=embedview) [% af N ab dyr]\n",
    " * VM<sub>N<sub>2</sub>lager</sub>: Effekten af evt. valgte virkemidler på lageret = [Tabelværdi](https://seges.sharepoint.com/:x:/r/sites/SAFprojeketet/_layouts/15/Doc.aspx?sourcedoc=%7B0C95A002-A20E-4641-95BE-18B1560D7CE2%7D&file=PigData.xlsx&activeCell=ClimateMeasures!F1&action=embedview)\n",
    "\n",
    "### **Omregning til CO<sub>2</sub>e:**\n",
    "\n",
    "$$CO_2e = N_{2lager}  \\cdot \\frac{44}{28} \\cdot 0,01 \\cdot \\theta_{N_2O-CO_2} $$\n",
    "\n",
    "Hvor: \n",
    "\n",
    " * $\\theta$ N<sub>2</sub>O-CO<sub>2</sub></sub>: Omregningsfaktor N<sub>2</sub>O til CO<sub>2</sub> = [Standardtal](https://seges.sharepoint.com/:x:/r/sites/SAFprojeketet/_layouts/15/Doc.aspx?sourcedoc=%7B55DC573E-DF3A-4BB4-BA90-49438C005785%7D&file=Formler%20til%20PORK%202.0%20med%20foderberegner.xlsx&activeCell=%27Enterisk%20metan%2Bsoallokering%27!C2&action=embedview)\n",
    "\n",
    " ____"
   ]
  },
  {
   "attachments": {},
   "cell_type": "markdown",
   "metadata": {},
   "source": [
    "# **Testcases**\n",
    "\n",
    "## **Stald**"
   ]
  },
  {
   "cell_type": "code",
   "execution_count": 28,
   "metadata": {
    "dotnet_interactive": {
     "language": "csharp"
    }
   },
   "outputs": [],
   "source": [
    "// konstanter - nix pille\n",
    "double P_N = 6.25;\n",
    "double N_so = 1.98;\n",
    "double Delta_d = 1.31;\n",
    "double theta_N2O_CO2 = 298;\n",
    "double X_lob = 0.7;\n",
    "double X_fare = 0.3;"
   ]
  },
  {
   "attachments": {},
   "cell_type": "markdown",
   "metadata": {},
   "source": [
    "**Slagte/FRATS grise**"
   ]
  },
  {
   "cell_type": "code",
   "execution_count": 29,
   "metadata": {
    "dotnet_interactive": {
     "language": "csharp"
    }
   },
   "outputs": [
    {
     "name": "stdout",
     "output_type": "stream",
     "text": [
      "N2 for slagtegrise/FRATSgrise: 0,0034803896320000013\n",
      "Omregnet til N2O: 5,469183707428574E-05\n",
      "Omregnet til CO2e: 0,01629816744813715\n"
     ]
    }
   ],
   "source": [
    "// Input - Test andre scenarier, ved at ændre i input-værdierne herunder\n",
    "double V_slagt = 88.0;\n",
    "double V_ind = 30.0;\n",
    "double F = 2.64;\n",
    "double R = 152.0;\n",
    "double Fe = 1.04;\n",
    "double K = 0.81;\n",
    "double N = 29.6;\n",
    "double Tab_N2_stald = 0.002;\n",
    "double VM_N2_stald = 1.0;\n",
    "\n",
    "// Beregning\n",
    "double T = V_slagt * Delta_d - V_ind;\n",
    "double TAN_N_slagt = ((T * F * R/Fe * K / P_N) - T * N) / 1000.0;\n",
    "double N2_stald_slagt = TAN_N_slagt * Tab_N2_stald * VM_N2_stald;\n",
    "Console.WriteLine($\"N2 for slagtegrise/FRATSgrise: {N2_stald_slagt}\");\n",
    "Console.WriteLine($\"Omregnet til N2O: {N2_stald_slagt * 44.0 / 28.0 * 0.01}\");\n",
    "Console.WriteLine($\"Omregnet til CO2e: {N2_stald_slagt * 44.0 / 28.0 * 0.01 * theta_N2O_CO2}\");"
   ]
  },
  {
   "attachments": {},
   "cell_type": "markdown",
   "metadata": {},
   "source": [
    "**Smågrise**"
   ]
  },
  {
   "cell_type": "code",
   "execution_count": 30,
   "metadata": {
    "dotnet_interactive": {
     "language": "csharp"
    }
   },
   "outputs": [
    {
     "name": "stdout",
     "output_type": "stream",
     "text": [
      "N2 for smågrise: 0,00047371473027522937\n",
      "Omregnet til N2O: 7,444088618610747E-06\n",
      "Omregnet til CO2e: 0,0022183384083460027\n"
     ]
    }
   ],
   "source": [
    "//Input - Test andre scenarier, ved at ændre i input-værdierne herunder\n",
    "double V_ud = 30.0;\n",
    "double V_ind = 6.3;\n",
    "double F = 1.82;\n",
    "double R = 180.0;\n",
    "double Fe = 1.09;\n",
    "double K = 0.84;\n",
    "double N = 30.4;\n",
    "double Tab_N2_stald = 0.002;\n",
    "double VM_N2_stald = 1.0;\n",
    "\n",
    "// Beregning\n",
    "double T = V_ud - V_ind;\n",
    "double TAN_N_smaa = ((T * F * R/Fe * K / P_N) - T * N) / 1000.0;\n",
    "double N2_stald_smaa = TAN_N_smaa * Tab_N2_stald * VM_N2_stald;\n",
    "Console.WriteLine($\"N2 for smågrise: {N2_stald_smaa}\");\n",
    "Console.WriteLine($\"Omregnet til N2O: {N2_stald_smaa * 44.0 / 28.0 * 0.01}\");\n",
    "Console.WriteLine($\"Omregnet til CO2e: {N2_stald_smaa * 44.0 / 28.0 * 0.01 * theta_N2O_CO2}\");"
   ]
  },
  {
   "attachments": {},
   "cell_type": "markdown",
   "metadata": {},
   "source": [
    "**Årssøer - løbe og drægtighedsstald**"
   ]
  },
  {
   "cell_type": "code",
   "execution_count": 31,
   "metadata": {
    "dotnet_interactive": {
     "language": "csharp"
    }
   },
   "outputs": [
    {
     "name": "stdout",
     "output_type": "stream",
     "text": [
      "TAN: 12,089200000000002\n",
      "N2 for årssøer - løbe og dræftighedsstald: 0,024178400000000003\n",
      "Omregnet til N2O: 0,0003799462857142858\n",
      "Omregnet til CO2e: 0,11322399314285718\n"
     ]
    }
   ],
   "source": [
    "// Input - Test andre scenarier, ved at ændre i input-værdierne herunder\n",
    "double V_ud = 6.4;\n",
    "double G = 34.0;\n",
    "double F = 1500.0;\n",
    "double R = 138.0;\n",
    "double Fe = 1.05;\n",
    "double K = 0.8;\n",
    "double N_pat = 27.5;\n",
    "double Tab_N2_stald = 0.002;\n",
    "double VM_N2_stald = 1.0;\n",
    "\n",
    "// Beregning\n",
    "double TAN_N_aar_lob = (F * X_lob * R/Fe * K / 1000.0 / P_N) - N_so * X_lob - (G * V_ud) * X_lob * N_pat / 1000.0;\n",
    "double N2_stald_aar_lob = TAN_N_aar_lob * Tab_N2_stald * VM_N2_stald;\n",
    "\n",
    "\n",
    "Console.WriteLine($\"TAN: {TAN_N_aar_lob}\");\n",
    "Console.WriteLine($\"N2 for årssøer - løbe og dræftighedsstald: {N2_stald_aar_lob}\");\n",
    "Console.WriteLine($\"Omregnet til N2O: {N2_stald_aar_lob * 44.0 / 28.0 * 0.01}\");\n",
    "Console.WriteLine($\"Omregnet til CO2e: {N2_stald_aar_lob * 44.0 / 28.0 * 0.01 * theta_N2O_CO2}\");"
   ]
  },
  {
   "attachments": {},
   "cell_type": "markdown",
   "metadata": {},
   "source": [
    "**Årssøer - faremarken**"
   ]
  },
  {
   "cell_type": "code",
   "execution_count": 32,
   "metadata": {
    "dotnet_interactive": {
     "language": "csharp"
    }
   },
   "outputs": [
    {
     "name": "stdout",
     "output_type": "stream",
     "text": [
      "N2 for årssøer - faremarken: 0,010362171428571426\n",
      "Omregnet til N2O: 0,00016283412244897958\n",
      "Omregnet til CO2e: 0,048524568489795916\n"
     ]
    }
   ],
   "source": [
    "// Input - Test andre scenarier, ved at ændre i input-værdierne herunder\n",
    "double V_ud = 6.4;\n",
    "double G = 34.0;\n",
    "double F = 1500.0;\n",
    "double R = 138.0;\n",
    "double Fe = 1.05;\n",
    "double K = 0.8;\n",
    "double N_pat = 27.5;\n",
    "double Tab_N2_stald = 0.002;\n",
    "double VM_N2_stald = 1.0;\n",
    "\n",
    "// Beregning\n",
    "double TAN_N_aar_fare = (F * X_fare * R/Fe * K / 1000.0 / P_N) - N_so * X_fare - (G * V_ud * X_fare * N_pat / 1000.0);\n",
    "double N2_stald_aar_fare = TAN_N_aar_fare * Tab_N2_stald * VM_N2_stald;\n",
    "Console.WriteLine($\"N2 for årssøer - faremarken: {N2_stald_aar_fare}\");\n",
    "Console.WriteLine($\"Omregnet til N2O: {N2_stald_aar_fare * 44.0 / 28.0 * 0.01}\");\n",
    "Console.WriteLine($\"Omregnet til CO2e: {N2_stald_aar_fare * 44.0 / 28.0 * 0.01 * theta_N2O_CO2}\");"
   ]
  },
  {
   "attachments": {},
   "cell_type": "markdown",
   "metadata": {},
   "source": [
    "## **Lager**\n",
    "\n",
    "Lagerberegninger er de samme for alle dyretyper\n",
    "\n",
    "*NB for staldtyperne \"faremark\", \"friland\" og \"udendørs\" tilføres der ikke noget til lageret og værdien af N<sub>2lager</sub> = 0*\n",
    "\n",
    "**Slagte/FRATSgrise**"
   ]
  },
  {
   "cell_type": "code",
   "execution_count": 33,
   "metadata": {
    "dotnet_interactive": {
     "language": "csharp"
    }
   },
   "outputs": [
    {
     "name": "stdout",
     "output_type": "stream",
     "text": [
      "TANN slagt: 1,7401948160000007\n",
      "N2 for slagtegrise/FRATSgrise: 0,008683572131840005\n",
      "Omregnet til N2O: 0,00013645613350034294\n",
      "Omregnet til CO2e: 0,0406639277831022\n"
     ]
    }
   ],
   "source": [
    "// Input - Test andre scenarier, ved at ændre i input-værdierne herunder\n",
    "double Tab_N2_lager = 0.005;\n",
    "double VM_N2_lager = 1.0; //gylleforsuring stald\n",
    "\n",
    "// Beregning\n",
    "double N2_lager = (TAN_N_slagt - N2_stald_slagt) * Tab_N2_lager * VM_N2_lager;\n",
    "\n",
    "Console.WriteLine($\"TANN slagt: {TAN_N_slagt}\");\n",
    "Console.WriteLine($\"N2 for slagtegrise/FRATSgrise: {N2_lager}\");\n",
    "Console.WriteLine($\"Omregnet til N2O: {N2_lager * 44 / 28 * 0.01}\");\n",
    "Console.WriteLine($\"Omregnet til CO2e: {N2_lager * 44 / 28 * 0.01 * theta_N2O_CO2}\");"
   ]
  },
  {
   "attachments": {},
   "cell_type": "markdown",
   "metadata": {},
   "source": [
    "**Smågrise**"
   ]
  },
  {
   "cell_type": "code",
   "execution_count": 34,
   "metadata": {
    "dotnet_interactive": {
     "language": "csharp"
    }
   },
   "outputs": [
    {
     "name": "stdout",
     "output_type": "stream",
     "text": [
      "N2 for smågrise: 0,0011819182520366972\n",
      "Omregnet til N2O: 1,6884546457667104E-06\n",
      "Omregnet til CO2e: 0,005534754328823276\n"
     ]
    }
   ],
   "source": [
    "// Input - Test andre scenarier, ved at ændre i input-værdierne herunder\n",
    "double Tab_N2_lager = 0.005;\n",
    "double VM_N2_lager = 1.0;\n",
    "\n",
    "// Beregning\n",
    "double N2_lager = (TAN_N_smaa - N2_stald_smaa) * Tab_N2_lager * VM_N2_lager;\n",
    "Console.WriteLine($\"N2 for smågrise: {N2_lager}\");\n",
    "Console.WriteLine($\"Omregnet til N2O: {N2_lager * 4 / 28 * 0.01}\");\n",
    "Console.WriteLine($\"Omregnet til CO2e: {N2_lager * 44 / 28 * 0.01 * theta_N2O_CO2}\");"
   ]
  },
  {
   "attachments": {},
   "cell_type": "markdown",
   "metadata": {},
   "source": [
    "**Årssøer - løbe og drægtighedsstald**"
   ]
  },
  {
   "cell_type": "code",
   "execution_count": 35,
   "metadata": {
    "dotnet_interactive": {
     "language": "csharp"
    },
    "polyglot_notebook": {
     "kernelName": "csharp"
    }
   },
   "outputs": [
    {
     "name": "stdout",
     "output_type": "stream",
     "text": [
      "N2 for årssøer løbe drægtig: 0,06032510800000001\n",
      "Omregnet til N2O: 8,617872571428573E-05\n",
      "Omregnet til CO2e: 0,2824938628914286\n"
     ]
    }
   ],
   "source": [
    "// Input - Test andre scenarier, ved at ændre i input-værdierne herunder\n",
    "double Tab_N2_lager = 0.005;\n",
    "double VM_N2_lager = 1.0;\n",
    "\n",
    "// Beregning\n",
    "double N2_lager = (TAN_N_aar_lob - N2_stald_aar_lob) * Tab_N2_lager * VM_N2_lager;\n",
    "Console.WriteLine($\"N2 for årssøer løbe drægtig: {N2_lager}\");\n",
    "Console.WriteLine($\"Omregnet til N2O: {N2_lager * 4 / 28 * 0.01}\");\n",
    "Console.WriteLine($\"Omregnet til CO2e: {N2_lager * 44 / 28 * 0.01 * theta_N2O_CO2}\");"
   ]
  },
  {
   "attachments": {},
   "cell_type": "markdown",
   "metadata": {},
   "source": [
    "**Årssøer - faremark**"
   ]
  },
  {
   "cell_type": "code",
   "execution_count": 36,
   "metadata": {
    "dotnet_interactive": {
     "language": "csharp"
    },
    "polyglot_notebook": {
     "kernelName": "csharp"
    }
   },
   "outputs": [
    {
     "name": "stdout",
     "output_type": "stream",
     "text": [
      "N2 for årssøer faremark: 0,025853617714285706\n",
      "Omregnet til N2O: 3,693373959183672E-05\n",
      "Omregnet til CO2e: 0,12106879838204078\n"
     ]
    }
   ],
   "source": [
    "// Input - Test andre scenarier, ved at ændre i input-værdierne herunder\n",
    "double Tab_N2_lager = 0.005;\n",
    "double VM_N2_lager = 1.0;\n",
    "\n",
    "// Beregning\n",
    "double N2_lager = (TAN_N_aar_fare - N2_stald_aar_fare) * Tab_N2_lager * VM_N2_lager;\n",
    "Console.WriteLine($\"N2 for årssøer faremark: {N2_lager}\");\n",
    "Console.WriteLine($\"Omregnet til N2O: {N2_lager * 4 / 28 * 0.01}\");\n",
    "Console.WriteLine($\"Omregnet til CO2e: {N2_lager * 44 / 28 * 0.01 * theta_N2O_CO2}\");"
   ]
  }
 ],
 "metadata": {
  "kernelspec": {
   "display_name": ".NET (C#)",
   "language": "C#",
   "name": ".net-csharp"
  },
  "language_info": {
   "name": "polyglot-notebook"
  },
  "polyglot_notebook": {
   "kernelInfo": {
    "defaultKernelName": "csharp",
    "items": [
     {
      "aliases": [],
      "name": ".NET"
     },
     {
      "aliases": [
       "C#",
       "c#"
      ],
      "languageName": "C#",
      "name": "csharp"
     },
     {
      "aliases": [
       "F#",
       "f#"
      ],
      "languageName": "F#",
      "name": "fsharp"
     },
     {
      "aliases": [],
      "languageName": "HTML",
      "name": "html"
     },
     {
      "aliases": [],
      "languageName": "KQL",
      "name": "kql"
     },
     {
      "aliases": [],
      "languageName": "Mermaid",
      "name": "mermaid"
     },
     {
      "aliases": [
       "powershell"
      ],
      "languageName": "PowerShell",
      "name": "pwsh"
     },
     {
      "aliases": [],
      "languageName": "SQL",
      "name": "sql"
     },
     {
      "aliases": [],
      "name": "value"
     },
     {
      "aliases": [
       "frontend"
      ],
      "name": "vscode"
     }
    ]
   }
  }
 },
 "nbformat": 4,
 "nbformat_minor": 2
}
