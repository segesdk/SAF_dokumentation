{
 "cells": [
  {
   "attachments": {},
   "cell_type": "markdown",
   "metadata": {},
   "source": [
    "# **Benchmark for grisen**\n",
    "\n",
    "## **Intro**\n",
    "\n",
    "I ESGreen Tool er der et ønske om at se benchmark-værdier for udledningskilderne til grisens produktaftryk. Dette for at brugeren kan få en fornemmelse af, hvilke parametre de bør skrue på for at forbedre deres samlede udledning.\n",
    "\n",
    "Benchmark værdierne beregnes på samme måde, som for [produktaftrykket](https://github.com/segesdk/SAF_dokumentation/blob/main/Produktaftryk_gris.ipynb), dog benyttes andre input værdier til beregningerne. Disse input værdier beregnes ved at tage gennemsnittet af de bedste 25% på landsplan - og opdateres årligt.\n",
    "\n",
    "Input værdierne til brug i beregningerne af benchmark kan findes i regnearket:\n",
    "\n",
    "* [Benchmarkværdier for produktionsdata](https://seges.sharepoint.com/:x:/r/sites/SAFprojeketet/_layouts/15/Doc.aspx?sourcedoc=%7B55DC573E-DF3A-4BB4-BA90-49438C005785%7D&file=Formler%20til%20PORK%202.0%20med%20foderberegner.xlsx&activeCell=%27Benchmark%202020%27!A1&action=embedview)\n",
    "* [Benchmarkværdier for NH3 og N2O](https://seges.sharepoint.com/:x:/r/sites/SAFprojeketet/_layouts/15/Doc.aspx?sourcedoc=%7B55DC573E-DF3A-4BB4-BA90-49438C005785%7D&file=Formler%20til%20PORK%202.0%20med%20foderberegner.xlsx&activeCell=%27Benchmark%20NH3%20og%20N2O%27!A1&action=embedview)\n",
    "* [Benchmarkværdier for CH4](https://seges.sharepoint.com/:x:/r/sites/SAFprojeketet/_layouts/15/Doc.aspx?sourcedoc=%7B55DC573E-DF3A-4BB4-BA90-49438C005785%7D&file=Formler%20til%20PORK%202.0%20med%20foderberegner.xlsx&activeCell=%27Benchmark-metan%27!A1&action=embedview)"
   ]
  }
 ],
 "metadata": {
  "kernelspec": {
   "display_name": "Python 3.10.5 64-bit",
   "language": "python",
   "name": "python3"
  },
  "language_info": {
   "name": "python",
   "version": "3.10.5 (tags/v3.10.5:f377153, Jun  6 2022, 16:14:13) [MSC v.1929 64 bit (AMD64)]"
  },
  "orig_nbformat": 4,
  "vscode": {
   "interpreter": {
    "hash": "bab84105c52ccadeb85d61dc9a1d15bd1feb821a6dbda7c8ceb9873f369b5223"
   }
  }
 },
 "nbformat": 4,
 "nbformat_minor": 2
}
