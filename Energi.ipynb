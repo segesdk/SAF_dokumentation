{
 "cells": [
  {
   "cell_type": "markdown",
   "metadata": {},
   "source": [
    "# **Energi**\n",
    "\n",
    "### **Beregning af energiforbrug for grisen** \n",
    "\n",
    "$$ E_{gris} = E_{N} + E_{H} + E_{O} $$\n",
    "\n",
    "Hvor: \n",
    "\n",
    " * E<sub>N</sub>: Energi fra naturgas, i CO<sub>2</sub>e [kg/m3]\n",
    " * E<sub>H</sub>: Energi fra halm, i CO<sub>2</sub>e [kg/kg]\n",
    " * E<sub>O</sub>: Energi fra olie, i CO<sub>2</sub>e [kg/L]\n",
    "\n",
    "### **Beregning af energi fra naturgas, E<sub>N</sub>:** \n",
    "\n",
    "$$ E_{N} = N \\cdot M_N \\cdot K_N \\cdot C_N $$\n",
    "\n",
    "Hvor: \n",
    "\n",
    " * N: Naturgas pr gris = input fra bruger [m<sup>3</sup>]\n",
    " * M<sub>N</sub>: MJ per m<sup>3</sup> naturgas = [Standardtal](https://seges.sharepoint.com/:x:/r/sites/SAFprojeketet/_layouts/15/Doc.aspx?sourcedoc=%7B55DC573E-DF3A-4BB4-BA90-49438C005785%7D&file=Formler%20til%20PORK%202.0%20med%20foderberegner.xlsx&activeCell=%27Energi-vand-syre%27!B51&action=embedview) [MJ/m<sup>3</sup>]\n",
    " * K<sub>N</sub>: kwh pr MJ pr m<sup>3</sup> naturgas = [Standardtal](https://seges.sharepoint.com/:x:/r/sites/SAFprojeketet/_layouts/15/Doc.aspx?sourcedoc=%7B55DC573E-DF3A-4BB4-BA90-49438C005785%7D&file=Formler%20til%20PORK%202.0%20med%20foderberegner.xlsx&activeCell=%27Energi-vand-syre%27!C51&action=embedview) [kwh/MJ/m<sup>3</sup>]\n",
    " * C<sub>N</sub>: CO<sub>2</sub>e pr kwh i naturgas = [Standardtal](https://seges.sharepoint.com/:x:/r/sites/SAFprojeketet/_layouts/15/Doc.aspx?sourcedoc=%7B55DC573E-DF3A-4BB4-BA90-49438C005785%7D&file=Formler%20til%20PORK%202.0%20med%20foderberegner.xlsx&activeCell=%27Energi-vand-syre%27!D51&action=embedview) [kg/kwh]\n",
    "\n",
    "### **Beregning af energi fra halm, E<sub>H</sub>:** \n",
    "\n",
    "$$ E_{H} = H \\cdot M_H \\cdot K_H \\cdot C_H $$\n",
    "\n",
    "Hvor: \n",
    "\n",
    " * H: Halm i halmfyr pr gris = input fra bruger [kg]\n",
    " * M<sub>H</sub>: MJ per kg halm = [Standardtal](https://seges.sharepoint.com/:x:/r/sites/SAFprojeketet/_layouts/15/Doc.aspx?sourcedoc=%7B55DC573E-DF3A-4BB4-BA90-49438C005785%7D&file=Formler%20til%20PORK%202.0%20med%20foderberegner.xlsx&activeCell=%27Energi-vand-syre%27!B52&action=embedview) [MJ/kg]\n",
    " * K<sub>H</sub>: kwh pr MJ pr kg halm  = [Standardtal](https://seges.sharepoint.com/:x:/r/sites/SAFprojeketet/_layouts/15/Doc.aspx?sourcedoc=%7B55DC573E-DF3A-4BB4-BA90-49438C005785%7D&file=Formler%20til%20PORK%202.0%20med%20foderberegner.xlsx&activeCell=%27Energi-vand-syre%27!C52&action=embedview) [kwh/MJ/kg]\n",
    " * C<sub>H</sub>: CO<sub>2</sub>e pr kwh i halm = [Standardtal](https://seges.sharepoint.com/:x:/r/sites/SAFprojeketet/_layouts/15/Doc.aspx?sourcedoc=%7B55DC573E-DF3A-4BB4-BA90-49438C005785%7D&file=Formler%20til%20PORK%202.0%20med%20foderberegner.xlsx&activeCell=%27Energi-vand-syre%27!D52&action=embedview) [kg/kwh]\n",
    "\n",
    " ### **Beregning af energi fra olie, E<sub>O</sub>:** \n",
    "\n",
    "$$ E_{O} = O \\cdot M_O \\cdot K_O \\cdot C_O $$\n",
    "\n",
    "Hvor: \n",
    "\n",
    " * O: Olie i halmfyr pr gris  = input fra bruger [L]\n",
    " * M<sub>O</sub>: MJ per liter olie = [Standardtal](https://seges.sharepoint.com/:x:/r/sites/SAFprojeketet/_layouts/15/Doc.aspx?sourcedoc=%7B55DC573E-DF3A-4BB4-BA90-49438C005785%7D&file=Formler%20til%20PORK%202.0%20med%20foderberegner.xlsx&activeCell=%27Energi-vand-syre%27!B53&action=embedview) [MJ/L]\n",
    " * K<sub>O</sub>: kwh pr MJ pr liter olie = [Standardtal](https://seges.sharepoint.com/:x:/r/sites/SAFprojeketet/_layouts/15/Doc.aspx?sourcedoc=%7B55DC573E-DF3A-4BB4-BA90-49438C005785%7D&file=Formler%20til%20PORK%202.0%20med%20foderberegner.xlsx&activeCell=%27Energi-vand-syre%27!C53&action=embedview) [kwh/MJ/L]\n",
    " * C<sub>O</sub>: CO<sub>2</sub>e pr kwh i olie = [Standardtal](https://seges.sharepoint.com/:x:/r/sites/SAFprojeketet/_layouts/15/Doc.aspx?sourcedoc=%7B55DC573E-DF3A-4BB4-BA90-49438C005785%7D&file=Formler%20til%20PORK%202.0%20med%20foderberegner.xlsx&activeCell=%27Energi-vand-syre%27!D53&action=embedview) [kg/kwh]\n",
    "\n",
    "\n",
    "\n",
    "\n"
   ]
  },
  {
   "cell_type": "markdown",
   "metadata": {},
   "source": [
    "----\n",
    "\n",
    "# **Testcases**\n",
    "\n",
    "Hvis du selv vil lege med beregningerne i testcases kan du køre notebooken i google colab [HER](https://colab.research.google.com/github/segesdk/SAF_dokumentation/blob/main/Energi.ipynb) (kræver login på din google konto)\n",
    "\n",
    "## **Energi**"
   ]
  },
  {
   "cell_type": "code",
   "execution_count": null,
   "metadata": {
    "dotnet_interactive": {
     "language": "csharp"
    },
    "vscode": {
     "languageId": "dotnet-interactive.csharp"
    }
   },
   "outputs": [],
   "source": [
    "// konstanter og funktioner - nix pille\n",
    "\n",
    "double M_N = 39.6;\n",
    "double K_N = 0.2778;\n",
    "double C_N = 0.204;\n",
    "double M_H = 14.4;\n",
    "double K_H = 0.2778;\n",
    "double C_H = 0.157;\n",
    "double M_O = 35.3;\n",
    "double K_O = 0.2778;\n",
    "double C_O = 0.267;\n",
    "\n",
    "public double Energi_naturgas(double N, double M_N, double K_N, double C_N)\n",
    "{\n",
    "    var result = 0.0;\n",
    "    \n",
    "    result = N * M_N * K_N * C_N;\n",
    "\n",
    "    return result;\n",
    "}\n",
    "\n",
    "public double Energi_halm(double H, double M_H, double K_H, double C_H)\n",
    "{\n",
    "    var result = 0.0;\n",
    "    \n",
    "    result = H * M_H * K_H * C_H;\n",
    "\n",
    "    return result;\n",
    "}\n",
    "\n",
    "public double Energi_olie(double O, double M_O, double K_O, double C_O)\n",
    "{\n",
    "    var result = 0.0;\n",
    "    \n",
    "    result = O * M_O * K_O * C_O;\n",
    "\n",
    "    return result;\n",
    "}\n"
   ]
  },
  {
   "cell_type": "markdown",
   "metadata": {},
   "source": [
    "**Beregning for grisen**"
   ]
  },
  {
   "cell_type": "code",
   "execution_count": null,
   "metadata": {
    "dotnet_interactive": {
     "language": "csharp"
    },
    "vscode": {
     "languageId": "dotnet-interactive.csharp"
    }
   },
   "outputs": [
    {
     "name": "stdout",
     "output_type": "stream",
     "text": [
      "Energi på grisen: 91,84343021999999 kg CO2e\r\n"
     ]
    }
   ],
   "source": [
    "// Input - Test andre scenarier, ved at ændre i input-værdierne herunder\n",
    "double N = 7.0;\n",
    "double H = 17.0;\n",
    "double O = 25.0;\n",
    "\n",
    "// Beregning\n",
    "double E_N = Energi_naturgas(N, M_N, K_N, C_N);\n",
    "double E_H = Energi_naturgas(H, M_H, K_H, C_H);\n",
    "double E_O = Energi_naturgas(O, M_O, K_O, C_O);\n",
    "double E_gris = E_N + E_H + E_O;\n",
    "\n",
    "Console.WriteLine($\"Energi på grisen: {E_gris} kg CO2e\");"
   ]
  }
 ],
 "metadata": {
  "kernelspec": {
   "display_name": ".NET (C#)",
   "language": "C#",
   "name": ".net-csharp"
  },
  "language_info": {
   "file_extension": ".cs",
   "mimetype": "text/x-csharp",
   "name": "C#",
   "pygments_lexer": "csharp",
   "version": "9.0"
  },
  "orig_nbformat": 4,
  "vscode": {
   "interpreter": {
    "hash": "bab84105c52ccadeb85d61dc9a1d15bd1feb821a6dbda7c8ceb9873f369b5223"
   }
  }
 },
 "nbformat": 4,
 "nbformat_minor": 2
}
