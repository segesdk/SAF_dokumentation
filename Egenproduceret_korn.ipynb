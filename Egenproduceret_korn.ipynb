{
 "cells": [
  {
   "cell_type": "markdown",
   "metadata": {},
   "source": [
    "# **Egenproduceret korn**\n",
    "## **Intro**\n",
    "\n",
    "I ESGreen Tool skal brugeren oplyse pr CVR-nummer, hvor stor en andel af kornet i deres foderblandinger, de selv dyrker. Denne andel skal nemlig trækkes fra foderets aftryk, når det opgøres på bedriftsniveau.\n",
    "\n",
    "### **Beregning af CO<sub>2</sub>e fra egenproduceret korn, afhænger af dyretypen**\n",
    "\n",
    ">Slagtegris (konv. + øko) + FRATS + smågrise (konv. + øko) \n",
    "\n",
    "$$ CO_2e_{korn} =  T \\cdot F \\cdot K_{eget} \\cdot K_{std} \\cdot CO_2e_{korn} $$\n",
    "\n",
    "Hvor tilvæksten, T, beregnes for hhv. slagte/FRATSgrise og smågrise:\n",
    "\n",
    "$$ T_{slagt+FRATS} = V_{slagt}  \\cdot \\Delta_d - V_{ind}$$\n",
    "\n",
    "\n",
    "$$ T_{smågris} = V_{ud} - V_{ind} $$\n",
    "\n",
    ">Årssøer, konv + øko\n",
    "\n",
    "$$ CO_2e_{korn} = F \\cdot K_{eget} \\cdot K_{std} \\cdot CO_2e_{korn}$$\n",
    "\n",
    "Hvor: \n",
    "* F: Foder  = input fra bruger el. [Tabelværdi](https://seges.sharepoint.com/:x:/r/sites/SAFprojeketet/_layouts/15/Doc.aspx?sourcedoc=%7B55DC573E-DF3A-4BB4-BA90-49438C005785%7D&file=Formler%20til%20PORK%202.0%20med%20foderberegner.xlsx&activeCell=%27Formler%20NH3%20og%20N2O%20-Stald%201%27!N2&action=embedview) [FEsv pr kg tilvækst/FEso pr so]\n",
    "* K<sub>eget</sub>: Andelen af egetproduceret korn i foderet = input fra bruger eller 0\n",
    "* K<sub>std</sub>: Standard kornandel i foderet = [Tabelværdi](https://seges.sharepoint.com/:x:/r/sites/SAFprojeketet/_layouts/15/Doc.aspx?sourcedoc=%7B55DC573E-DF3A-4BB4-BA90-49438C005785%7D&file=Formler%20til%20PORK%202.0%20med%20foderberegner.xlsx&activeCell=%27Standard%20foderbalndinger%27!B3&action=embedview) [%] (tjek)\n",
    "*  CO<sub>2</sub>e<sub>korn</sub>: CO<sub>2</sub>e udledningen for korn = [Tabelværdi](https://seges.sharepoint.com/:x:/r/sites/SAFprojeketet/_layouts/15/Doc.aspx?sourcedoc=%7B55DC573E-DF3A-4BB4-BA90-49438C005785%7D&file=Formler%20til%20PORK%202.0%20med%20foderberegner.xlsx&activeCell=%27Standard%20foderbalndinger%27!B15&action=embedview) [CO<sub>2</sub>e/kg]] (tjek)\n",
    "* V<sub>slagt</sub>: Slagtevægt = input fra bruger el. [Tabelværdi](https://seges.sharepoint.com/:x:/r/sites/SAFprojeketet/_layouts/15/Doc.aspx?sourcedoc=%7B55DC573E-DF3A-4BB4-BA90-49438C005785%7D&file=Formler%20til%20PORK%202.0%20med%20foderberegner.xlsx&activeCell=%27Formler%20NH3%20og%20N2O%20-Stald%201%27!K2&action=embedview) [kg]\n",
    "* Δ<sub>d</sub> = 1,31\n",
    "* V<sub>ud</sub>: Vægt ved afgang el. salg = input fra bruger el. [Tabelværdi](https://seges.sharepoint.com/:x:/r/sites/SAFprojeketet/_layouts/15/Doc.aspx?sourcedoc=%7B55DC573E-DF3A-4BB4-BA90-49438C005785%7D&file=Formler%20til%20PORK%202.0%20med%20foderberegner.xlsx&activeCell=%27Formler%20NH3%20og%20N2O%20-Stald%201%27!L2&action=embedview) [kg]\n",
    "* V<sub>ind</sub>: Indsættelsesvægt = input fra bruger el. [Tabelværdi](https://seges.sharepoint.com/:x:/r/sites/SAFprojeketet/_layouts/15/Doc.aspx?sourcedoc=%7B55DC573E-DF3A-4BB4-BA90-49438C005785%7D&file=Formler%20til%20PORK%202.0%20med%20foderberegner.xlsx&activeCell=%27Formler%20NH3%20og%20N2O%20-Stald%201%27!J2&action=embedview) [kg]\n",
    "\n",
    "----"
   ]
  },
  {
   "cell_type": "code",
   "execution_count": 50,
   "metadata": {
    "dotnet_interactive": {
     "language": "csharp"
    },
    "vscode": {
     "languageId": "dotnet-interactive.csharp"
    }
   },
   "outputs": [],
   "source": [
    "// konstanter - nix pille\n",
    "double std_CO2e_korn = -0.33;\n",
    "double K_std_slagt = 0.78;\n",
    "double K_std_smaa = 0.67;\n",
    "double K_std_so = 0.83;\n",
    "double Delta_d = 1.31;"
   ]
  },
  {
   "cell_type": "markdown",
   "metadata": {},
   "source": [
    "**Slagtegrise**"
   ]
  },
  {
   "cell_type": "code",
   "execution_count": 51,
   "metadata": {
    "dotnet_interactive": {
     "language": "csharp"
    },
    "vscode": {
     "languageId": "dotnet-interactive.csharp"
    }
   },
   "outputs": [
    {
     "name": "stdout",
     "output_type": "stream",
     "text": [
      "kornaftrykket fra egenproduceret korn fra slagtegrisen: -603,65448 ton CO2e\r\n"
     ]
    }
   ],
   "source": [
    "// Input - Test andre scenarier, ved at ændre i input-værdierne herunder\n",
    "double V_slagt = 88.0;\n",
    "double V_ind = 30.0;\n",
    "double F = 2.75;\n",
    "double K_eget = 0.5;\n",
    "double antal_dyr = 20000;\n",
    "\n",
    "// Beregning\n",
    "double T = V_slagt * Delta_d - V_ind;\n",
    "double CO2e_korn = T * F * K_eget * K_std_slagt * std_CO2e_korn * antal_dyr/1000;\n",
    "Console.WriteLine($\"kornaftrykket fra egenproduceret korn fra slagtegrisen: {CO2e_korn} ton CO2e\");"
   ]
  },
  {
   "cell_type": "markdown",
   "metadata": {},
   "source": [
    "**Smågrisen**"
   ]
  },
  {
   "cell_type": "code",
   "execution_count": 52,
   "metadata": {
    "dotnet_interactive": {
     "language": "csharp"
    },
    "vscode": {
     "languageId": "dotnet-interactive.csharp"
    }
   },
   "outputs": [
    {
     "name": "stdout",
     "output_type": "stream",
     "text": [
      "kornaftrykket fra egenproduceret korn fra smågrisen: -96,23156400000002 ton CO2e\r\n"
     ]
    }
   ],
   "source": [
    "// Input - Test andre scenarier, ved at ændre i input-værdierne herunder\n",
    "double V_ud = 30.0;\n",
    "double V_ind = 6.6;\n",
    "double F = 1.86;\n",
    "double K_eget = 0.5;\n",
    "double antal_dyr = 20000;\n",
    "\n",
    "// Beregning\n",
    "double T = V_ud - V_ind;\n",
    "double CO2e_korn = T * F * K_eget * K_std_smaa * std_CO2e_korn * antal_dyr/1000;\n",
    "Console.WriteLine($\"kornaftrykket fra egenproduceret korn fra smågrisen: {CO2e_korn} ton CO2e\");"
   ]
  },
  {
   "cell_type": "markdown",
   "metadata": {},
   "source": [
    "**Årsso**"
   ]
  },
  {
   "cell_type": "code",
   "execution_count": 53,
   "metadata": {
    "dotnet_interactive": {
     "language": "csharp"
    },
    "vscode": {
     "languageId": "dotnet-interactive.csharp"
    }
   },
   "outputs": [
    {
     "name": "stdout",
     "output_type": "stream",
     "text": [
      "kornaftrykket fra egenproduceret korn fra årssoen: -410,0283 ton CO2e\r\n"
     ]
    }
   ],
   "source": [
    "// Input - Test andre scenarier, ved at ændre i input-værdierne herunder\n",
    "double F = 1497.0;\n",
    "double K_eget = 0.5;\n",
    "double antal_dyr = 2000;\n",
    "\n",
    "// Beregning\n",
    "double CO2e_korn = F * K_eget * K_std_so * std_CO2e_korn * antal_dyr/1000;\n",
    "Console.WriteLine($\"kornaftrykket fra egenproduceret korn fra årssoen: {CO2e_korn} ton CO2e\");"
   ]
  }
 ],
 "metadata": {
  "kernelspec": {
   "display_name": ".NET (C#)",
   "language": "C#",
   "name": ".net-csharp"
  },
  "language_info": {
   "file_extension": ".cs",
   "mimetype": "text/x-csharp",
   "name": "C#",
   "pygments_lexer": "csharp",
   "version": "9.0"
  },
  "orig_nbformat": 4
 },
 "nbformat": 4,
 "nbformat_minor": 2
}
