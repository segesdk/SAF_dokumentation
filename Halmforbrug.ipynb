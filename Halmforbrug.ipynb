{
 "cells": [
  {
   "attachments": {},
   "cell_type": "markdown",
   "metadata": {},
   "source": [
    "# **Halmforbrug**\n",
    "\n",
    "### **Beregning af CO<sub>2</sub>e fra halm**\n",
    "\n",
    "$$ CO_2e_{halmforbrug} =  H \\cdot CO_2e_{H}$$\n",
    "\n",
    "Hvor: \n",
    " * H: halmforbrug per dyr = [Tabelværdi](https://seges.sharepoint.com/:x:/r/sites/SAFprojeketet/_layouts/15/Doc.aspx?sourcedoc=%7B0C95A002-A20E-4641-95BE-18B1560D7CE2%7D&file=PigData.xlsx&activeCell=HousingSystems!G1&action=embedview) [kg]\n",
    " * CO<sub>2</sub>e<sub>H</sub>: CO<sub>2</sub>e udledningen for halm = 0.051 [kg CO<sub>2</sub>e/kg]\n",
    "\n",
    "_OBS for årssoen skal både beregnes halm fra løbe/drægtighedsstald og fra farestald_\n",
    "\n",
    " ----\n",
    "\n",
    "# **Testcases**"
   ]
  },
  {
   "cell_type": "code",
   "execution_count": 5,
   "metadata": {
    "dotnet_interactive": {
     "language": "csharp"
    },
    "polyglot_notebook": {
     "kernelName": "csharp"
    }
   },
   "outputs": [
    {
     "name": "stdout",
     "output_type": "stream",
     "text": [
      "CO2e fra halm for slagtegrisen: 0.6629999999999999 kg CO2e\n",
      "CO2e fra halm for smågrisen: 0.1275 kg CO2e\n",
      "CO2e fra halm for smågrisen: 0.4845 kg CO2e\n"
     ]
    }
   ],
   "source": [
    "// konstanter - nix pille\n",
    "double CO2e_H = 0.051;\n",
    "\n",
    "// Input - Test andre scenarier, ved at ændre i input-værdierne herunder\n",
    "double H_slagt = 13.0;\n",
    "double H_smaa = 2.5;\n",
    "\n",
    "// Beregning\n",
    "double CO2e_halm_slagt = H_slagt * CO2e_H;\n",
    "double CO2e_halm_smaa = H_smaa * CO2e_H;\n",
    "Console.WriteLine($\"CO2e fra halm for slagtegrisen: {CO2e_halm_slagt} kg CO2e\");\n",
    "Console.WriteLine($\"CO2e fra halm for smågrisen: {CO2e_halm_smaa} kg CO2e\");\n",
    "Console.WriteLine($\"CO2e fra halm for smågrisen: {(CO2e_halm_slagt * 100 + CO2e_halm_smaa * 50)/150} kg CO2e\");"
   ]
  }
 ],
 "metadata": {
  "kernelspec": {
   "display_name": ".NET (C#)",
   "language": "C#",
   "name": ".net-csharp"
  },
  "language_info": {
   "name": "polyglot-notebook"
  },
  "polyglot_notebook": {
   "kernelInfo": {
    "defaultKernelName": "csharp",
    "items": [
     {
      "aliases": [],
      "name": ".NET"
     },
     {
      "aliases": [
       "C#",
       "c#"
      ],
      "languageName": "C#",
      "name": "csharp"
     },
     {
      "aliases": [
       "F#",
       "f#"
      ],
      "languageName": "F#",
      "name": "fsharp"
     },
     {
      "aliases": [],
      "languageName": "HTML",
      "name": "html"
     },
     {
      "aliases": [
       "js"
      ],
      "languageName": "JavaScript",
      "name": "javascript"
     },
     {
      "aliases": [],
      "languageName": "KQL",
      "name": "kql"
     },
     {
      "aliases": [],
      "languageName": "Mermaid",
      "name": "mermaid"
     },
     {
      "aliases": [
       "powershell"
      ],
      "languageName": "PowerShell",
      "name": "pwsh"
     },
     {
      "aliases": [],
      "languageName": "SQL",
      "name": "sql"
     },
     {
      "aliases": [],
      "name": "value"
     },
     {
      "aliases": [
       "frontend"
      ],
      "name": "vscode"
     },
     {
      "aliases": [],
      "name": "webview"
     }
    ]
   }
  }
 },
 "nbformat": 4,
 "nbformat_minor": 2
}
