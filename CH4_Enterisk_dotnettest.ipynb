{
 "cells": [
  {
   "cell_type": "code",
   "execution_count": null,
   "metadata": {
    "dotnet_interactive": {
     "language": "csharp"
    },
    "vscode": {
     "languageId": "dotnet-interactive.csharp"
    }
   },
   "outputs": [],
   "source": [
    "// konstanter - nix pille\n",
    "double Ym = 0.006;\n",
    "double theta_MJ_CH4 = 55.65;\n",
    "double Delta_d = 1.31;\n",
    "double theta_CH4_CO2 = 25;"
   ]
  },
  {
   "cell_type": "code",
   "execution_count": null,
   "metadata": {
    "dotnet_interactive": {
     "language": "csharp"
    },
    "vscode": {
     "languageId": "dotnet-interactive.csharp"
    }
   },
   "outputs": [
    {
     "name": "stdout",
     "output_type": "stream",
     "text": [
      "Enterisk metan for slagtegrise/FRATSgrise: 0,42152685714285715\r\n"
     ]
    }
   ],
   "source": [
    "// Input - Test andre scenarier, ved at ændre i input-værdierne herunder\n",
    "double V_slagt = 88;\n",
    "double V_ind = 30;\n",
    "double F = 2.65;\n",
    "double E = 17.3;\n",
    "\n",
    "// Beregning\n",
    "double CH4_enterisk = ((V_slagt * Delta_d - V_ind) * F * E * Ym)/theta_MJ_CH4;\n",
    "Console.WriteLine($\"Enterisk metan for slagtegrise/FRATSgrise: {CH4_enterisk}\");\n",
    "Console.WriteLine($\"Omregnet til CO2e: {CH4_enterisk*theta_CH4_CO2}\");"
   ]
  }
 ],
 "metadata": {
  "kernelspec": {
   "display_name": ".NET (C#)",
   "language": "C#",
   "name": ".net-csharp"
  },
  "language_info": {
   "file_extension": ".cs",
   "mimetype": "text/x-csharp",
   "name": "C#",
   "pygments_lexer": "csharp",
   "version": "9.0"
  },
  "orig_nbformat": 4
 },
 "nbformat": 4,
 "nbformat_minor": 2
}
