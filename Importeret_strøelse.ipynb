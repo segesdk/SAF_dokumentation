{
 "cells": [
  {
   "attachments": {},
   "cell_type": "markdown",
   "metadata": {
    "dotnet_interactive": {
     "language": "csharp"
    },
    "polyglot_notebook": {
     "kernelName": "csharp"
    }
   },
   "source": [
    "# **Importeret strøelse**\n",
    "## **Intro**\n",
    "\n",
    "I ESGreen Tool skal brugeren oplyse pr CHR-nummer, hvor stor en mængde strøelse, der importeres til bedriften. Mængden af CO2 fra importeret strøelse skal lægges til bedriftsaftrykket for gris\n",
    "\n",
    "### **CO<sub>2</sub>e fra importeret strøelse**\n",
    "\n",
    "$$ CO_2e_{strøelse} =  S \\cdot CO_2e_{s} $$\n",
    "\n",
    "\n",
    "\n",
    "Hvor: \n",
    "* S: mængden af importeret strøelse til grise = bruger input [ton]\n",
    "* CO<sub>2</sub>e<sub>s</sub>: CO<sub>2</sub>e udledningen for importeret strøelse = 51.0 [kg CO<sub>2</sub>e/ton]\n"
   ]
  },
  {
   "attachments": {},
   "cell_type": "markdown",
   "metadata": {
    "dotnet_interactive": {
     "language": "csharp"
    },
    "polyglot_notebook": {
     "kernelName": "csharp"
    }
   },
   "source": [
    "# **Testcases**\n",
    "\n",
    "Hvis du selv vil lege med beregningerne i testcases kan du køre notebooken i google colab [HER](https://colab.research.google.com/github/segesdk/SAF_dokumentation/blob/main/Importeret_strøelse.ipynb) (kræver login på din google konto)"
   ]
  },
  {
   "cell_type": "code",
   "execution_count": 3,
   "metadata": {
    "dotnet_interactive": {
     "language": "csharp"
    },
    "polyglot_notebook": {
     "kernelName": "csharp"
    },
    "vscode": {
     "languageId": "polyglot-notebook"
    }
   },
   "outputs": [
    {
     "name": "stdout",
     "output_type": "stream",
     "text": [
      "CO2e fra importeret strøelse på CHR nummeret: 3570 kg CO2e\r\n"
     ]
    }
   ],
   "source": [
    "// konstanter - nix pille\n",
    "double CO2e_s = 51.0;\n",
    "\n",
    "\n",
    "// Input - Test andre scenarier, ved at ændre i input-værdierne herunder\n",
    "double S = 70.0;\n",
    "\n",
    "// Beregning\n",
    "double CO2e_stroelse = S * CO2e_s;\n",
    "Console.WriteLine($\"CO2e fra importeret strøelse på CHR nummeret: {CO2e_stroelse} kg CO2e\");"
   ]
  }
 ],
 "metadata": {
  "kernelspec": {
   "display_name": ".NET (C#)",
   "language": "C#",
   "name": ".net-csharp"
  },
  "polyglot_notebook": {
   "kernelInfo": {
    "defaultKernelName": "csharp",
    "items": [
     {
      "aliases": [],
      "name": "csharp"
     },
     {
      "aliases": [
       "frontend"
      ],
      "languageName": null,
      "name": "vscode"
     }
    ]
   }
  }
 },
 "nbformat": 4,
 "nbformat_minor": 2
}
