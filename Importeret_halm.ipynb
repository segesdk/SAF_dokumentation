{
 "cells": [
  {
   "attachments": {},
   "cell_type": "markdown",
   "metadata": {},
   "source": [
    "# **Importeret halm**\n",
    "## **Intro**\n",
    "\n",
    "I ESGreen Tool skal brugeren oplyse pr CHR-nummer, hvor stor en mængde halm, der importeres til bedriften. Mængden af CO2e fra importeret halm skal nemlig lægges til bedriftsaftrykket for gris\n",
    "\n",
    "### **CO<sub>2</sub>e fra importeret halm på bedriften**\n",
    "\n",
    "$$ CO_2e_{halmimport} =  \\sum_{i=1}^{n} H_i \\cdot CO_2e_{H} $$\n",
    "\n",
    "\n",
    "\n",
    "Hvor: \n",
    "* n: antallet CHR numre på bedriften\n",
    "* H<sub>i</sub>: mængden af importeret halm til grise på det i'te CHR nummer = bruger input [ton]\n",
    "* CO<sub>2</sub>e<sub>H</sub>: CO<sub>2</sub>e udledningen for halm = 51.0 [kg CO<sub>2</sub>e/ton] GlobalFactor\n"
   ]
  },
  {
   "attachments": {},
   "cell_type": "markdown",
   "metadata": {},
   "source": [
    "# **Testcases**"
   ]
  },
  {
   "cell_type": "code",
   "execution_count": 1,
   "metadata": {
    "dotnet_interactive": {
     "language": "csharp"
    },
    "polyglot_notebook": {
     "kernelName": "csharp"
    }
   },
   "outputs": [
    {
     "name": "stdout",
     "output_type": "stream",
     "text": [
      "CO2e fra importeret halm på CHR nummeret: 3570 kg CO2e\r\n"
     ]
    }
   ],
   "source": [
    "// konstanter - nix pille\n",
    "double CO2e_H = 51.0;\n",
    "\n",
    "\n",
    "// Input - Test andre scenarier, ved at ændre i input-værdierne herunder\n",
    "double H = 70.0;\n",
    "\n",
    "// Beregning\n",
    "double CO2e_stroelse = H * CO2e_H;\n",
    "Console.WriteLine($\"CO2e fra importeret halm på CHR nummeret: {CO2e_stroelse} kg CO2e\");"
   ]
  }
 ],
 "metadata": {
  "kernelspec": {
   "display_name": ".NET (C#)",
   "language": "C#",
   "name": ".net-csharp"
  },
  "language_info": {
   "name": "polyglot-notebook"
  },
  "polyglot_notebook": {
   "kernelInfo": {
    "defaultKernelName": "csharp",
    "items": [
     {
      "aliases": [],
      "name": ".NET"
     },
     {
      "aliases": [
       "C#",
       "c#"
      ],
      "languageName": "C#",
      "name": "csharp"
     },
     {
      "aliases": [
       "F#",
       "f#"
      ],
      "languageName": "F#",
      "name": "fsharp"
     },
     {
      "aliases": [],
      "languageName": "HTML",
      "name": "html"
     },
     {
      "aliases": [
       "js"
      ],
      "languageName": "JavaScript",
      "name": "javascript"
     },
     {
      "aliases": [],
      "languageName": "KQL",
      "name": "kql"
     },
     {
      "aliases": [],
      "languageName": "Mermaid",
      "name": "mermaid"
     },
     {
      "aliases": [
       "powershell"
      ],
      "languageName": "PowerShell",
      "name": "pwsh"
     },
     {
      "aliases": [],
      "languageName": "SQL",
      "name": "sql"
     },
     {
      "aliases": [],
      "name": "value"
     },
     {
      "aliases": [
       "frontend"
      ],
      "name": "vscode"
     },
     {
      "aliases": [],
      "name": "webview"
     }
    ]
   }
  }
 },
 "nbformat": 4,
 "nbformat_minor": 2
}
