{
 "cells": [
  {
   "cell_type": "markdown",
   "metadata": {},
   "source": [
    "# **Importerede dyr**\n",
    "\n",
    "## **Beregning**\n",
    "\n",
    "### **Beregning af CO<sub>2</sub>e fra importerede dyr, afhænger af dyretypen** \n",
    "\n",
    "**Hvis smågrisene er indkøbt:**\n",
    "\n",
    ">Slagtegris (konv. + øko) + FRATS + smågrise (konv. + øko)\n",
    "\n",
    "$$CO_2e_{import} = \\frac{CO_2e_{indkøbt}}{1 - D_{dyr}} $$\n",
    "\n",
    "**Hvis smågrisene er fra egen produktion:**\n",
    "\n",
    ">Slagtegris (konv. + øko)\n",
    "\n",
    "$$CO_2e_{import} = \\frac{\\mu P_{små}}{1 - D_{dyr}} $$\n",
    "\n",
    ">FRATS + smågrise (konv. + øko)\n",
    "\n",
    "$$CO_2e_{import} = \\frac{\\mu P_{pat}}{1 - D_{dyr}} $$\n",
    "\n",
    "Hvor: \n",
    "\n",
    "* CO<sub>2</sub>e<sub>indkøbt</sub>: Den indkøbte smågris' klimabelastning ved indsættelse (m/u LUC) = input fra bruger [kg CO<sub>2</sub>e]\n",
    "* μP<sub>små</sub>: Den egenproducerede smågris' klimabelastning ved indsættelse (m/u LUC) = det gns. [produktaftryk](https://github.com/segesdk/SAF_dokumentation/blob/main/Produktaftryk.ipynb) m/u LUC for smågrisen på CHR-nummeret [kg CO<sub>2</sub>e]\n",
    "* μP<sub>pat</sub>: Den egenproducerede pattegris' klimabelastning ved indsættelse (m/u LUC) = det gns. [produktaftryk](https://github.com/segesdk/SAF_dokumentation/blob/main/Produktaftryk.ipynb) m/u LUC for pattegrisen grisen på CHR-nummeret [kg CO<sub>2</sub>e]\n",
    "* D<sub>dyr</sub>: Døde dyr (aka dødelighedsprocent) = input fra bruger el. [Tabelværdi](https://seges.sharepoint.com/:x:/r/sites/SAFprojeketet/_layouts/15/Doc.aspx?sourcedoc=%7B55DC573E-DF3A-4BB4-BA90-49438C005785%7D&file=Formler%20til%20PORK%202.0%20med%20foderberegner.xlsx&activeCell=%27biodisel%27!A16&action=embedview) (obs på øko/konv.) [%]\n",
    "\n",
    ">Soen (konv. + øko)\n",
    "\n",
    "$$CO_2e_{import} = \\lambda \\cdot K_{so} \\cdot C_{polte}$$\n",
    "\n",
    "\n",
    "Hvor: \n",
    "\n",
    " * λ: 1. lægs procent  = input fra bruger el. [Standardtal](https://seges.sharepoint.com/:x:/r/sites/SAFprojeketet/_layouts/15/Doc.aspx?sourcedoc=%7B55DC573E-DF3A-4BB4-BA90-49438C005785%7D&file=Formler%20til%20PORK%202.0%20med%20foderberegner.xlsx&activeCell=%27NORMtal-2020%27!A8&action=embedview) (obs på øko/konv.) [%]\n",
    " * K<sub>so</sub>: Kuld pr årsso = input fra bruger el. [Standardtal](https://seges.sharepoint.com/:x:/r/sites/SAFprojeketet/_layouts/15/Doc.aspx?sourcedoc=%7B55DC573E-DF3A-4BB4-BA90-49438C005785%7D&file=Formler%20til%20PORK%202.0%20med%20foderberegner.xlsx&activeCell=%27NORMtal-2020%27!A9&action=embedview) (obs på øko/konv.)\n",
    " * C<sub>polte</sub>: CO<sub>2</sub>e fra avlspolte = [Standardtal](https://seges.sharepoint.com/:x:/r/sites/SAFprojeketet/_layouts/15/Doc.aspx?sourcedoc=%7B55DC573E-DF3A-4BB4-BA90-49438C005785%7D&file=Formler%20til%20PORK%202.0%20med%20foderberegner.xlsx&activeCell=%27NORMtal-2020%27!B54&action=embedview) [kg CO<sub>2</sub>e]\n",
    "\n",
    "----"
   ]
  },
  {
   "cell_type": "markdown",
   "metadata": {},
   "source": [
    "# **Testcases**\n",
    "\n",
    "Hvis du selv vil lege med beregningerne i testcases kan du køre notebooken i google colab [HER](https://colab.research.google.com/github/segesdk/SAF_dokumentation/blob/main/Importerede_dyr.ipynb) (kræver login på din google konto)"
   ]
  },
  {
   "cell_type": "code",
   "execution_count": null,
   "metadata": {
    "dotnet_interactive": {
     "language": "csharp"
    },
    "vscode": {
     "languageId": "dotnet-interactive.csharp"
    }
   },
   "outputs": [],
   "source": [
    "// konstanter - nix pille\n",
    "double C_polte = 258.0;"
   ]
  },
  {
   "cell_type": "markdown",
   "metadata": {},
   "source": [
    "**Slagtegrise**"
   ]
  },
  {
   "cell_type": "code",
   "execution_count": null,
   "metadata": {
    "dotnet_interactive": {
     "language": "csharp"
    },
    "vscode": {
     "languageId": "dotnet-interactive.csharp"
    }
   },
   "outputs": [
    {
     "name": "stdout",
     "output_type": "stream",
     "text": [
      "CO2e fra den indkøbte smågris *uden* LUC: 113,98963730569949 kg CO2e\r\n",
      "CO2e fra den indkøbte smågris *med* LUC: 88,08290155440415 kg CO2e\r\n",
      "CO2e fra den egenproducerede smågris *uden* LUC: 107,46474722529636 kg CO2e\r\n",
      "CO2e fra den egenproducerede smågris *med* LUC: 85,20879029010695 kg CO2e\r\n"
     ]
    }
   ],
   "source": [
    "// Input - Test andre scenarier, ved at ændre i input-værdierne herunder\n",
    "double C_indkobt_mLUC = 110.0;\n",
    "double C_indkobt_uLUC = 85.0;\n",
    "double D_dyr = 0.035;\n",
    "double myP_smaa_mLUC = 103.703481072411;\n",
    "double myP_smaa_uLUC = 82.2264826299532;\n",
    "\n",
    "// Beregning\n",
    "double CO2e_indkob_mLUC = C_indkobt_mLUC / (1-D_dyr);\n",
    "double CO2e_indkob_uLUC = C_indkobt_uLUC / (1-D_dyr);\n",
    "double CO2e_egne_mLUC = myP_smaa_mLUC / (1-D_dyr);\n",
    "double CO2e_egne_uLUC = myP_smaa_uLUC / (1-D_dyr);\n",
    "\n",
    "Console.WriteLine($\"CO2e fra den indkøbte smågris *uden* LUC: {CO2e_indkob_mLUC} kg CO2e\");\n",
    "Console.WriteLine($\"CO2e fra den indkøbte smågris *med* LUC: {CO2e_indkob_uLUC} kg CO2e\");\n",
    "Console.WriteLine($\"CO2e fra den egenproducerede smågris *uden* LUC: {CO2e_egne_mLUC} kg CO2e\");\n",
    "Console.WriteLine($\"CO2e fra den egenproducerede smågris *med* LUC: {CO2e_egne_uLUC} kg CO2e\");"
   ]
  }
 ],
 "metadata": {
  "kernelspec": {
   "display_name": ".NET (C#)",
   "language": "C#",
   "name": ".net-csharp"
  },
  "language_info": {
   "file_extension": ".cs",
   "mimetype": "text/x-csharp",
   "name": "C#",
   "pygments_lexer": "csharp",
   "version": "9.0"
  },
  "orig_nbformat": 4,
  "vscode": {
   "interpreter": {
    "hash": "bab84105c52ccadeb85d61dc9a1d15bd1feb821a6dbda7c8ceb9873f369b5223"
   }
  }
 },
 "nbformat": 4,
 "nbformat_minor": 2
}
