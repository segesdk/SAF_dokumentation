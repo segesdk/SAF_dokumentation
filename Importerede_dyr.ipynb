{
 "cells": [
  {
   "cell_type": "markdown",
   "metadata": {},
   "source": [
    "# **Importerede dyr**\n",
    "\n",
    "## **Beregning**\n",
    "\n",
    "### **Beregning af CO<sub>2</sub>e fra importerede dyr, afhænger af dyretypen** \n",
    "\n",
    "**Hvis smågrisene er indkøbt:**\n",
    "\n",
    ">Slagtegris (konv. + øko) + FRATS + smågrise (konv. + øko)\n",
    "\n",
    "$$CO_2e_{import} = \\frac{CO_2e_{indkøbt}}{1 - D_{dyr}} $$\n",
    "\n",
    "**Hvis smågrisene er fra egen produktion:**\n",
    "\n",
    ">Slagtegris (konv. + øko)\n",
    "\n",
    "$$CO_2e_{import} = \\frac{\\mu P_{små}}{1 - D_{dyr}} $$\n",
    "\n",
    ">FRATS + smågrise (konv. + øko)\n",
    "\n",
    "$$CO_2e_{import} = \\frac{\\mu P_{pat}}{1 - D_{dyr}} $$\n",
    "\n",
    "Hvor: \n",
    "\n",
    "* CO<sub>2</sub>e<sub>indkøbt</sub>: Den indkøbte smågris' klimabelastning ved indsættelse (m/u LUC) = input fra bruger [kg CO<sub>2</sub>e]\n",
    "* μP<sub>små</sub>: Den egenproducerede smågris' klimabelastning ved indsættelse (m/u LUC) = det gns. [produktaftryk](https://github.com/segesdk/SAF_dokumentation/blob/main/Produktaftryk.ipynb) m/u LUC for smågrisen på CHR-nummeret [kg CO<sub>2</sub>e]\n",
    "* μP<sub>pat</sub>: Den egenproducerede pattegris' klimabelastning ved indsættelse (m/u LUC) = det gns. [produktaftryk](https://github.com/segesdk/SAF_dokumentation/blob/main/Produktaftryk.ipynb) m/u LUC for pattegrisen grisen på CHR-nummeret [kg CO<sub>2</sub>e]\n",
    "* D<sub>dyr</sub>: Døde dyr (aka dødelighedsprocent) = input fra bruger el. [Tabelværdi](https://seges.sharepoint.com/:x:/r/sites/SAFprojeketet/_layouts/15/Doc.aspx?sourcedoc=%7B55DC573E-DF3A-4BB4-BA90-49438C005785%7D&file=Formler%20til%20PORK%202.0%20med%20foderberegner.xlsx&activeCell=%27biodisel%27!A16&action=embedview) (obs på øko/konv.) [%]\n",
    "\n",
    ">Soen (konv. + øko)\n",
    "\n",
    "**Hvis poltene er indkøbt:**\n",
    "\n",
    "$$CO_2e_{import} = \\lambda \\cdot K_{so} \\cdot C_{polte}$$\n",
    "\n",
    "**Hvis poltene er fra egen produktion:**\n",
    "\n",
    "$$CO_2e_{import} = 0$$\n",
    "\n",
    "Hvor: \n",
    "\n",
    " * λ: 1. lægs procent  = input fra bruger el. [Standardtal](https://seges.sharepoint.com/:x:/r/sites/SAFprojeketet/_layouts/15/Doc.aspx?sourcedoc=%7B55DC573E-DF3A-4BB4-BA90-49438C005785%7D&file=Formler%20til%20PORK%202.0%20med%20foderberegner.xlsx&activeCell=%27NORMtal-2020%27!A8&action=embedview) (obs på øko/konv.) [%]\n",
    " * K<sub>so</sub>: Kuld pr årsso = input fra bruger el. [Standardtal](https://seges.sharepoint.com/:x:/r/sites/SAFprojeketet/_layouts/15/Doc.aspx?sourcedoc=%7B55DC573E-DF3A-4BB4-BA90-49438C005785%7D&file=Formler%20til%20PORK%202.0%20med%20foderberegner.xlsx&activeCell=%27NORMtal-2020%27!A9&action=embedview) (obs på øko/konv.)\n",
    " * C<sub>polte</sub>: CO<sub>2</sub>e fra avlspolte = [Standardtal](https://seges.sharepoint.com/:x:/r/sites/SAFprojeketet/_layouts/15/Doc.aspx?sourcedoc=%7B55DC573E-DF3A-4BB4-BA90-49438C005785%7D&file=Formler%20til%20PORK%202.0%20med%20foderberegner.xlsx&activeCell=%27NORMtal-2020%27!B54&action=embedview) [kg CO<sub>2</sub>e]\n",
    "\n",
    "----"
   ]
  }
 ],
 "metadata": {
  "kernelspec": {
   "display_name": "Python 3.10.5 64-bit",
   "language": "python",
   "name": "python3"
  },
  "language_info": {
   "name": "python",
   "version": "3.10.5"
  },
  "orig_nbformat": 4,
  "vscode": {
   "interpreter": {
    "hash": "bab84105c52ccadeb85d61dc9a1d15bd1feb821a6dbda7c8ceb9873f369b5223"
   }
  }
 },
 "nbformat": 4,
 "nbformat_minor": 2
}
