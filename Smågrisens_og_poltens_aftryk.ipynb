{
 "cells": [
  {
   "cell_type": "markdown",
   "metadata": {
    "dotnet_interactive": {
     "language": "csharp"
    },
    "polyglot_notebook": {
     "kernelName": "csharp"
    }
   },
   "source": [
    "# **Smågrisens og poltens aftryk**\n",
    "\n",
    "## **Beregning**\n",
    "\n",
    "### **Beregning af CO<sub>2</sub>e fra smågrise og polte, afhænger af dyretypen** \n",
    "\n",
    "**Hvis smågrisene/poltene er indkøbt:**\n",
    "\n",
    ">Slagtegris (konv. + øko) + FRATS + smågrise (konv. + øko)\n",
    "\n",
    "$$CO_2e_{import} = \\frac{CO_2e_{indkøbt}}{1 - D_{dyr}} $$\n",
    "\n",
    "Hvor:\n",
    "\n",
    "* D<sub>dyr</sub>: Døde dyr (aka dødelighedsprocent) = input fra bruger el. [Tabelværdi](https://seges.sharepoint.com/:x:/r/sites/SAFprojeketet/_layouts/15/Doc.aspx?sourcedoc=%7B55DC573E-DF3A-4BB4-BA90-49438C005785%7D&file=Formler%20til%20PORK%202.0%20med%20foderberegner.xlsx&activeCell=%27biodisel%27!A16&action=embedview) (obs på øko/konv.) [%]\n",
    "* CO<sub>2</sub>e<sub>indkøbt</sub>: Den indkøbte smågris' klimabelastning ved indsættelse (m/u LUC) = input fra bruger eller beregnet standardværdi [kg CO<sub>2</sub>e]:\n",
    "\n",
    "$$CO_2e_{indkøbt} = C_{dyr} + (V_{ind} - V_{std}) \\cdot \\Delta_V $$\n",
    "\n",
    "Hvor:\n",
    "\n",
    "* C<sub>dyr</sub>: Standard CO<sub>2</sub>e udledning fra importerede dyr = [Tabelværdi](https://seges.sharepoint.com/:x:/r/sites/SAFprojeketet/_layouts/15/Doc.aspx?sourcedoc=%7B55DC573E-DF3A-4BB4-BA90-49438C005785%7D&file=Formler%20til%20PORK%202.0%20med%20foderberegner.xlsx&activeCell=%27NORMtal-2020%27!B55&action=embedview) [kg CO<sub>2</sub>e]\n",
    "* V<sub>ind</sub>: Indsættelsesvægt = input fra bruger el. [Tabelværdi](https://seges.sharepoint.com/:x:/r/sites/SAFprojeketet/_layouts/15/Doc.aspx?sourcedoc=%7B55DC573E-DF3A-4BB4-BA90-49438C005785%7D&file=Formler%20til%20PORK%202.0%20med%20foderberegner.xlsx&activeCell=%27Formler%20NH3%20og%20N2O%20-Stald%201%27!J2&action=embedview) [kg]\n",
    "* V<sub>std</sub>: Grisens standard indsættelsesvægt = [Tabelværdi](https://seges.sharepoint.com/:x:/r/sites/SAFprojeketet/_layouts/15/Doc.aspx?sourcedoc=%7B55DC573E-DF3A-4BB4-BA90-49438C005785%7D&file=Formler%20til%20PORK%202.0%20med%20foderberegner.xlsx&activeCell=%27Formler%20NH3%20og%20N2O%20-Stald%201%27!J2&action=embedview) [kg]\n",
    "* Δ<sub>V</sub>: Reguleringsfaktor for CO<sub>2</sub>e ift. indsættelsesvægt = [Tabelværdi](https://seges.sharepoint.com/:x:/r/sites/SAFprojeketet/_layouts/15/Doc.aspx?sourcedoc=%7B55DC573E-DF3A-4BB4-BA90-49438C005785%7D&file=Formler%20til%20PORK%202.0%20med%20foderberegner.xlsx&activeCell=%27NORMtal-2020%27!D55&action=embedview)\n",
    "\n",
    ">Soen (konv. + øko)\n",
    "\n",
    "$$CO_2e_{import} = \\lambda \\cdot K_{so} \\cdot C_{polte}$$\n",
    "\n",
    "\n",
    "Hvor: \n",
    "\n",
    " * λ: 1. lægs procent  = input fra bruger el. [Standardtal](https://seges.sharepoint.com/:x:/r/sites/SAFprojeketet/_layouts/15/Doc.aspx?sourcedoc=%7B55DC573E-DF3A-4BB4-BA90-49438C005785%7D&file=Formler%20til%20PORK%202.0%20med%20foderberegner.xlsx&activeCell=%27NORMtal-2020%27!A8&action=embedview) (obs på øko/konv.) [%]\n",
    " * K<sub>so</sub>: Kuld pr årsso = input fra bruger el. [Standardtal](https://seges.sharepoint.com/:x:/r/sites/SAFprojeketet/_layouts/15/Doc.aspx?sourcedoc=%7B55DC573E-DF3A-4BB4-BA90-49438C005785%7D&file=Formler%20til%20PORK%202.0%20med%20foderberegner.xlsx&activeCell=%27NORMtal-2020%27!A9&action=embedview) (obs på øko/konv.)\n",
    " * C<sub>polte</sub>: CO<sub>2</sub>e fra avlspolte = [Standardtal](https://seges.sharepoint.com/:x:/r/sites/SAFprojeketet/_layouts/15/Doc.aspx?sourcedoc=%7B55DC573E-DF3A-4BB4-BA90-49438C005785%7D&file=Formler%20til%20PORK%202.0%20med%20foderberegner.xlsx&activeCell=%27NORMtal-2020%27!B54&action=embedview) [kg CO<sub>2</sub>e]\n",
    "\n",
    "**Hvis smågrisene/poltene er fra egen produktion:**\n",
    "\n",
    ">Slagtegris (konv. + øko)\n",
    "\n",
    "$$CO_2e_{import} = \\frac{\\mu P_{små}}{1 - D_{dyr}} $$\n",
    "\n",
    ">FRATS + smågrise (konv. + øko)\n",
    "\n",
    "$$CO_2e_{import} = \\frac{\\mu P_{pat}}{1 - D_{dyr}} $$\n",
    "\n",
    "Hvor: \n",
    "\n",
    "* μP<sub>små</sub>: Den egenproducerede smågris' klimabelastning ved indsættelse (m/u LUC) = det gns. [produktaftryk](https://github.com/segesdk/SAF_dokumentation/blob/main/Produktaftryk_gris.ipynb) m/u LUC for smågrisen på CHR-nummeret [kg CO<sub>2</sub>e]\n",
    "* μP<sub>pat</sub>: Den egenproducerede pattegris' klimabelastning ved indsættelse (m/u LUC) = det gns. [produktaftryk](https://github.com/segesdk/SAF_dokumentation/blob/main/Produktaftryk_gris.ipynb) m/u LUC for pattegrisen på CHR-nummeret [kg CO<sub>2</sub>e]\n",
    "* D<sub>dyr</sub>: Døde dyr (aka dødelighedsprocent) = input fra bruger el. [Tabelværdi](https://seges.sharepoint.com/:x:/r/sites/SAFprojeketet/_layouts/15/Doc.aspx?sourcedoc=%7B55DC573E-DF3A-4BB4-BA90-49438C005785%7D&file=Formler%20til%20PORK%202.0%20med%20foderberegner.xlsx&activeCell=%27biodisel%27!A16&action=embedview) (obs på øko/konv.) [%]\n",
    "\n",
    ">Soen (konv. + øko)\n",
    "\n",
    "Her benyttes samme beregning, som hvis poltene er indkøbt\n",
    "\n",
    "----"
   ]
  },
  {
   "attachments": {},
   "cell_type": "markdown",
   "metadata": {
    "dotnet_interactive": {
     "language": "csharp"
    },
    "polyglot_notebook": {
     "kernelName": "csharp"
    }
   },
   "source": [
    "# **Testcases**"
   ]
  },
  {
   "cell_type": "code",
   "execution_count": null,
   "metadata": {
    "dotnet_interactive": {
     "language": "csharp"
    },
    "vscode": {
     "languageId": "polyglot-notebook"
    }
   },
   "outputs": [],
   "source": [
    "// konstanter - nix pille\n",
    "double C_polte = 258.0;\n",
    "\n",
    "double C_slagt_mLUC = 110.0;\n",
    "double C_slagt_uLUC = 85.0;\n",
    "double V_std_slagt = 30.0; \n",
    "double Delta_V_slagt_mLUC = 2.5;\n",
    "double Delta_V_slagt_uLUC = 2.0;\n",
    "\n",
    "double C_smaa_mLUC = 54.0;\n",
    "double C_smaa_uLUC = 40.0;\n",
    "double V_std_smaa = 6.6; \n",
    "double Delta_V_smaa_mLUC = 4.0;\n",
    "double Delta_V_smaa_uLUC = 3.0;"
   ]
  },
  {
   "cell_type": "markdown",
   "metadata": {
    "dotnet_interactive": {
     "language": "csharp"
    },
    "polyglot_notebook": {
     "kernelName": "csharp"
    }
   },
   "source": [
    "**Slagtegrise**"
   ]
  },
  {
   "cell_type": "code",
   "execution_count": null,
   "metadata": {
    "dotnet_interactive": {
     "language": "csharp"
    },
    "vscode": {
     "languageId": "polyglot-notebook"
    }
   },
   "outputs": [],
   "source": [
    "// Input - Test andre scenarier, ved at ændre i input-værdierne herunder\n",
    "double V_ind = 30.0;\n",
    "double D_dyr = 0.035;\n",
    "double myP_smaa_mLUC = 103.703481072411;\n",
    "double myP_smaa_uLUC = 82.2264826299532;\n",
    "\n",
    "// Beregning\n",
    "double C_indkobt_mLUC = C_slagt_mLUC + (V_ind - V_std_slagt) * Delta_V_slagt_mLUC;\n",
    "double C_indkobt_uLUC = C_slagt_uLUC + (V_ind - V_std_slagt) * Delta_V_slagt_uLUC;\n",
    "\n",
    "double CO2e_indkob_mLUC = C_indkobt_mLUC / (1-D_dyr);\n",
    "double CO2e_indkob_uLUC = C_indkobt_uLUC / (1-D_dyr);\n",
    "\n",
    "double CO2e_egne_mLUC = myP_smaa_mLUC / (1-D_dyr);\n",
    "double CO2e_egne_uLUC = myP_smaa_uLUC / (1-D_dyr);\n",
    "\n",
    "Console.WriteLine($\"CO2e fra den indkøbte smågris *med* LUC: {CO2e_indkob_mLUC} kg CO2e\");\n",
    "Console.WriteLine($\"CO2e fra den indkøbte smågris *uden* LUC: {CO2e_indkob_uLUC} kg CO2e\");\n",
    "Console.WriteLine($\"CO2e fra den egenproducerede smågris *med* LUC: {CO2e_egne_mLUC} kg CO2e\");\n",
    "Console.WriteLine($\"CO2e fra den egenproducerede smågris *uden* LUC: {CO2e_egne_uLUC} kg CO2e\");"
   ]
  },
  {
   "cell_type": "markdown",
   "metadata": {
    "dotnet_interactive": {
     "language": "csharp"
    },
    "polyglot_notebook": {
     "kernelName": "csharp"
    }
   },
   "source": [
    "**Smågrise**"
   ]
  },
  {
   "cell_type": "code",
   "execution_count": null,
   "metadata": {
    "dotnet_interactive": {
     "language": "csharp"
    },
    "vscode": {
     "languageId": "polyglot-notebook"
    }
   },
   "outputs": [],
   "source": [
    "// Input - Test andre scenarier, ved at ændre i input-værdierne herunder\n",
    "double V_ind = 6.6;\n",
    "double D_dyr = 0.036;\n",
    "double myP_pat_mLUC = 49.679594274846;\n",
    "double myP_pat_uLUC = 37.9907298533091;\n",
    "\n",
    "// Beregning\n",
    "double C_indkobt_mLUC = C_smaa_mLUC + (V_ind - V_std_smaa) * Delta_V_smaa_mLUC;\n",
    "double C_indkobt_uLUC = C_smaa_uLUC + (V_ind - V_std_smaa) * Delta_V_smaa_uLUC;\n",
    "\n",
    "double CO2e_indkob_mLUC = C_indkobt_mLUC / (1-D_dyr);\n",
    "double CO2e_indkob_uLUC = C_indkobt_uLUC / (1-D_dyr);\n",
    "\n",
    "double CO2e_egne_mLUC = myP_pat_mLUC / (1-D_dyr);\n",
    "double CO2e_egne_uLUC = myP_pat_uLUC / (1-D_dyr);\n",
    "\n",
    "Console.WriteLine($\"CO2e fra den indkøbte smågris *uden* LUC: {CO2e_indkob_uLUC} kg CO2e\");\n",
    "Console.WriteLine($\"CO2e fra den indkøbte smågris *med* LUC: {CO2e_indkob_mLUC} kg CO2e\");\n",
    "Console.WriteLine($\"CO2e fra den egenproducerede smågris *uden* LUC: {CO2e_egne_uLUC} kg CO2e\");\n",
    "Console.WriteLine($\"CO2e fra den egenproducerede smågris *med* LUC: {CO2e_egne_mLUC} kg CO2e\");"
   ]
  },
  {
   "cell_type": "markdown",
   "metadata": {
    "dotnet_interactive": {
     "language": "csharp"
    }
   },
   "source": [
    "**Årssøer**"
   ]
  },
  {
   "cell_type": "code",
   "execution_count": null,
   "metadata": {
    "dotnet_interactive": {
     "language": "csharp"
    },
    "vscode": {
     "languageId": "polyglot-notebook"
    }
   },
   "outputs": [],
   "source": [
    "// Input - Test andre scenarier, ved at ændre i input-værdierne herunder\n",
    "double lambda = 0.237;\n",
    "double K_so = 2.25;\n",
    "\n",
    "// Beregning\n",
    "double CO2e_import = lambda * K_so * C_polte;\n",
    "\n",
    "Console.WriteLine($\"CO2e fra indsatte/købte polte: {CO2e_import} kg CO2e\");"
   ]
  }
 ],
 "metadata": {
  "kernelspec": {
   "display_name": ".NET (C#)",
   "language": "C#",
   "name": ".net-csharp"
  },
  "polyglot_notebook": {
   "kernelInfo": {
    "defaultKernelName": "csharp",
    "items": [
     {
      "aliases": [
       "c#",
       "C#"
      ],
      "languageName": "C#",
      "name": "csharp"
     },
     {
      "aliases": [],
      "name": ".NET"
     },
     {
      "aliases": [
       "f#",
       "F#"
      ],
      "languageName": "F#",
      "name": "fsharp"
     },
     {
      "aliases": [],
      "languageName": "HTML",
      "name": "html"
     },
     {
      "aliases": [
       "js"
      ],
      "languageName": "JavaScript",
      "name": "javascript"
     },
     {
      "aliases": [],
      "languageName": "KQL",
      "name": "kql"
     },
     {
      "aliases": [],
      "languageName": "Mermaid",
      "name": "mermaid"
     },
     {
      "aliases": [
       "powershell"
      ],
      "languageName": "PowerShell",
      "name": "pwsh"
     },
     {
      "aliases": [],
      "languageName": "SQL",
      "name": "sql"
     },
     {
      "aliases": [],
      "name": "value"
     },
     {
      "aliases": [
       "frontend"
      ],
      "name": "vscode"
     },
     {
      "aliases": [],
      "name": "webview"
     }
    ]
   }
  }
 },
 "nbformat": 4,
 "nbformat_minor": 2
}
