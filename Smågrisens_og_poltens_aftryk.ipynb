{
 "cells": [
  {
   "attachments": {},
   "cell_type": "markdown",
   "metadata": {},
   "source": [
    "# **Smågrisens og poltens aftryk - indkøbte dyr til produktionen**\n",
    "\n",
    "## **Indledning**\n",
    "\n",
    "Alle dyr, som \"købes ind\" til produktionen kommer med et aftryk - dette gælder også, hvis dyrene er egenproducerede.\n",
    "I ESGreenTool kan brugeren selv angive CO2e aftrykket for det egenproducerede/indkøbte dyr - eller benytte sig af standardværdierne i brugerfladen.\n",
    "Brugeren kan også angive, hvor mange af dyrene, der er indkøbte og hvor mange der er egenproducerede.\n",
    "\n",
    "På baggrund af disse data beregnes et vægtet CO2e aftryk for det indkøbte dyr, som indgår i produktaftrykket.\n",
    "I bedriftsaftrykket trækkes aftrykket fra de egenproducerede dyr fra i scope 3, da disses aftryk antages at ligge i scope 1 for den pågældende dyretype.\n",
    "\n",
    "### **Beregning af CO<sub>2</sub>e fra importerede grise, afhænger af dyretypen** \n",
    "\n",
    "For alle dyretyper udregnes først andelen, θ, af egenproducerede og indkøbte grise:\n",
    "\n",
    "$$\\theta_{egen} = \\frac{A_{egen}}{A_{egen} + A_{indkøbt}} $$\n",
    "\n",
    "$$\\theta_{indkøbt} = \\frac{A_{indkøbt}}{A_{egen} + A_{indkøbt}} $$\n",
    "\n",
    "Hvor:\n",
    "\n",
    "* A<sub>egen</sub>: Antal egenproducerede grise (polte/7kg grise/30 kg grise) = input fra bruger [stk]\n",
    "* A<sub>indkøbt</sub>: Antal indkøbte grise (polte/7kg grise/30 kg grise) = input fra bruger [stk]\n",
    "\n",
    "\n",
    "**Slagtegris (konv. + øko) + FRATS + smågrise (konv. + øko):**\n",
    "\n",
    "$$CO_2e_{import} =  (\\frac{C_{egen}}{1 - D} \\cdot \\theta_{egen}) + (\\frac{C_{indkøbt} + (V_{ind} - V_{std}) \\cdot \\Delta_V}{1 - D} \\cdot \\theta_{indkøbt})$$\n",
    "\n",
    "Hvor:\n",
    "\n",
    "* C<sub>egen</sub>: Den egenproducerede gris' klimabelastning ved indsættelse (m/u LUC) = input fra bruger el. [Tabelværdi m/ dLUC](https://seges.sharepoint.com/:x:/r/sites/SAFprojeketet/_layouts/15/Doc.aspx?sourcedoc=%7B0C95A002-A20E-4641-95BE-18B1560D7CE2%7D&file=PigData.xlsx&activeCell=AnimalTypes!AW1&action=embedview) /[Tabelværdi u/ dLUC](https://seges.sharepoint.com/:x:/r/sites/SAFprojeketet/_layouts/15/Doc.aspx?sourcedoc=%7B0C95A002-A20E-4641-95BE-18B1560D7CE2%7D&file=PigData.xlsx&activeCell=AnimalTypes!AV1&action=embedview) [kg CO<sub>2</sub>e]\n",
    "* D: Dødelighedsprocent = input fra bruger el. [Tabelværdi](https://seges.sharepoint.com/:x:/r/sites/SAFprojeketet/_layouts/15/Doc.aspx?sourcedoc=%7B0C95A002-A20E-4641-95BE-18B1560D7CE2%7D&file=PigData.xlsx&activeCell=AnimalTypes!AB1&action=embedview)  [%]\n",
    "* C<sub>indkøbt</sub>: Standard CO<sub>2</sub>e udledning fra indkøbte dyr (m/u dLUC) = input fra bruger el. [Tabelværdi m/ dLUC](https://seges.sharepoint.com/:x:/r/sites/SAFprojeketet/_layouts/15/Doc.aspx?sourcedoc=%7B0C95A002-A20E-4641-95BE-18B1560D7CE2%7D&file=PigData.xlsx&activeCell=AnimalTypes!AD1&action=embedview) /[Tabelværdi u/ dLUC](https://seges.sharepoint.com/:x:/r/sites/SAFprojeketet/_layouts/15/Doc.aspx?sourcedoc=%7B0C95A002-A20E-4641-95BE-18B1560D7CE2%7D&file=PigData.xlsx&activeCell=AnimalTypes!AC1&action=embedview)  [kg CO<sub>2</sub>e]\n",
    "* V<sub>ind</sub>: Indsættelsesvægt = input fra bruger el. [Tabelværdi](https://seges.sharepoint.com/:x:/r/sites/SAFprojeketet/_layouts/15/Doc.aspx?sourcedoc=%7B0C95A002-A20E-4641-95BE-18B1560D7CE2%7D&file=PigData.xlsx&activeCell=AnimalTypes!D1&action=embedview)  [kg]\n",
    "* V<sub>std</sub>: Grisens standard indsættelsesvægt = [Tabelværdi](https://seges.sharepoint.com/:x:/r/sites/SAFprojeketet/_layouts/15/Doc.aspx?sourcedoc=%7B0C95A002-A20E-4641-95BE-18B1560D7CE2%7D&file=PigData.xlsx&activeCell=AnimalTypes!D1&action=embedview)  [kg]\n",
    "* Δ<sub>V</sub>: Reguleringsfaktor for CO<sub>2</sub>e ift. indsættelsesvægt = [Tabelværdi m/ dLUC](https://seges.sharepoint.com/:x:/r/sites/SAFprojeketet/_layouts/15/Doc.aspx?sourcedoc=%7B0C95A002-A20E-4641-95BE-18B1560D7CE2%7D&file=PigData.xlsx&activeCell=AnimalTypes!AF1&action=embedview) /[Tabelværdi u/ dLUC](https://seges.sharepoint.com/:x:/r/sites/SAFprojeketet/_layouts/15/Doc.aspx?sourcedoc=%7B0C95A002-A20E-4641-95BE-18B1560D7CE2%7D&file=PigData.xlsx&activeCell=AnimalTypes!AE1&action=embedview)\n",
    "\n",
    "**Soen (konv. + øko):**\n",
    "\n",
    "$$CO_2e_{import} = (\\lambda \\cdot K_{so} \\cdot C_{egen} \\cdot \\theta_{egen}) + (\\lambda \\cdot K_{so} \\cdot C_{indkøbt} \\cdot \\theta_{indkøbt}) $$\n",
    "\n",
    "\n",
    "Hvor: \n",
    "\n",
    " * λ: 1. lægs procent  = input fra bruger el. [Tabelværdi](https://seges.sharepoint.com/:x:/r/sites/SAFprojeketet/_layouts/15/Doc.aspx?sourcedoc=%7B0C95A002-A20E-4641-95BE-18B1560D7CE2%7D&file=PigData.xlsx&activeCell=AnimalTypes!AG1&action=embedview) [%]\n",
    " * K<sub>so</sub>: Kuld pr årsso = input fra bruger el. [Tabelværdi](https://seges.sharepoint.com/:x:/r/sites/SAFprojeketet/_layouts/15/Doc.aspx?sourcedoc=%7B0C95A002-A20E-4641-95BE-18B1560D7CE2%7D&file=PigData.xlsx&activeCell=AnimalTypes!AH1&action=embedview)\n",
    " * C<sub>egen</sub>: CO<sub>2</sub>e fra egenproducerede polte = input fra bruger el. [Tabelværdi m/ dLUC](https://seges.sharepoint.com/:x:/r/sites/SAFprojeketet/_layouts/15/Doc.aspx?sourcedoc=%7B0C95A002-A20E-4641-95BE-18B1560D7CE2%7D&file=PigData.xlsx&activeCell=AnimalTypes!AW1&action=embedview) /[Tabelværdi u/ dLUC](https://seges.sharepoint.com/:x:/r/sites/SAFprojeketet/_layouts/15/Doc.aspx?sourcedoc=%7B0C95A002-A20E-4641-95BE-18B1560D7CE2%7D&file=PigData.xlsx&activeCell=AnimalTypes!AV1&action=embedview)  [kg CO<sub>2</sub>e]\n",
    "* C<sub>indkøbt</sub>: CO<sub>2</sub>e fra indkøbte polte = input fra bruger el. [Tabelværdi m/ dLUC](https://seges.sharepoint.com/:x:/r/sites/SAFprojeketet/_layouts/15/Doc.aspx?sourcedoc=%7B0C95A002-A20E-4641-95BE-18B1560D7CE2%7D&file=PigData.xlsx&activeCell=AnimalTypes!AD1&action=embedview) /[Tabelværdi u/ dLUC](https://seges.sharepoint.com/:x:/r/sites/SAFprojeketet/_layouts/15/Doc.aspx?sourcedoc=%7B0C95A002-A20E-4641-95BE-18B1560D7CE2%7D&file=PigData.xlsx&activeCell=AnimalTypes!AC1&action=embedview)  [kg CO<sub>2</sub>e]\n"
   ]
  },
  {
   "attachments": {},
   "cell_type": "markdown",
   "metadata": {},
   "source": [
    "# **Testcases**"
   ]
  },
  {
   "cell_type": "code",
   "execution_count": 13,
   "metadata": {
    "dotnet_interactive": {
     "language": "csharp"
    }
   },
   "outputs": [],
   "source": [
    "// konstanter - nix pille\n",
    "double V_std_slagt = 30.0; \n",
    "double V_std_smaa = 6.3; \n",
    "double Delta_V_smaa_mLUC = 4.0;\n",
    "double Delta_V_smaa_uLUC = 3.0;\n",
    "double Delta_V_slagt_mLUC = 2.5;\n",
    "double Delta_V_slagt_uLUC = 2.0;"
   ]
  },
  {
   "attachments": {},
   "cell_type": "markdown",
   "metadata": {},
   "source": [
    "**Slagtegrise**"
   ]
  },
  {
   "cell_type": "code",
   "execution_count": 14,
   "metadata": {
    "dotnet_interactive": {
     "language": "csharp"
    }
   },
   "outputs": [
    {
     "name": "stdout",
     "output_type": "stream",
     "text": [
      "Procent egenproducerede: 80 %\n",
      "Procent indkøbte: 20 %\n",
      "CO2e fra slagtegrisen *med* LUC: 100.48 kg CO2e\n",
      "CO2e fra slagtegrisen *uden* LUC: 69.7939896373057 kg CO2e\n"
     ]
    }
   ],
   "source": [
    "// Input - Test andre scenarier, ved at ændre i input-værdierne herunder\n",
    "double A_egen = 800;\n",
    "double A_indkobt = 200;\n",
    "double V_ind = 30.0;\n",
    "double D = 0.035;\n",
    "double C_egen_mLUC = 91.704;\n",
    "double C_egen_uLUC = 63.939;\n",
    "double C_indkobt_mLUC = 118.0;\n",
    "double C_indkobt_uLUC = 81.0;\n",
    "\n",
    "// Beregning\n",
    "double theta_egen = A_egen / (A_egen + A_indkobt);\n",
    "double theta_indkobt = A_indkobt / (A_egen + A_indkobt);\n",
    "\n",
    "double CO2e_mLUC = (C_egen_mLUC / (1 - D) * theta_egen) + ((C_indkobt_mLUC + (V_ind - V_std_slagt) * Delta_V_slagt_mLUC) / (1-D) * theta_indkobt);\n",
    "double CO2e_uLUC = (C_egen_uLUC / (1 - D) * theta_egen) + ((C_indkobt_uLUC + (V_ind - V_std_slagt) * Delta_V_slagt_uLUC) / (1-D) * theta_indkobt);\n",
    "\n",
    "Console.WriteLine($\"Procent egenproducerede: {theta_egen * 100} %\");\n",
    "Console.WriteLine($\"Procent indkøbte: {theta_indkobt * 100} %\");\n",
    "Console.WriteLine($\"CO2e fra slagtegrisen *med* LUC: {CO2e_mLUC} kg CO2e\");\n",
    "Console.WriteLine($\"CO2e fra slagtegrisen *uden* LUC: {CO2e_uLUC} kg CO2e\");"
   ]
  },
  {
   "attachments": {},
   "cell_type": "markdown",
   "metadata": {},
   "source": [
    "**Smågrise**"
   ]
  },
  {
   "cell_type": "code",
   "execution_count": 15,
   "metadata": {
    "dotnet_interactive": {
     "language": "csharp"
    }
   },
   "outputs": [
    {
     "name": "stdout",
     "output_type": "stream",
     "text": [
      "Procent egenproducerede: 80 %\n",
      "Procent indkøbte: 20 %\n",
      "CO2e fra smågrisen *med* LUC: 56.41051891730555 kg CO2e\n",
      "CO2e fra smågrisen *uden* LUC: 42.98960806625917 kg CO2e\n"
     ]
    }
   ],
   "source": [
    "// Input - Test andre scenarier, ved at ændre i input-værdierne herunder\n",
    "double A_egen = 800;\n",
    "double A_indkobt = 200;\n",
    "double V_ind = 6.6;\n",
    "double D = 0.041;\n",
    "double C_egen_mLUC = 51.822109552120025;\n",
    "double C_egen_uLUC = 40.30879266942818;\n",
    "double C_indkobt_mLUC = 62.0;\n",
    "double C_indkobt_uLUC = 44.0;\n",
    "\n",
    "// Beregning\n",
    "double theta_egen = A_egen / (A_egen + A_indkobt);\n",
    "double theta_indkobt = A_indkobt / (A_egen + A_indkobt);\n",
    "\n",
    "double CO2e_mLUC = (C_egen_mLUC / (1 - D) * theta_egen) + ((C_indkobt_mLUC + (V_ind - V_std_smaa) * Delta_V_smaa_mLUC) / (1-D) * theta_indkobt);\n",
    "double CO2e_uLUC = (C_egen_uLUC / (1 - D) * theta_egen) + ((C_indkobt_uLUC + (V_ind - V_std_smaa) * Delta_V_smaa_uLUC) / (1-D) * theta_indkobt);\n",
    "\n",
    "Console.WriteLine($\"Procent egenproducerede: {theta_egen * 100} %\");\n",
    "Console.WriteLine($\"Procent indkøbte: {theta_indkobt * 100} %\");\n",
    "Console.WriteLine($\"CO2e fra smågrisen *med* LUC: {CO2e_mLUC} kg CO2e\");\n",
    "Console.WriteLine($\"CO2e fra smågrisen *uden* LUC: {CO2e_uLUC} kg CO2e\");"
   ]
  },
  {
   "attachments": {},
   "cell_type": "markdown",
   "metadata": {},
   "source": [
    "**Årssøer**"
   ]
  },
  {
   "cell_type": "code",
   "execution_count": 17,
   "metadata": {
    "dotnet_interactive": {
     "language": "csharp"
    }
   },
   "outputs": [
    {
     "name": "stdout",
     "output_type": "stream",
     "text": [
      "Procent egenproducerede: 20 %\n",
      "Procent indkøbte: 80 %\n",
      "CO2e fra polten *med* LUC: 207.91278855000002 kg CO2e\n",
      "CO2e fra polten *uden* LUC: 135.78880635000002 kg CO2e\n"
     ]
    }
   ],
   "source": [
    "// Input - Test andre scenarier, ved at ændre i input-værdierne herunder\n",
    "double A_egen = 200;\n",
    "double A_indkobt = 800;\n",
    "double lambda = 0.237;\n",
    "double K_so = 2.25;\n",
    "double C_egen_mLUC = 349.487;\n",
    "double C_egen_uLUC = 225.219;\n",
    "double C_indkobt_mLUC = 400.0;\n",
    "double C_indkobt_uLUC = 262.0;\n",
    "\n",
    "// Beregning\n",
    "double theta_egen = A_egen / (A_egen + A_indkobt);\n",
    "double theta_indkobt = A_indkobt / (A_egen + A_indkobt);\n",
    "\n",
    "double CO2e_mLUC = (lambda * K_so * C_egen_mLUC * theta_egen) + (lambda * K_so * C_indkobt_mLUC * theta_indkobt);\n",
    "double CO2e_uLUC = (lambda * K_so * C_egen_uLUC * theta_egen) + (lambda * K_so * C_indkobt_uLUC * theta_indkobt);\n",
    "\n",
    "Console.WriteLine($\"Procent egenproducerede: {theta_egen * 100} %\");\n",
    "Console.WriteLine($\"Procent indkøbte: {theta_indkobt * 100} %\");\n",
    "Console.WriteLine($\"CO2e fra polten *med* LUC: {CO2e_mLUC} kg CO2e\");\n",
    "Console.WriteLine($\"CO2e fra polten *uden* LUC: {CO2e_uLUC} kg CO2e\");"
   ]
  }
 ],
 "metadata": {
  "kernelspec": {
   "display_name": ".NET (C#)",
   "language": "C#",
   "name": ".net-csharp"
  },
  "language_info": {
   "name": "polyglot-notebook"
  },
  "polyglot_notebook": {
   "kernelInfo": {
    "defaultKernelName": "csharp",
    "items": [
     {
      "aliases": [],
      "name": ".NET"
     },
     {
      "aliases": [
       "C#",
       "c#"
      ],
      "languageName": "C#",
      "name": "csharp"
     },
     {
      "aliases": [
       "F#",
       "f#"
      ],
      "languageName": "F#",
      "name": "fsharp"
     },
     {
      "aliases": [],
      "languageName": "HTML",
      "name": "html"
     },
     {
      "aliases": [
       "js"
      ],
      "languageName": "JavaScript",
      "name": "javascript"
     },
     {
      "aliases": [],
      "languageName": "KQL",
      "name": "kql"
     },
     {
      "aliases": [],
      "languageName": "Mermaid",
      "name": "mermaid"
     },
     {
      "aliases": [
       "powershell"
      ],
      "languageName": "PowerShell",
      "name": "pwsh"
     },
     {
      "aliases": [],
      "languageName": "SQL",
      "name": "sql"
     },
     {
      "aliases": [],
      "name": "value"
     },
     {
      "aliases": [
       "frontend"
      ],
      "name": "vscode"
     },
     {
      "aliases": [],
      "name": "webview"
     }
    ]
   }
  }
 },
 "nbformat": 4,
 "nbformat_minor": 2
}
