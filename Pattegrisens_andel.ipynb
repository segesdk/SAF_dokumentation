{
 "cells": [
  {
   "cell_type": "markdown",
   "metadata": {
    "dotnet_interactive": {
     "language": "csharp"
    }
   },
   "source": [
    "# **Pattegrisens andel**\n",
    "\n",
    "## **Beregning**\n",
    "\n",
    "### **Beregning af CO<sub>2</sub>e-andelen fra pattegrisen** \n",
    "For at finde pattegrisens aftryk, beregnes først det samlede produktaftryk for soen _inkl. pattegrise_ (klik [HER](https://github.com/segesdk/SAF_dokumentation/blob/main/Produktaftryk_gris.ipynb) for beregning)\n",
    "\n",
    "Herefter fratrækkes soens andel, og aftrykket divideres med antallet af pattegrise for at finde den enkelte pattegris' produktaftryk:\n",
    "\n",
    "$$P_{pat} = \\frac{P_{so} - P_{so} \\cdot A_{so}}{FG}$$\n",
    "\n",
    "**Slagtesoens andel i procent, A<sub>so</sub>, findes ved at lave en økonomisk allokering mellem soen og og den fravænnede gris:**\n",
    "\n",
    "$$A_{so} = \\frac{(\\lambda \\cdot K_{so} - D_{dyr}) \\cdot V_{so} \\cdot Z_{so}}{(FG \\cdot Z_{gris}) + ((\\lambda \\cdot K_{so} - D_{dyr}) \\cdot V_{so}  \\cdot Z_{so})} $$\n",
    "\n",
    "Hvor:\n",
    "\n",
    " * λ: 1. lægs procent  = input fra bruger el. [Standardtal](https://seges.sharepoint.com/:x:/r/sites/SAFprojeketet/_layouts/15/Doc.aspx?sourcedoc=%7B55DC573E-DF3A-4BB4-BA90-49438C005785%7D&file=Formler%20til%20PORK%202.0%20med%20foderberegner.xlsx&activeCell=%27NORMtal-2020%27!A8&action=embedview) (obs på øko/konv.) [%]\n",
    " * K<sub>so</sub>: Kuld pr årsso = input fra bruger el. [Standardtal](https://seges.sharepoint.com/:x:/r/sites/SAFprojeketet/_layouts/15/Doc.aspx?sourcedoc=%7B55DC573E-DF3A-4BB4-BA90-49438C005785%7D&file=Formler%20til%20PORK%202.0%20med%20foderberegner.xlsx&activeCell=%27NORMtal-2020%27!A9&action=embedview) (obs på øko/konv.)\n",
    " * D<sub>dyr</sub>: Døde søer pr årsso (aka Sodødelighed) = input fra bruger el. [Standardtal](https://seges.sharepoint.com/:x:/r/sites/SAFprojeketet/_layouts/15/Doc.aspx?sourcedoc=%7B55DC573E-DF3A-4BB4-BA90-49438C005785%7D&file=Formler%20til%20PORK%202.0%20med%20foderberegner.xlsx&activeCell=%27biodisel%27!B10&action=embedview) (obs på øko/konv.)\n",
    " * V<sub>so</sub>: Slagtevægt pr so = [Standardtal](https://seges.sharepoint.com/:x:/r/sites/SAFprojeketet/_layouts/15/Doc.aspx?sourcedoc=%7B55DC573E-DF3A-4BB4-BA90-49438C005785%7D&file=Formler%20til%20PORK%202.0%20med%20foderberegner.xlsx&activeCell=%27NORMtal-2020%27!A14&action=embedview) (obs på øko/konv.) [kg]\n",
    " * FG: Fravænnede grise pr årsso = input fra bruger el. [Standardtal konv.](https://seges.sharepoint.com/:x:/r/sites/SAFprojeketet/_layouts/15/Doc.aspx?sourcedoc=%7B55DC573E-DF3A-4BB4-BA90-49438C005785%7D&file=Formler%20til%20PORK%202.0%20med%20foderberegner.xlsx&activeCell=%27Konv.-Inddata%27!B8&action=embedview) / [Standardtal øko](https://seges.sharepoint.com/:x:/r/sites/SAFprojeketet/_layouts/15/Doc.aspx?sourcedoc=%7B55DC573E-DF3A-4BB4-BA90-49438C005785%7D&file=Formler%20til%20PORK%202.0%20med%20foderberegner.xlsx&activeCell=%27Øko-Inddata%27!B8&action=embedview)\n",
    " * Z<sub>so</sub>: Salgspris pr kg slagteso [Standardtal konv.](https://seges.sharepoint.com/:x:/r/sites/SAFprojeketet/_layouts/15/Doc.aspx?sourcedoc=%7B55DC573E-DF3A-4BB4-BA90-49438C005785%7D&file=Formler%20til%20PORK%202.0%20med%20foderberegner.xlsx&activeCell=%27Enterisk%20metan%2Bsoallokering%27!F33&action=embedview) / [Standardtal øko](https://seges.sharepoint.com/:x:/r/sites/SAFprojeketet/_layouts/15/Doc.aspx?sourcedoc=%7B55DC573E-DF3A-4BB4-BA90-49438C005785%7D&file=Formler%20til%20PORK%202.0%20med%20foderberegner.xlsx&activeCell=%27Enterisk%20metan%2Bsoallokering%27!F41&action=embedview) [kr/kg]\n",
    " * Z<sub>gris</sub>: Salgspris pr fravænnet smågris [Standardtal konv.](https://seges.sharepoint.com/:x:/r/sites/SAFprojeketet/_layouts/15/Doc.aspx?sourcedoc=%7B55DC573E-DF3A-4BB4-BA90-49438C005785%7D&file=Formler%20til%20PORK%202.0%20med%20foderberegner.xlsx&activeCell=%27Enterisk%20metan%2Bsoallokering%27!F32&action=embedview) / [Standardtal øko](https://seges.sharepoint.com/:x:/r/sites/SAFprojeketet/_layouts/15/Doc.aspx?sourcedoc=%7B55DC573E-DF3A-4BB4-BA90-49438C005785%7D&file=Formler%20til%20PORK%202.0%20med%20foderberegner.xlsx&activeCell=%27Enterisk%20metan%2Bsoallokering%27!F40&action=embedview) [kr/ gris]\n",
    "\n",
    "\n",
    "\n",
    "\n",
    "\n",
    "----"
   ]
  },
  {
   "cell_type": "markdown",
   "metadata": {
    "dotnet_interactive": {
     "language": "csharp"
    },
    "polyglot_notebook": {
     "kernelName": "csharp"
    }
   },
   "source": [
    "# **Testcases**\n",
    "\n",
    "Hvis du selv vil lege med beregningerne i testcases kan du køre notebooken i google colab [HER](https://colab.research.google.com/github/segesdk/SAF_dokumentation/blob/main/Pattegrisens_andel.ipynb) (kræver login på din google konto)"
   ]
  },
  {
   "cell_type": "code",
   "execution_count": null,
   "metadata": {
    "dotnet_interactive": {
     "language": "csharp"
    },
    "vscode": {
     "languageId": "polyglot-notebook"
    }
   },
   "outputs": [],
   "source": [
    "// konstanter - nix pille\n",
    "double V_so = 185.0;\n",
    "\n",
    "// Input - Test andre scenarier, ved at ændre i input-værdierne herunder\n",
    "double P_so_uLUC = 1370.66089399981;\n",
    "double P_so_mLUC = 1792.381387913170;\n",
    "double lambda = 0.237;\n",
    "double K_so = 2.25;\n",
    "double D_dyr = 0.151;\n",
    "double FG = 33.9;\n",
    "double Z_so = 6.85;\n",
    "double Z_gris = 233.0;\n",
    "\n",
    "// Beregning\n",
    "double A_so = ((lambda * K_so - D_dyr) * V_so * Z_so) /  (FG * Z_gris + (lambda * K_so - D_dyr) * V_so * Z_so) ;\n",
    "double P_pat_uLUC = (P_so_uLUC - P_so_uLUC * A_so) / FG ;\n",
    "double P_pat_mLUC = (P_so_mLUC - P_so_mLUC * A_so) / FG;\n",
    "\n",
    "Console.WriteLine($\"Pattegrisens produktaftryk *uden* LUC: {P_pat_uLUC} kg CO2e\");\n",
    "Console.WriteLine($\"Pattegrisens produktaftryk *med* LUC: {P_pat_mLUC} kg CO2e\");"
   ]
  }
 ],
 "metadata": {
  "kernelspec": {
   "display_name": ".NET (C#)",
   "language": "C#",
   "name": ".net-csharp"
  },
  "polyglot_notebook": {
   "kernelInfo": {
    "defaultKernelName": "csharp",
    "items": [
     {
      "aliases": [
       "c#",
       "C#"
      ],
      "languageName": "C#",
      "name": "csharp"
     },
     {
      "aliases": [],
      "languageName": null,
      "name": ".NET"
     },
     {
      "aliases": [
       "f#",
       "F#"
      ],
      "languageName": "F#",
      "name": "fsharp"
     },
     {
      "aliases": [],
      "languageName": "HTML",
      "name": "html"
     },
     {
      "aliases": [
       "js"
      ],
      "languageName": "JavaScript",
      "name": "javascript"
     },
     {
      "aliases": [],
      "languageName": "KQL",
      "name": "kql"
     },
     {
      "aliases": [],
      "languageName": "Mermaid",
      "name": "mermaid"
     },
     {
      "aliases": [
       "powershell"
      ],
      "languageName": "PowerShell",
      "name": "pwsh"
     },
     {
      "aliases": [],
      "languageName": "SQL",
      "name": "sql"
     },
     {
      "aliases": [],
      "languageName": null,
      "name": "value"
     },
     {
      "aliases": [
       "frontend"
      ],
      "languageName": null,
      "name": "vscode"
     },
     {
      "aliases": [],
      "name": "webview"
     }
    ]
   }
  }
 },
 "nbformat": 4,
 "nbformat_minor": 2
}
