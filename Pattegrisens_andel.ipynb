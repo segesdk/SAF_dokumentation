{
 "cells": [
  {
   "attachments": {},
   "cell_type": "markdown",
   "metadata": {},
   "source": [
    "# **Pattegrisens andel**\n",
    "\n",
    "## **Beregning**\n",
    "\n",
    "### **Beregning af CO<sub>2</sub>e-andelen fra pattegrisen** \n",
    "For at finde pattegrisens aftryk, beregnes først det samlede produktaftryk for soen _inkl. pattegrise_ (klik [HER](https://github.com/segesdk/SAF_dokumentation/blob/main/Produktaftryk_gris.ipynb) for beregning)\n",
    "\n",
    "Herefter fratrækkes soens andel, og aftrykket divideres med antallet af pattegrise for at finde den enkelte pattegris' produktaftryk:\n",
    "\n",
    "$$P_{pat} = \\frac{P_{so} - P_{so} \\cdot A_{so}}{FG}$$\n",
    "\n",
    "**Slagtesoens andel i procent, A<sub>so</sub>, findes ved at lave en økonomisk allokering mellem soen og og den fravænnede gris:**\n",
    "\n",
    "$$A_{so} = \\frac{(\\lambda \\cdot K_{so} - D_{dyr}) \\cdot V_{so} \\cdot Z_{so}}{(FG \\cdot Z_{gris}) + ((\\lambda \\cdot K_{so} - D_{dyr}) \\cdot V_{so}  \\cdot Z_{so})} $$\n",
    "\n",
    "Hvor:\n",
    "\n",
    " * λ: 1. lægs procent  = input fra bruger el. [Tabelværdi](https://seges.sharepoint.com/:x:/r/sites/SAFprojeketet/_layouts/15/Doc.aspx?sourcedoc=%7B0C95A002-A20E-4641-95BE-18B1560D7CE2%7D&file=PigData.xlsx&activeCell=AnimalTypes!AI1&action=embedview) [%]\n",
    " * K<sub>so</sub>: Kuld pr årsso = input fra bruger el. [Tabelværdi](https://seges.sharepoint.com/:x:/r/sites/SAFprojeketet/_layouts/15/Doc.aspx?sourcedoc=%7B0C95A002-A20E-4641-95BE-18B1560D7CE2%7D&file=PigData.xlsx&activeCell=AnimalTypes!AJ1&action=embedview) \n",
    " * D<sub>dyr</sub>: Døde søer pr årsso (aka Sodødelighed) = input fra bruger el. [Tabelværdi](https://seges.sharepoint.com/:x:/r/sites/SAFprojeketet/_layouts/15/Doc.aspx?sourcedoc=%7B0C95A002-A20E-4641-95BE-18B1560D7CE2%7D&file=PigData.xlsx&activeCell=AnimalTypes!AD1&action=embedview)\n",
    " * V<sub>so</sub>: Slagtevægt pr so = [Tabelværdi](https://seges.sharepoint.com/:x:/r/sites/SAFprojeketet/_layouts/15/Doc.aspx?sourcedoc=%7B0C95A002-A20E-4641-95BE-18B1560D7CE2%7D&file=PigData.xlsx&activeCell=AnimalTypes!E1&action=embedview) [kg]\n",
    " * FG: Fravænnede grise pr årsso = input fra bruger el. [Tabelværdi](https://seges.sharepoint.com/:x:/r/sites/SAFprojeketet/_layouts/15/Doc.aspx?sourcedoc=%7B0C95A002-A20E-4641-95BE-18B1560D7CE2%7D&file=PigData.xlsx&activeCell=AnimalTypes!U1&action=embedview) \n",
    " * Z<sub>so</sub>: Salgspris pr kg slagteso [Tabelværdi](https://seges.sharepoint.com/:x:/r/sites/SAFprojeketet/_layouts/15/Doc.aspx?sourcedoc=%7B0C95A002-A20E-4641-95BE-18B1560D7CE2%7D&file=PigData.xlsx&activeCell=AnimalTypes!AK1&action=embedview)  [kr/kg]\n",
    " * Z<sub>gris</sub>: Salgspris pr fravænnet smågris [Standardtal konv.](https://seges.sharepoint.com/:x:/r/sites/SAFprojeketet/_layouts/15/Doc.aspx?sourcedoc=%7B0C95A002-A20E-4641-95BE-18B1560D7CE2%7D&file=PigData.xlsx&activeCell=AnimalTypes!AK1&action=embedview)  [kr/ gris]\n",
    "\n",
    "\n",
    "\n",
    "\n",
    "\n",
    "----"
   ]
  },
  {
   "attachments": {},
   "cell_type": "markdown",
   "metadata": {},
   "source": [
    "# **Testcases**"
   ]
  },
  {
   "cell_type": "code",
   "execution_count": 3,
   "metadata": {
    "dotnet_interactive": {
     "language": "csharp"
    }
   },
   "outputs": [
    {
     "name": "stdout",
     "output_type": "stream",
     "text": [
      "Pattegrisens produktaftryk *uden* LUC: 37.99054868750204 kg CO2e\n",
      "Pattegrisens produktaftryk *med* LUC: 49.67935736853174 kg CO2e\n",
      "A so: 0.057623471254263155 kg CO2e\n"
     ]
    }
   ],
   "source": [
    "// konstanter - nix pille\n",
    "double V_so = 185;\n",
    "\n",
    "// Input - Test andre scenarier, ved at ændre i input-værdierne herunder\n",
    "double P_so_uLUC = 1370.66089399981;\n",
    "double P_so_mLUC = 1792.381387913170;\n",
    "double lambda = 23.7;\n",
    "double K_so = 2.25;\n",
    "double D_dyr = 15.1;\n",
    "double FG = 34;\n",
    "double Z_so = 6.85;\n",
    "double Z_gris = 233.0;\n",
    "\n",
    "// Beregning\n",
    "double A_so = ((lambda/100 * K_so - D_dyr/100) * V_so * Z_so) /  (FG * Z_gris + (lambda/100 * K_so - D_dyr/100) * V_so * Z_so) ;\n",
    "double P_pat_uLUC = (P_so_uLUC - P_so_uLUC * A_so) / FG ;\n",
    "double P_pat_mLUC = (P_so_mLUC - P_so_mLUC * A_so) / FG;\n",
    "\n",
    "Console.WriteLine($\"Pattegrisens produktaftryk *uden* LUC: {P_pat_uLUC} kg CO2e\");\n",
    "Console.WriteLine($\"Pattegrisens produktaftryk *med* LUC: {P_pat_mLUC} kg CO2e\");\n",
    "Console.WriteLine($\"A so: {A_so} kg CO2e\");"
   ]
  }
 ],
 "metadata": {
  "kernelspec": {
   "display_name": ".NET (C#)",
   "language": "C#",
   "name": ".net-csharp"
  },
  "language_info": {
   "name": "polyglot-notebook"
  },
  "polyglot_notebook": {
   "kernelInfo": {
    "defaultKernelName": "csharp",
    "items": [
     {
      "aliases": [],
      "name": ".NET"
     },
     {
      "aliases": [
       "C#",
       "c#"
      ],
      "languageName": "C#",
      "name": "csharp"
     },
     {
      "aliases": [
       "F#",
       "f#"
      ],
      "languageName": "F#",
      "name": "fsharp"
     },
     {
      "aliases": [],
      "languageName": "HTML",
      "name": "html"
     },
     {
      "aliases": [
       "js"
      ],
      "languageName": "JavaScript",
      "name": "javascript"
     },
     {
      "aliases": [],
      "languageName": "KQL",
      "name": "kql"
     },
     {
      "aliases": [],
      "languageName": "Mermaid",
      "name": "mermaid"
     },
     {
      "aliases": [
       "powershell"
      ],
      "languageName": "PowerShell",
      "name": "pwsh"
     },
     {
      "aliases": [],
      "languageName": "SQL",
      "name": "sql"
     },
     {
      "aliases": [],
      "name": "value"
     },
     {
      "aliases": [
       "frontend"
      ],
      "name": "vscode"
     },
     {
      "aliases": [],
      "name": "webview"
     }
    ]
   }
  }
 },
 "nbformat": 4,
 "nbformat_minor": 2
}
