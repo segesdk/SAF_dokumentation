{
 "cells": [
  {
   "cell_type": "markdown",
   "metadata": {},
   "source": [
    "# **Lattergas (N<sub>2</sub>O) på grisestald- og lager**\n",
    "\n",
    "## **Stald**\n",
    "\n",
    "### **Beregning af lattergas på stald** \n",
    "\n",
    "$$N_2O_{stald} = (N_{gris} + N_{strøelse}) \\cdot Tab_{N_2Ostald} \\cdot VM_{N_2Ostald} $$\n",
    "\n",
    "Hvor: \n",
    "\n",
    " * Tab<sub>N<sub>2</sub>Ostald</sub>: Direkte N2O tab i stalden = [Tabelværdi](https://seges.sharepoint.com/:x:/r/sites/SAFprojeketet/_layouts/15/Doc.aspx?sourcedoc=%7B55DC573E-DF3A-4BB4-BA90-49438C005785%7D&file=Formler%20til%20PORK%202.0%20med%20foderberegner.xlsx&activeCell=%27Formler%20NH3%20og%20N2O%20-stald%201%27!C56&action=embedview) [% af N ab dyr]\n",
    " * VM<sub>N<sub>2</sub>O</sub><sub>stald</sub>: Effekten af evt. valgte virkemidler på stalden. *Da disse endnu ikke findes for N<sub>2</sub>O på stalden ganges blot med 1*\n",
    "\n",
    "### **Beregning af kg N ab gris, N<sub>gris</sub>, afhænger af dyretypen:** \n",
    "\n",
    ">Slagtegris (konv. + øko) + FRATS + smågrise (konv. + øko) \n",
    "\n",
    "$$N_{gris} = \\frac{\\frac{T \\cdot F \\cdot R}{P}-T \\cdot N}{1000}$$\n",
    "\n",
    "Hvor tilvæksten, T, beregnes for hhv. slagte/FRATSgrise og smågrise:\n",
    "\n",
    "$$ T_{slagt+FRATS} = V_{slagt}  \\cdot \\Delta_d - V_{ind}$$\n",
    "\n",
    "$$ T_{smågris} = V_{ud} - V_{ind} $$\n",
    "\n",
    ">Årssøer, løbe-og drætighedsstalden, konv + øko \n",
    "\n",
    "$$N_{gris} = (\\frac{\\frac{F \\cdot X_{løb} \\cdot R}{1000}}{P} - k_{so} \\cdot X_{løb} - \\frac{V_{ind} \\cdot V_{ud} \\cdot X_{løb} \\cdot N_{pat}}{1000})$$\n",
    "\n",
    ">Årssøer, farestald, konv + øko \n",
    "\n",
    "$$N_{gris} = (\\frac{\\frac{F \\cdot X_{fare} \\cdot R}{1000}}{P} - k_{so} \\cdot X_{fare} - \\frac{V_{ind} \\cdot V_{ud} \\cdot X_{fare} \\cdot N_{pat}}{1000})$$\n",
    "\n",
    "Hvor:\n",
    " * F: Foder = input fra bruger el. [Tabelværdi](https://seges.sharepoint.com/:x:/r/sites/SAFprojeketet/_layouts/15/Doc.aspx?sourcedoc=%7B55DC573E-DF3A-4BB4-BA90-49438C005785%7D&file=Formler%20til%20PORK%202.0%20med%20foderberegner.xlsx&activeCell=%27Formler%20NH3%20og%20N2O%20-stald%201%27!N2&action=embedview) [FEsv pr kg tilvækst/FEso pr so]\n",
    " * R: Råprotein = input fra bruger el. [Tabelværdi](https://seges.sharepoint.com/:x:/r/sites/SAFprojeketet/_layouts/15/Doc.aspx?sourcedoc=%7B55DC573E-DF3A-4BB4-BA90-49438C005785%7D&file=Formler%20til%20PORK%202.0%20med%20foderberegner.xlsx&activeCell=%27Formler%20NH3%20og%20N2O%20-stald%201%27!O2&action=embedview) [g pr foderenhed]\n",
    " * P: Protein til N = [Standardtal](https://seges.sharepoint.com/:x:/r/sites/SAFprojeketet/_layouts/15/Doc.aspx?sourcedoc=%7B55DC573E-DF3A-4BB4-BA90-49438C005785%7D&file=Formler%20til%20PORK%202.0%20med%20foderberegner.xlsx&activeCell=%27Formler%20NH3%20og%20N2O%20-stald%201%27!C107&action=embedview)\n",
    " * N: N i dyret = [Tabelværdi](https://seges.sharepoint.com/:x:/r/sites/SAFprojeketet/_layouts/15/Doc.aspx?sourcedoc=%7B55DC573E-DF3A-4BB4-BA90-49438C005785%7D&file=Formler%20til%20PORK%202.0%20med%20foderberegner.xlsx&activeCell=%27Formler%20NH3%20og%20N2O%20-stald%201%27!Q2&action=embedview) [g N pr kg tilvækst]\n",
    " * k<sub>so</sub>: Korrektionsfaktor for soen = [Standardtal](https://seges.sharepoint.com/:x:/r/sites/SAFprojeketet/_layouts/15/Doc.aspx?sourcedoc=%7B55DC573E-DF3A-4BB4-BA90-49438C005785%7D&file=Formler%20til%20PORK%202.0%20med%20foderberegner.xlsx&activeCell=%27Formler%20NH3%20og%20N2O%20-stald%201%27!C112&action=embedview)\n",
    " * V<sub>ud</sub>: Vægt ved afgang el. salg el. fravænning = input fra bruger el. [Tabelværdi](https://seges.sharepoint.com/:x:/r/sites/SAFprojeketet/_layouts/15/Doc.aspx?sourcedoc=%7B55DC573E-DF3A-4BB4-BA90-49438C005785%7D&file=Formler%20til%20PORK%202.0%20med%20foderberegner.xlsx&activeCell=%27Formler%20NH3%20og%20N2O%20-stald%201%27!L2&action=embedview) [kg]\n",
    " * V<sub>slagt</sub>: Slagtevægt = input fra bruger el. [Tabelværdi](https://seges.sharepoint.com/:x:/r/sites/SAFprojeketet/_layouts/15/Doc.aspx?sourcedoc=%7B55DC573E-DF3A-4BB4-BA90-49438C005785%7D&file=Formler%20til%20PORK%202.0%20med%20foderberegner.xlsx&activeCell=%27Formler%20NH3%20og%20N2O%20-stald%201%27!K2&action=embedview) [kg]\n",
    " * Δ<sub>d</sub> = 1,31\n",
    " * V<sub>ind</sub>: Indsættelsesvægt el. grise pr årsso = input fra bruger el. [Tabelværdi](https://seges.sharepoint.com/:x:/r/sites/SAFprojeketet/_layouts/15/Doc.aspx?sourcedoc=%7B55DC573E-DF3A-4BB4-BA90-49438C005785%7D&file=Formler%20til%20PORK%202.0%20med%20foderberegner.xlsx&activeCell=%27Formler%20NH3%20og%20N2O%20-stald%201%27!J2&action=embedview) [kg]\n",
    "  * X<sub>løb</sub>  = 0,7 for konv / 0,5 for øko\n",
    "  * X<sub>fare</sub>  = 0,3 for konv / 0,5 for øko\n",
    "  * N<sub>pat</sub>: N i pattegrisen = [Tabelværdi](https://seges.sharepoint.com/:x:/r/sites/SAFprojeketet/_layouts/15/Doc.aspx?sourcedoc=%7B55DC573E-DF3A-4BB4-BA90-49438C005785%7D&file=Formler%20til%20PORK%202.0%20med%20foderberegner.xlsx&activeCell=%27Formler%20NH3%20og%20N2O%20-stald%201%27!R2&action=embedview) [g N pr kg tilvækst]\n",
    "\n",
    "### **Beregning af kg N fra strøelse**\n",
    "$$ N_{strøelse} = H \\cdot Z $$\n",
    "\n",
    " * H: halm per dyr = [Tabelværdi](https://seges.sharepoint.com/:x:/r/sites/SAFprojeketet/_layouts/15/Doc.aspx?sourcedoc=%7B55DC573E-DF3A-4BB4-BA90-49438C005785%7D&file=Formler%20til%20PORK%202.0%20med%20foderberegner.xlsx&activeCell=%27hALM-nORM%27!b3&action=embedview) [kg]\n",
    " * Z: N i strøelse = [Standardtal](https://seges.sharepoint.com/:x:/r/sites/SAFprojeketet/_layouts/15/Doc.aspx?sourcedoc=%7B55DC573E-DF3A-4BB4-BA90-49438C005785%7D&file=Formler%20til%20PORK%202.0%20med%20foderberegner.xlsx&activeCell=%27Formler%20NH3%20og%20N2O%20-stald%201%27!B96&action=embedview) [kg N pr kg strøelse]\n",
    "\n",
    "\n",
    "### **Omregning til CO<sub>2</sub>e:**\n",
    "\n",
    "$$CO_2e = N_2O_{stald} \\cdot \\frac{44}{28} \\cdot \\theta_{N_2O-CO_2} $$\n",
    "\n",
    "Hvor: \n",
    "\n",
    " * $\\theta$ N<sub>2</sub>O-CO<sub>2</sub></sub>: Omregningsfaktor N<sub>2</sub>O til CO<sub>2</sub> = [Standardtal](https://seges.sharepoint.com/:x:/r/sites/SAFprojeketet/_layouts/15/Doc.aspx?sourcedoc=%7B55DC573E-DF3A-4BB4-BA90-49438C005785%7D&file=Formler%20til%20PORK%202.0%20med%20foderberegner.xlsx&activeCell=%27Enterisk%20metan%2Bsoallokering%27!C2&action=embedview)\n",
    "\n",
    "____\n",
    "\n",
    "## **Lager**\n",
    "\n",
    "### **Beregning af lattergas på lager**\n",
    "*NB for staldtyperne \"faremark\", \"friland\" og \"udendørs\" tilføres der ikke noget til lageret og værdien af N<sub>2</sub>O<sub>lager</sub> = 0*\n",
    "\n",
    "$$N_2O_{lager} = ((N_{gris} + N_{strøelse}) - N_{2stald} - ((N_{gris} + N_{strøelse}) \\cdot Tab_{N_2Ostald})) \\cdot Tab_{N_2Olager} \\cdot VM_{N_2Olager} $$\n",
    "\n",
    "Hvor: \n",
    "\n",
    " * N<sub>2stald</sub>: Beregnes i [N2_Stald_Lager.ipynb](https://github.com/segesdk/SAF_dokumentation/blob/main/N2_Stald_Lager.ipynb)\n",
    " * Tab<sub>N<sub>2</sub>Ostald</sub>: Direkte N2O tab på stalden = [Tabelværdi](https://seges.sharepoint.com/:x:/r/sites/SAFprojeketet/_layouts/15/Doc.aspx?sourcedoc=%7B55DC573E-DF3A-4BB4-BA90-49438C005785%7D&file=Formler%20til%20PORK%202.0%20med%20foderberegner.xlsx&activeCell=%27Formler%20NH3%20og%20N2O%20-stald%201%27!C56&action=embedview) [% af N ab dyr]\n",
    " * Tab<sub>N<sub>2</sub>Olager</sub>: Direkte N2O tab på lageret = [Tabelværdi](https://seges.sharepoint.com/:x:/r/sites/SAFprojeketet/_layouts/15/Doc.aspx?sourcedoc=%7B55DC573E-DF3A-4BB4-BA90-49438C005785%7D&file=Formler%20til%20PORK%202.0%20med%20foderberegner.xlsx&activeCell=%27Formler%20NH3%20og%20N2O%20-stald%201%27!H56&action=embedview) [% af N ab dyr]\n",
    " * VM<sub>N<sub>2</sub>O</sub><sub>lager</sub>: Effekten af evt. valgte virkemidler på lageret = [Tabelværdi](https://seges.sharepoint.com/:x:/r/sites/SAFprojeketet/_layouts/15/Doc.aspx?sourcedoc=%7B55DC573E-DF3A-4BB4-BA90-49438C005785%7D&file=Formler%20til%20PORK%202.0%20med%20foderberegner.xlsx&activeCell=%27Virkemidler%20%27!F26&action=embedview)\n",
    "\n",
    "### **Omregning til CO<sub>2</sub>e:**\n",
    "\n",
    "$$CO_2e = N_2O_{lager} \\cdot \\frac{44}{28} \\cdot \\theta_{N_2O-CO_2} $$\n",
    "\n",
    "Hvor: \n",
    "\n",
    " * $\\theta$ N<sub>2</sub>O-CO<sub>2</sub></sub>: Omregningsfaktor N<sub>2</sub>O til CO<sub>2</sub> = [Standardtal](https://seges.sharepoint.com/:x:/r/sites/SAFprojeketet/_layouts/15/Doc.aspx?sourcedoc=%7B55DC573E-DF3A-4BB4-BA90-49438C005785%7D&file=Formler%20til%20PORK%202.0%20med%20foderberegner.xlsx&activeCell=%27Enterisk%20metan%2Bsoallokering%27!C2&action=embedview)\n",
    "\n",
    " ____"
   ]
  },
  {
   "cell_type": "markdown",
   "metadata": {},
   "source": [
    "# **Testcases**\n",
    "\n",
    "Hvis du selv vil lege med beregningerne i testcases kan du køre notebooken i google colab [HER](https://colab.research.google.com/github/segesdk/SAF_dokumentation/blob/main/N2O_Stald_Lager.ipynb) (kræver login på din google konto)\n",
    "\n",
    "## **Stald**"
   ]
  },
  {
   "cell_type": "code",
   "execution_count": 24,
   "metadata": {},
   "outputs": [],
   "source": [
    "# konstanter - nix pille\n",
    "P = 6.25\n",
    "k_so = 1.98\n",
    "Delta_d = 1.31\n",
    "theta_N2O_CO2 = 298\n",
    "X_lob = 0.7\n",
    "X_fare = 0.3\n",
    "Z = 0.00425"
   ]
  },
  {
   "cell_type": "markdown",
   "metadata": {},
   "source": [
    "**Slagte/FRATS grise**"
   ]
  },
  {
   "cell_type": "code",
   "execution_count": 16,
   "metadata": {},
   "outputs": [
    {
     "name": "stdout",
     "output_type": "stream",
     "text": [
      "N2O for slagtegrise/FRATSgrise: 0.005783605600000002\n",
      "(Værdi til tjek med regneark: 0.009088523085714287)\n",
      "Omregnet til CO2e: 2.7083798795428575\n"
     ]
    }
   ],
   "source": [
    "#Input - Test andre scenarier, ved at ændre i input-værdierne herunder\n",
    "V_slagt = 88\n",
    "V_ind = 30\n",
    "F = 2.75\n",
    "R = 144\n",
    "N = 29.6\n",
    "H = 3.0\n",
    "Tab_N2O_stald = 0.002\n",
    "VM_N2O_stald = 1 #kan ikke være andet, da der endnu ikke findes virkemidler for N2O i stalden\n",
    "\n",
    "#Beregning\n",
    "T = V_slagt * Delta_d - V_ind\n",
    "N_gris_slagt = ((T * F * R / P) - T * N) / 1000\n",
    "N_stro_slagt = H * Z\n",
    "N2O_stald_slagt = (N_gris_slagt + N_stro_slagt) * Tab_N2O_stald * VM_N2O_stald\n",
    "print(f'N2O for slagtegrise/FRATSgrise: {N2O_stald_slagt}')\n",
    "print(f'(Værdi til tjek med regneark: {N2O_stald_slagt * 44/28})')\n",
    "print(f'Omregnet til CO2e: {N2O_stald_slagt * 44 / 28 * theta_N2O_CO2}')"
   ]
  },
  {
   "cell_type": "markdown",
   "metadata": {},
   "source": [
    "**Smågrise**"
   ]
  },
  {
   "cell_type": "code",
   "execution_count": 17,
   "metadata": {},
   "outputs": [
    {
     "name": "stdout",
     "output_type": "stream",
     "text": [
      "N2O for smågrise: 0.0006192212800000002\n",
      "(Værdi til tjek med regneark: 0.0009730620114285718)\n",
      "Omregnet til CO2e: 0.28997247940571436\n"
     ]
    }
   ],
   "source": [
    "#Input - Test andre scenarier, ved at ændre i input-værdierne herunder\n",
    "V_ud = 30\n",
    "V_ind = 6.6\n",
    "F = 1.86\n",
    "R = 146\n",
    "N = 30.4\n",
    "H = 1.0\n",
    "Tab_N2O_stald = 0.002\n",
    "VM_N2O_stald = 1 #kan ikke være andet, da der endnu ikke findes virkemidler for N2O i stalden\n",
    "\n",
    "#Beregning\n",
    "T = V_ud - V_ind\n",
    "N_gris_smaa = ((T * F * R / P) - T * N) / 1000\n",
    "N_stro_smaa = H * Z\n",
    "N2O_stald_smaa = (N_gris_smaa + N_stro_smaa) * Tab_N2O_stald * VM_N2O_stald\n",
    "print(f'N2O for smågrise: {N2O_stald_smaa}')\n",
    "print(f'(Værdi til tjek med regneark: {N2O_stald_smaa * 44/28})')\n",
    "print(f'Omregnet til CO2e: {N2O_stald_smaa * 44 / 28 * theta_N2O_CO2}')"
   ]
  },
  {
   "cell_type": "markdown",
   "metadata": {},
   "source": [
    "**Årssøer - løbe og drægtighedsstald**"
   ]
  },
  {
   "cell_type": "code",
   "execution_count": 30,
   "metadata": {},
   "outputs": [
    {
     "name": "stdout",
     "output_type": "stream",
     "text": [
      "N2O for årssøer - løbe og drægtighedsstald: 0.0342216\n",
      "(Værdi til tjek med regneark: 0.0537768\n",
      "Omregnet til CO2e: 16.0254864\n"
     ]
    }
   ],
   "source": [
    "#Input - Test andre scenarier, ved at ændre i input-værdierne herunder\n",
    "V_ud = 6.4\n",
    "V_ind = 33.9\n",
    "F = 1497\n",
    "R = 133.6\n",
    "N_pat = 25.7\n",
    "H = 0.0\n",
    "Tab_N2O_stald = 0.002\n",
    "VM_N2O_stald = 1 #kan ikke være andet, da der endnu ikke findes virkemidler for N2O i stalden\n",
    "\n",
    "#Beregning\n",
    "N_gris_aar_lob = (F * X_lob * R / 1000 / P) - k_so * X_lob - (V_ind * V_ud * X_lob * N_pat / 1000)\n",
    "N_stro_aar_lob = H * Z\n",
    "N2O_stald_aar_lob = (N_gris_aar_lob + N_stro_aar_lob) * Tab_N2O_stald * VM_N2O_stald\n",
    "print(f'N2O for årssøer - løbe og drægtighedsstald: {N2O_stald_aar_lob}')\n",
    "print(f'(Værdi til tjek med regneark: {N2O_stald_aar_lob * 44 / 28})')\n",
    "print(f'Omregnet til CO2e: {N2O_stald_aar_lob * 44 / 28 * theta_N2O_CO2}')"
   ]
  },
  {
   "cell_type": "markdown",
   "metadata": {},
   "source": [
    "**Årssøer - faremarken**"
   ]
  },
  {
   "cell_type": "code",
   "execution_count": 28,
   "metadata": {},
   "outputs": [
    {
     "name": "stdout",
     "output_type": "stream",
     "text": [
      "N2O for årssøer - faremarken: 0.0146664\n",
      "(Værdi til tjek med regneark: 0.023047199999999997\n",
      "Omregnet til CO2e: 6.868065599999999\n"
     ]
    }
   ],
   "source": [
    "#Input - Test andre scenarier, ved at ændre i input-værdierne herunder\n",
    "V_ud = 6.4\n",
    "V_ind = 33.9\n",
    "F = 1497\n",
    "R = 133.6\n",
    "N_pat = 25.7\n",
    "H = 0.0\n",
    "Tab_N2O_stald = 0.002\n",
    "VM_N2O_stald = 1 #kan ikke være andet, da der endnu ikke findes virkemidler for N2O i stalden\n",
    "\n",
    "#Beregning\n",
    "N_gris_aar_fare = (F * X_fare * R / 1000 / P) - k_so * X_fare - (V_ind * V_ud * X_fare * N_pat / 1000)\n",
    "N_stro_aar_fare = H * Z\n",
    "N2O_stald_aar_fare = (N_gris_aar_fare + N_stro_aar_fare) * Tab_N2O_stald * VM_N2O_stald\n",
    "print(f'N2O for årssøer - faremarken: {N2O_stald_aar_fare}')\n",
    "print(f'(Værdi til tjek med regneark: {N2O_stald_aar_fare * 44 / 28})')\n",
    "print(f'Omregnet til CO2e: {N2O_stald_aar_fare * 44 / 28 * theta_N2O_CO2}')"
   ]
  },
  {
   "cell_type": "markdown",
   "metadata": {},
   "source": [
    "## **Lager**\n",
    "\n",
    "Lagerberegninger er de samme for alle dyretyper - her er givet to eksempler på hhv. slagtegrise og smågrise\n",
    "\n",
    "**Slagte/FRATSgrise**"
   ]
  },
  {
   "cell_type": "code",
   "execution_count": 37,
   "metadata": {},
   "outputs": [
    {
     "name": "stdout",
     "output_type": "stream",
     "text": [
      "N2O for slagtegrise/FRATSgrise: 0.016795956178521605\n",
      "(Værdi til tjek med regneark: 0.026393645423391093)\n",
      "Omregnet til CO2e: 7.865306336170546\n"
     ]
    }
   ],
   "source": [
    "#Input - Test andre scenarier, ved at ændre i input-værdierne herunder\n",
    "Tab_N2O_lager = 0.006\n",
    "VM_N2O_lager = 1\n",
    "Tab_N2O_stald = 0.002\n",
    "N2_stald_slagt = 0.08669316464640005 #fra https://github.com/segesdk/SAF_dokumentation/blob/main/N2_Stald_Lager.ipynb\n",
    "\n",
    "#Beregning\n",
    "N2O_lager = ((N_gris_slagt + N_stro_slagt) - N2_stald_slagt - ((N_gris_slagt + N_stro_slagt) * Tab_N2O_stald)) * Tab_N2O_lager * VM_N2O_lager\n",
    "print(f'N2O for slagtegrise/FRATSgrise: {N2O_lager}')\n",
    "print(f'(Værdi til tjek med regneark: {N2O_lager * 44 / 28})') #NB of by one on the 3rd decimal - why?\n",
    "print(f'Omregnet til CO2e: {N2O_lager * 44 / 28 * theta_N2O_CO2}')"
   ]
  },
  {
   "cell_type": "markdown",
   "metadata": {},
   "source": [
    "**Smågrise**"
   ]
  },
  {
   "cell_type": "code",
   "execution_count": 38,
   "metadata": {},
   "outputs": [
    {
     "name": "stdout",
     "output_type": "stream",
     "text": [
      "N2O for smågrise: 0.0008798880947520003\n",
      "(Værdi til tjek med regneark: 0.0013826812917531433)\n",
      "Omregnet til CO2e: 0.4120390249424367\n"
     ]
    }
   ],
   "source": [
    "#Input - Test andre scenarier, ved at ændre i input-værdierne herunder\n",
    "Tab_N2O_lager = 0.003\n",
    "VM_N2O_lager = 1\n",
    "Tab_N2O_stald = 0.002\n",
    "N2_stald_smaa = 0.015695387136 #fra https://github.com/segesdk/SAF_dokumentation/blob/main/N2_Stald_Lager.ipynb\n",
    "\n",
    "#Beregning\n",
    "N2O_lager = ((N_gris_smaa + N_stro_smaa) - N2_stald_smaa - ((N_gris_smaa + N_stro_smaa) * Tab_N2O_stald)) * Tab_N2O_lager * VM_N2O_lager\n",
    "print(f'N2O for smågrise: {N2O_lager}')\n",
    "print(f'(Værdi til tjek med regneark: {N2O_lager * 44 / 28})')\n",
    "print(f'Omregnet til CO2e: {N2O_lager * 44 / 28 * theta_N2O_CO2}')"
   ]
  }
 ],
 "metadata": {
  "kernelspec": {
   "display_name": "Python 3.10.5 64-bit",
   "language": "python",
   "name": "python3"
  },
  "language_info": {
   "codemirror_mode": {
    "name": "ipython",
    "version": 3
   },
   "file_extension": ".py",
   "mimetype": "text/x-python",
   "name": "python",
   "nbconvert_exporter": "python",
   "pygments_lexer": "ipython3",
   "version": "3.10.5"
  },
  "orig_nbformat": 4,
  "vscode": {
   "interpreter": {
    "hash": "bab84105c52ccadeb85d61dc9a1d15bd1feb821a6dbda7c8ceb9873f369b5223"
   }
  }
 },
 "nbformat": 4,
 "nbformat_minor": 2
}
