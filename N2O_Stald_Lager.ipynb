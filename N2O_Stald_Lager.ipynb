{
 "cells": [
  {
   "attachments": {},
   "cell_type": "markdown",
   "metadata": {},
   "source": [
    "# **Lattergas (N<sub>2</sub>O) på grisestald- og lager**\n",
    "\n",
    "## **Stald**\n",
    "\n",
    "### **Beregning af lattergas på stald** \n",
    "\n",
    "$$N_2O_{stald} = (N_{gris} + N_{strøelse}) \\cdot Tab_{N_2Ostald} \\cdot VM_{N_2Ostald} $$\n",
    "\n",
    "Hvor: \n",
    "\n",
    " * Tab<sub>N<sub>2</sub>Ostald</sub>: Direkte N2O tab i stalden = [Tabelværdi](https://seges.sharepoint.com/:x:/r/sites/SAFprojeketet/_layouts/15/Doc.aspx?sourcedoc=%7B0C95A002-A20E-4641-95BE-18B1560D7CE2%7D&file=PigData.xlsx&activeCell=HousingSystems!J1&action=embedview) [% af N ab dyr]\n",
    " * VM<sub>N<sub>2</sub>O</sub><sub>stald</sub>: Effekten af evt. valgte virkemidler på stalden. *Da disse endnu ikke findes for N<sub>2</sub>O på stalden ganges blot med 1*\n",
    "\n",
    "### **Beregning af kg N ab gris, N<sub>gris</sub>, afhænger af dyretypen:** \n",
    "\n",
    ">Slagtegris (konv. + øko) + FRATS + smågrise (konv. + øko) \n",
    "\n",
    "$$N_{gris} = \\frac{\\frac{T \\cdot F \\cdot R}{P_N}-T \\cdot N}{1000}$$\n",
    "\n",
    "Hvor tilvæksten, T, beregnes for hhv. slagte/FRATSgrise og smågrise:\n",
    "\n",
    "$$ T_{slagt+FRATS} = V_{slagt}  \\cdot \\Delta_d - V_{ind}$$\n",
    "\n",
    "$$ T_{smågris} = V_{ud} - V_{ind} $$\n",
    "\n",
    ">Årssøer, løbe-og drætighedsstalden, konv + øko \n",
    "\n",
    "$$N_{gris} = \\frac{\\frac{F \\cdot X_{løb} \\cdot R}{1000}}{P_N} - N_{so} \\cdot X_{løb} - \\frac{G \\cdot V_{ud} \\cdot X_{løb} \\cdot N}{1000}$$\n",
    "\n",
    ">Årssøer, farestald, konv + øko \n",
    "\n",
    "$$N_{gris} = \\frac{\\frac{F \\cdot X_{fare} \\cdot R}{1000}}{P_N} - N_{so} \\cdot X_{fare} - \\frac{G \\cdot V_{ud} \\cdot X_{fare} \\cdot N}{1000}$$\n",
    "\n",
    "Hvor:\n",
    " * F: Foder = input fra bruger el. [Tabelværdi](https://seges.sharepoint.com/:x:/r/sites/SAFprojeketet/_layouts/15/Doc.aspx?sourcedoc=%7B0C95A002-A20E-4641-95BE-18B1560D7CE2%7D&file=PigData.xlsx&activeCell=AnimalTypes!G1&action=embedview) [FEsv pr kg tilvækst/FEso pr so]\n",
    " * R: Råprotein = input fra bruger el. [Tabelværdi](https://seges.sharepoint.com/:x:/r/sites/SAFprojeketet/_layouts/15/Doc.aspx?sourcedoc=%7B0C95A002-A20E-4641-95BE-18B1560D7CE2%7D&file=PigData.xlsx&activeCell=AnimalTypes!Z1&action=embedview) [g pr foderenhed]\n",
    " * P<sub>N</sub>: Protein til N = [Standardtal](https://seges.sharepoint.com/:x:/r/sites/SAFprojeketet/_layouts/15/Doc.aspx?sourcedoc=%7B55DC573E-DF3A-4BB4-BA90-49438C005785%7D&file=Formler%20til%20PORK%202.0%20med%20foderberegner.xlsx&activeCell=%27Formler%20NH3%20og%20N2O%20-stald%201%27!C107&action=embedview)\n",
    " * N: N i dyret/pattegrisen = [Tabelværdi](https://seges.sharepoint.com/:x:/r/sites/SAFprojeketet/_layouts/15/Doc.aspx?sourcedoc=%7B0C95A002-A20E-4641-95BE-18B1560D7CE2%7D&file=PigData.xlsx&activeCell=AnimalTypes!AA1&action=embedview) [g N pr kg tilvækst]\n",
    " * N<sub>so</sub>: N i soen = [Tabelværdi](https://seges.sharepoint.com/:x:/r/sites/SAFprojeketet/_layouts/15/Doc.aspx?sourcedoc=%7B0C95A002-A20E-4641-95BE-18B1560D7CE2%7D&file=PigData.xlsx&activeCell=AnimalTypes!AC1&action=embedview) [kg N pr dyr]\n",
    " * V<sub>ud</sub>: Vægt ved afgang el. salg el. fravænning = input fra bruger el. [Tabelværdi](https://seges.sharepoint.com/:x:/r/sites/SAFprojeketet/_layouts/15/Doc.aspx?sourcedoc=%7B0C95A002-A20E-4641-95BE-18B1560D7CE2%7D&file=PigData.xlsx&activeCell=AnimalTypes!F1&action=embedview) [kg]\n",
    " * V<sub>slagt</sub>: Slagtevægt = input fra bruger el. [Tabelværdi](https://seges.sharepoint.com/:x:/r/sites/SAFprojeketet/_layouts/15/Doc.aspx?sourcedoc=%7B0C95A002-A20E-4641-95BE-18B1560D7CE2%7D&file=PigData.xlsx&activeCell=AnimalTypes!E1&action=embedview) [kg]\n",
    " * Δ<sub>d</sub> = 1,31\n",
    " * V<sub>ind</sub>: Indsættelsesvægt = input fra bruger el. [Tabelværdi](https://seges.sharepoint.com/:x:/r/sites/SAFprojeketet/_layouts/15/Doc.aspx?sourcedoc=%7B0C95A002-A20E-4641-95BE-18B1560D7CE2%7D&file=PigData.xlsx&activeCell=AnimalTypes!D1&action=embedview) [kg]\n",
    " * G: Grise pr årsso = input fra bruger el. [Tabelværdi](https://seges.sharepoint.com/:x:/r/sites/SAFprojeketet/_layouts/15/Doc.aspx?sourcedoc=%7B0C95A002-A20E-4641-95BE-18B1560D7CE2%7D&file=PigData.xlsx&activeCell=AnimalTypes!C1&action=embedview)\n",
    " * X<sub>løb</sub>  = 0,7 for konv / 0,5 for øko\n",
    " * X<sub>fare</sub>  = 0,3 for konv / 0,5 for øko\n",
    "\n",
    "### **Beregning af kg N fra strøelse**\n",
    "$$ N_{strøelse} = H \\cdot Z $$\n",
    "\n",
    " * H: halm per dyr = [Tabelværdi](https://seges.sharepoint.com/:x:/r/sites/SAFprojeketet/_layouts/15/Doc.aspx?sourcedoc=%7B0C95A002-A20E-4641-95BE-18B1560D7CE2%7D&file=PigData.xlsx&activeCell=HousingSystems!G1&action=embedview) [kg]\n",
    " * Z: N i strøelse = [Standardtal](https://seges.sharepoint.com/:x:/r/sites/SAFprojeketet/_layouts/15/Doc.aspx?sourcedoc=%7B55DC573E-DF3A-4BB4-BA90-49438C005785%7D&file=Formler%20til%20PORK%202.0%20med%20foderberegner.xlsx&activeCell=%27Formler%20NH3%20og%20N2O%20-stald%201%27!B96&action=embedview) [kg N pr kg strøelse]\n",
    "\n",
    "\n",
    "### **Omregning til CO<sub>2</sub>e:**\n",
    "\n",
    "$$CO_2e = N_2O_{stald} \\cdot \\frac{44}{28} \\cdot \\theta_{N_2O-CO_2} $$\n",
    "\n",
    "Hvor: \n",
    "\n",
    " * $\\theta$ N<sub>2</sub>O-CO<sub>2</sub></sub>: Omregningsfaktor N<sub>2</sub>O til CO<sub>2</sub> = [Standardtal](https://seges.sharepoint.com/:x:/r/sites/SAFprojeketet/_layouts/15/Doc.aspx?sourcedoc=%7B55DC573E-DF3A-4BB4-BA90-49438C005785%7D&file=Formler%20til%20PORK%202.0%20med%20foderberegner.xlsx&activeCell=%27Enterisk%20metan%2Bsoallokering%27!C2&action=embedview)\n",
    "\n",
    "____\n",
    "\n",
    "## **Lager**\n",
    "\n",
    "### **Beregning af lattergas på lager**\n",
    "*NB for staldtyperne \"faremark\", \"friland\" og \"udendørs\" tilføres der ikke noget til lageret og værdien af N<sub>2</sub>O<sub>lager</sub> = 0*\n",
    "\n",
    "$$N_2O_{lager} = ((N_{gris} + N_{strøelse}) - N_{2stald} - ((N_{gris} + N_{strøelse}) \\cdot Tab_{N_2Ostald})) \\cdot Tab_{N_2Olager} \\cdot VM_{N_2Olager} $$\n",
    "\n",
    "Hvor: \n",
    "\n",
    " * N<sub>2stald</sub>: Beregnes i [N2_Stald_Lager.ipynb](https://github.com/segesdk/SAF_dokumentation/blob/main/N2_Stald_Lager.ipynb)\n",
    " * Tab<sub>N<sub>2</sub>Ostald</sub>: Direkte N2O tab på stalden = [Tabelværdi](https://seges.sharepoint.com/:x:/r/sites/SAFprojeketet/_layouts/15/Doc.aspx?sourcedoc=%7B0C95A002-A20E-4641-95BE-18B1560D7CE2%7D&file=PigData.xlsx&activeCell=HousingSystems!J1&action=embedview) [% af N ab dyr]\n",
    " * Tab<sub>N<sub>2</sub>Olager</sub>: Direkte N2O tab på lageret = [Tabelværdi](https://seges.sharepoint.com/:x:/r/sites/SAFprojeketet/_layouts/15/Doc.aspx?sourcedoc=%7B0C95A002-A20E-4641-95BE-18B1560D7CE2%7D&file=PigData.xlsx&activeCell=HousingSystems!K1&action=embedview) [% af N ab dyr]\n",
    " * VM<sub>N<sub>2</sub>O</sub><sub>lager</sub>: Effekten af evt. valgte virkemidler på lageret = [Tabelværdi](https://seges.sharepoint.com/:x:/r/sites/SAFprojeketet/_layouts/15/Doc.aspx?sourcedoc=%7B0C95A002-A20E-4641-95BE-18B1560D7CE2%7D&file=PigData.xlsx&activeCell=ClimateMeasures!G1&action=embedview)\n",
    "\n",
    "### **Omregning til CO<sub>2</sub>e:**\n",
    "\n",
    "$$CO_2e = N_2O_{lager} \\cdot \\frac{44}{28} \\cdot \\theta_{N_2O-CO_2} $$\n",
    "\n",
    "Hvor: \n",
    "\n",
    " * $\\theta$ N<sub>2</sub>O-CO<sub>2</sub></sub>: Omregningsfaktor N<sub>2</sub>O til CO<sub>2</sub> = [Standardtal](https://seges.sharepoint.com/:x:/r/sites/SAFprojeketet/_layouts/15/Doc.aspx?sourcedoc=%7B55DC573E-DF3A-4BB4-BA90-49438C005785%7D&file=Formler%20til%20PORK%202.0%20med%20foderberegner.xlsx&activeCell=%27Enterisk%20metan%2Bsoallokering%27!C2&action=embedview)\n",
    "\n",
    " ____"
   ]
  },
  {
   "attachments": {},
   "cell_type": "markdown",
   "metadata": {},
   "source": [
    "# **Testcases**\n",
    "\n",
    "## **Stald**"
   ]
  },
  {
   "cell_type": "code",
   "execution_count": 1,
   "metadata": {
    "dotnet_interactive": {
     "language": "csharp"
    }
   },
   "outputs": [],
   "source": [
    "// konstanter - nix pille\n",
    "double P_N = 6.25;\n",
    "double k_so = 1.98;\n",
    "double Delta_d = 1.31;\n",
    "double theta_N2O_CO2 = 298.0;\n",
    "double X_lob = 0.7;\n",
    "double X_fare = 0.3;\n",
    "double Z = 0.00425;"
   ]
  },
  {
   "attachments": {},
   "cell_type": "markdown",
   "metadata": {},
   "source": [
    "**Slagte/FRATS grise**"
   ]
  },
  {
   "cell_type": "code",
   "execution_count": 2,
   "metadata": {
    "dotnet_interactive": {
     "language": "csharp"
    }
   },
   "outputs": [
    {
     "name": "stdout",
     "output_type": "stream",
     "text": [
      "N_gris + N_stro: 2,904916320987654\n",
      "N2O for slagte/FRATS grise: 0,005809832641975308\n",
      "(Værdi til tjek med regneark: 0,009129737008818343)\n",
      "Omregnet til CO2e: 2,720661628627866\n"
     ]
    }
   ],
   "source": [
    "// Input - Test andre scenarier, ved at ændre i input-værdierne herunder\n",
    "double V_slagt = 88.0;\n",
    "double V_ind = 30.0;\n",
    "double F = 2.75;\n",
    "double R = 144.349477682811;\n",
    "double N = 29.6;\n",
    "double H = 3.0;\n",
    "double Tab_N2O_stald = 0.002;\n",
    "double VM_N2O_stald = 1.0; //kan ikke være andet, da der endnu ikke findes virkemidler for N2O i stalden\n",
    "\n",
    "// Beregning\n",
    "double T = V_slagt * Delta_d - V_ind;\n",
    "double N_gris_slagt = ((T * F * R / P_N) - T * N) / 1000;\n",
    "double N_stro_slagt = H * Z;\n",
    "double N2O_stald_slagt = (N_gris_slagt + N_stro_slagt) * Tab_N2O_stald * VM_N2O_stald;\n",
    "\n",
    "Console.WriteLine($\"N_gris + N_stro: {N_gris_slagt + N_stro_slagt}\");\n",
    "Console.WriteLine($\"N2O for slagte/FRATS grise: {N2O_stald_slagt}\");\n",
    "Console.WriteLine($\"(Værdi til tjek med regneark: {N2O_stald_slagt * 44/28})\");\n",
    "Console.WriteLine($\"Omregnet til CO2e: {N2O_stald_slagt * 44 / 28 * theta_N2O_CO2}\");"
   ]
  },
  {
   "attachments": {},
   "cell_type": "markdown",
   "metadata": {},
   "source": [
    "**Smågrise**"
   ]
  },
  {
   "cell_type": "code",
   "execution_count": 3,
   "metadata": {
    "dotnet_interactive": {
     "language": "csharp"
    }
   },
   "outputs": [
    {
     "name": "stdout",
     "output_type": "stream",
     "text": [
      "N_gris + N_stro:: 0,3090994180841527\n",
      "N2O for smågrise: 0,0006181988361683054\n",
      "(Værdi til tjek med regneark: 0,0009714553139787656)\n",
      "Omregnet til CO2e: 0,2894936835656721\n"
     ]
    }
   ],
   "source": [
    "// Input - Test andre scenarier, ved at ændre i input-værdierne herunder\n",
    "double V_ud = 30.0;\n",
    "double V_ind = 6.6;\n",
    "double F = 1.86;\n",
    "double R = 145.926589077887;\n",
    "double N = 30.4;\n",
    "double H = 1.0;\n",
    "double Tab_N2O_stald = 0.002;\n",
    "double VM_N2O_stald = 1.0; //kan ikke være andet, da der endnu ikke findes virkemidler for N2O i stalden\n",
    "\n",
    "// Beregning\n",
    "double T = V_ud - V_ind;\n",
    "double N_gris_smaa = ((T * F * R / P_N) - T * N) / 1000;\n",
    "double N_stro_smaa = H * Z;\n",
    "double N2O_stald_smaa = (N_gris_smaa + N_stro_smaa) * Tab_N2O_stald * VM_N2O_stald;\n",
    "Console.WriteLine($\"N_gris + N_stro:: {N_gris_smaa + N_stro_smaa}\");\n",
    "Console.WriteLine($\"N2O for smågrise: {N2O_stald_smaa}\");\n",
    "Console.WriteLine($\"(Værdi til tjek med regneark: {N2O_stald_smaa * 44/28})\");\n",
    "Console.WriteLine($\"Omregnet til CO2e: {N2O_stald_smaa * 44 / 28 * theta_N2O_CO2}\");"
   ]
  },
  {
   "attachments": {},
   "cell_type": "markdown",
   "metadata": {},
   "source": [
    "**Årssøer - løbe og drægtighedsstald**"
   ]
  },
  {
   "cell_type": "code",
   "execution_count": 4,
   "metadata": {
    "dotnet_interactive": {
     "language": "csharp"
    }
   },
   "outputs": [
    {
     "name": "stdout",
     "output_type": "stream",
     "text": [
      "N_gris + N_stro:: 17,1157018432696\n",
      "N2O for årssøer - løbe og drægtighedsstald: 0,0342314036865392\n",
      "(Værdi til tjek med regneark: 0,053792205793133034)\n",
      "Omregnet til CO2e: 16,030077326353645\n"
     ]
    }
   ],
   "source": [
    "// Input - Test andre scenarier, ved at ændre i input-værdierne herunder\n",
    "double V_ud = 6.4;\n",
    "double G = 33.9;\n",
    "double F = 1497.0;\n",
    "double R = 133.629236110731;\n",
    "double N_pat = 25.7;\n",
    "double H = 0.0;\n",
    "double Tab_N2O_stald = 0.002;\n",
    "double VM_N2O_stald = 1.0; //kan ikke være andet, da der endnu ikke findes virkemidler for N2O i stalden\n",
    "\n",
    "// Beregning\n",
    "double N_gris_aar_lob = (F * X_lob * R / 1000 / P_N) - k_so * X_lob - (G * V_ud * X_lob * N_pat / 1000);\n",
    "double N_stro_aar_lob = H * Z;\n",
    "double N2O_stald_aar_lob = (N_gris_aar_lob + N_stro_aar_lob) * Tab_N2O_stald * VM_N2O_stald;\n",
    "Console.WriteLine($\"N_gris + N_stro:: {N_gris_aar_lob + N_stro_aar_lob}\");\n",
    "Console.WriteLine($\"N2O for årssøer - løbe og drægtighedsstald: {N2O_stald_aar_lob}\");\n",
    "Console.WriteLine($\"(Værdi til tjek med regneark: {N2O_stald_aar_lob * 44 / 28})\");\n",
    "Console.WriteLine($\"Omregnet til CO2e: {N2O_stald_aar_lob * 44 / 28 * theta_N2O_CO2}\");"
   ]
  },
  {
   "attachments": {},
   "cell_type": "markdown",
   "metadata": {},
   "source": [
    "**Årssøer - faremarken**"
   ]
  },
  {
   "cell_type": "code",
   "execution_count": 5,
   "metadata": {
    "dotnet_interactive": {
     "language": "csharp"
    }
   },
   "outputs": [
    {
     "name": "stdout",
     "output_type": "stream",
     "text": [
      "N_gris + N_stro:: 7,335300789972688\n",
      "N2O for årssøer - faremarken: 0,014670601579945377\n",
      "(Værdi til tjek med regneark: 0,023053802482771307)\n",
      "Omregnet til CO2e: 6,87003313986585\n"
     ]
    }
   ],
   "source": [
    "// Input - Test andre scenarier, ved at ændre i input-værdierne herunder\n",
    "double V_ud = 6.4;\n",
    "double G = 33.9;\n",
    "double F = 1497.0;\n",
    "double R = 133.629236110731;\n",
    "double N_pat = 25.7;\n",
    "double H = 0.0;\n",
    "double Tab_N2O_stald = 0.002;\n",
    "double VM_N2O_stald = 1.0; // kan ikke være andet, da der endnu ikke findes virkemidler for N2O i stalden\n",
    "\n",
    "// Beregning\n",
    "double N_gris_aar_fare = (F * X_fare * R / 1000 / P_N) - k_so * X_fare - (G * V_ud * X_fare * N_pat / 1000);\n",
    "double N_stro_aar_fare = H * Z;\n",
    "double N2O_stald_aar_fare = (N_gris_aar_fare + N_stro_aar_fare) * Tab_N2O_stald * VM_N2O_stald;\n",
    "Console.WriteLine($\"N_gris + N_stro:: {N_gris_aar_fare + N_stro_aar_fare}\");\n",
    "Console.WriteLine($\"N2O for årssøer - faremarken: {N2O_stald_aar_fare}\");\n",
    "Console.WriteLine($\"(Værdi til tjek med regneark: {N2O_stald_aar_fare * 44 / 28})\");\n",
    "Console.WriteLine($\"Omregnet til CO2e: {N2O_stald_aar_fare * 44 / 28 * theta_N2O_CO2}\");"
   ]
  },
  {
   "attachments": {},
   "cell_type": "markdown",
   "metadata": {},
   "source": [
    "## **Lager**\n",
    "\n",
    "Lagerberegninger er de samme for alle dyretyper - her er givet to eksempler på hhv. slagtegrise og smågrise\n",
    "\n",
    "*NB for staldtyperne \"faremark\", \"friland\" og \"udendørs\" tilføres der ikke noget til lageret og værdien af N<sub>2</sub>O<sub>lager</sub> = 0*\n",
    "\n",
    "**Slagte/FRATSgrise**"
   ]
  },
  {
   "cell_type": "code",
   "execution_count": 6,
   "metadata": {
    "dotnet_interactive": {
     "language": "csharp"
    }
   },
   "outputs": [
    {
     "name": "stdout",
     "output_type": "stream",
     "text": [
      "N2O for slagtegrise/FRATSgrise: 0,01687149729807407\n",
      "(Værdi til tjek med regneark: 0,02651235289697354)\n",
      "Omregnet til CO2e: 7,900681163298115\n"
     ]
    }
   ],
   "source": [
    "// Input - Test andre scenarier, ved at ændre i input-værdierne herunder\n",
    "double Tab_N2O_lager = 0.006;\n",
    "double VM_N2O_lager = 1.0;\n",
    "double Tab_N2O_stald = 0.002;\n",
    "double N2_stald_slagt = 0.08719027199999997; // fra https://github.com/segesdk/SAF_dokumentation/blob/main/N2_Stald_Lager.ipynb\n",
    "\n",
    "// Beregning\n",
    "double N2O_lager = ((N_gris_slagt + N_stro_slagt) - N2_stald_slagt - ((N_gris_slagt + N_stro_slagt) * Tab_N2O_stald)) * Tab_N2O_lager * VM_N2O_lager;\n",
    "Console.WriteLine($\"N2O for slagtegrise/FRATSgrise: {N2O_lager}\");\n",
    "Console.WriteLine($\"(Værdi til tjek med regneark: {N2O_lager * 44 / 28})\");\n",
    "Console.WriteLine($\"Omregnet til CO2e: {N2O_lager * 44 / 28 * theta_N2O_CO2}\");"
   ]
  },
  {
   "attachments": {},
   "cell_type": "markdown",
   "metadata": {},
   "source": [
    "**Smågrise**"
   ]
  },
  {
   "cell_type": "code",
   "execution_count": 7,
   "metadata": {
    "dotnet_interactive": {
     "language": "csharp"
    }
   },
   "outputs": [
    {
     "name": "stdout",
     "output_type": "stream",
     "text": [
      "N2O for smågrise: 0,000878499207051026\n",
      "(Værdi til tjek med regneark: 0,0013804987539373266)\n",
      "Omregnet til CO2e: 0,4113886286733233\n"
     ]
    }
   ],
   "source": [
    "// Input - Test andre scenarier, ved at ændre i input-værdierne herunder\n",
    "double Tab_N2O_lager = 0.003;\n",
    "double VM_N2O_lager = 1.0;\n",
    "double Tab_N2O_stald = 0.002;\n",
    "double N2_stald_smaa = 0.015648150230975696; //fra https://github.com/segesdk/SAF_dokumentation/blob/main/N2_Stald_Lager.ipynb\n",
    "\n",
    "// Beregning\n",
    "double N2O_lager = ((N_gris_smaa + N_stro_smaa) - N2_stald_smaa - ((N_gris_smaa + N_stro_smaa) * Tab_N2O_stald)) * Tab_N2O_lager * VM_N2O_lager;\n",
    "Console.WriteLine($\"N2O for smågrise: {N2O_lager}\");\n",
    "Console.WriteLine($\"(Værdi til tjek med regneark: {N2O_lager * 44 / 28})\");\n",
    "Console.WriteLine($\"Omregnet til CO2e: {N2O_lager * 44 / 28 * theta_N2O_CO2}\");"
   ]
  }
 ],
 "metadata": {
  "kernelspec": {
   "display_name": ".NET (C#)",
   "language": "C#",
   "name": ".net-csharp"
  },
  "language_info": {
   "name": "polyglot-notebook"
  },
  "polyglot_notebook": {
   "kernelInfo": {
    "defaultKernelName": "csharp",
    "items": [
     {
      "aliases": [],
      "name": ".NET"
     },
     {
      "aliases": [
       "C#",
       "c#"
      ],
      "languageName": "C#",
      "name": "csharp"
     },
     {
      "aliases": [
       "F#",
       "f#"
      ],
      "languageName": "F#",
      "name": "fsharp"
     },
     {
      "aliases": [],
      "languageName": "HTML",
      "name": "html"
     },
     {
      "aliases": [],
      "languageName": "KQL",
      "name": "kql"
     },
     {
      "aliases": [],
      "languageName": "Mermaid",
      "name": "mermaid"
     },
     {
      "aliases": [
       "powershell"
      ],
      "languageName": "PowerShell",
      "name": "pwsh"
     },
     {
      "aliases": [],
      "languageName": "SQL",
      "name": "sql"
     },
     {
      "aliases": [],
      "name": "value"
     },
     {
      "aliases": [
       "frontend"
      ],
      "name": "vscode"
     }
    ]
   }
  }
 },
 "nbformat": 4,
 "nbformat_minor": 2
}
