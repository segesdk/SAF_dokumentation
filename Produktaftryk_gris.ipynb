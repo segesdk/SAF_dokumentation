{
 "cells": [
  {
   "attachments": {},
   "cell_type": "markdown",
   "metadata": {},
   "source": [
    "# **Grisens produktaftryk**\n",
    "\n",
    "## **Intro**\n",
    "\n",
    "Grisens produktaftryk beregnes ved at lægge alle dyrets udledningskilder sammen pr stald, for herefter at finde et vægtet gennemsnit på CHR nummeret.\n",
    "\n",
    "Præcist hvilke udledningskilder, der skal indgå i produktaftrykket, afhænger af dyretypen, og kan ses i fig 1 nederst på siden\n",
    "\n",
    "\n",
    "## **Beregning af grisens produktaftryk**\n",
    "\n",
    "Af fig 1 ses hvordan produktaftrykket for grisen beregnes på stalden. Generelt kan produktaftrykket, P, for en gris formuleres som:\n",
    "\n",
    "$$P = \\sum_{i=1}^{n} CO_2e_{i}$$\n",
    "\n",
    "Hvor: \n",
    "* n: antallet af udledningskilder inkluderet i beregningen for grisetypen = se fig 1\n",
    "* CO<sub>2</sub>e<sub>i</sub>: CO<sub>2</sub>e udledningen fra den i'te emissionskilde.\n",
    "\n",
    "Beregninger af de enkelte emissionskilder findes i:\n",
    "- CO<sub>2</sub>e fra [Fordøjelse/enterisk metan](https://github.com/segesdk/SAF_dokumentation/blob/main/CH4_Enterisk.ipynb)\n",
    "- CO<sub>2</sub>e fra Stald (En summering af bidraget fra [N2](https://github.com/segesdk/SAF_dokumentation/blob/main/N2_Stald_Lager.ipynb) og [N2O](https://github.com/segesdk/SAF_dokumentation/blob/main/N2O_Stald_Lager.ipynb))\n",
    "- CO<sub>2</sub>e fra Lager (En summering af bidraget fra [N2](https://github.com/segesdk/SAF_dokumentation/blob/main/N2_Stald_Lager.ipynb), [N2O](https://github.com/segesdk/SAF_dokumentation/blob/main/N2O_Stald_Lager.ipynb) og [CH4](https://github.com/segesdk/SAF_dokumentation/blob/main/CH4_Lager.ipynb))\n",
    "- CO<sub>2</sub>e fra [Foder](https://github.com/segesdk/SAF_dokumentation/blob/main/Foder.ipynb) (m/u LUC)\n",
    "- CO<sub>2</sub>e fra [El](https://github.com/segesdk/SAF_dokumentation/blob/main/Energi_varme_el.ipynb)\n",
    "- CO<sub>2</sub>e fra [Varme](https://github.com/segesdk/SAF_dokumentation/blob/main/Energi_varme_el.ipynb)\n",
    "- CO<sub>2</sub>e fra [Smågrisens/pattegrisens aftryk og indkøbte polte](https://github.com/segesdk/SAF_dokumentation/blob/main/Smågrisens_og_poltens_aftryk.ipynb) (m/u LUC)\n",
    "- CO<sub>2</sub>e fra [Halmforbrug](https://github.com/segesdk/SAF_dokumentation/blob/main/Halmforbrug.ipynb)\n",
    "### **Særligt for pattegrisen**\n",
    "For at finde pattegrisens aftryk, beregnes først det samlede produktaftryk for soen inkl. pattegrise.\n",
    "\n",
    "Herefter fratrækkes soens andel, for at finde pattegrisens udledning jf. beregningen i '[Pattegrisens andel](https://github.com/segesdk/SAF_dokumentation/blob/main/Pattegrisens_andel.ipynb)'\n",
    "\n",
    "## **Beregning af grisens _gennemsnitlige_ produktaftryk på CHR nummeret**\n",
    "\n",
    "Når der findes mere end én staldtype på CHR nummeret, findes der et vægtet gennemsnitligt produktaftryk, μP, per grisetype på CHR nummeret:\n",
    "\n",
    "$$\\mu P = \\frac{\\sum_{j=1}^{n} w_j \\cdot P_j}{\\sum_{j=1}^{n}w_j}$$\n",
    "\n",
    "Hvor:\n",
    "\n",
    "* n: antallet af stalde med den pågældende grisetype på CHR nummeret\n",
    "* P<sub>j</sub>: produktaftrykket for grisetypen på den j'te stald = beregnes ovenfor\n",
    "* w<sub>j</sub>: antal grise af grisetypen på den j'te stald = input fra bruger el. værdi indlæst fra MO.\n",
    "\n",
    "### **Særligt for slagtegrisen**\n",
    "\n",
    "For slagtegrisen ønskes der, i tillæg til det gennemsnitlige produktaftryk, et produktaftryk pr kg levende vægt.\n",
    "\n",
    "Dette findes ved at dividere slagtegrisens gennemsnitlige produktaftryk med dennes afgangsvægt/salgsvægt:\n",
    "\n",
    "$$\\mu P_{prkg} = \\frac{\\mu P_{slagt}}{V_{slagt} \\cdot \\Delta_d}$$\n",
    "\n",
    "Hvor:\n",
    "\n",
    "* μP<sub>slagt</sub>: det gennemsnitlige produktaftryk for slagtegrisen = se ovenfor [CO<sub>2</sub>e]\n",
    "* V<sub>slagt</sub>: Slagtevægt = input fra bruger el. [Tabelværdi](https://seges.sharepoint.com/:x:/r/sites/SAFprojeketet/_layouts/15/Doc.aspx?sourcedoc=%7B55DC573E-DF3A-4BB4-BA90-49438C005785%7D&file=Formler%20til%20PORK%202.0%20med%20foderberegner.xlsx&activeCell=%27Formler%20NH3%20og%20N2O%20-stald%201%27!K2&action=embedview) [kg]\n",
    "* Δ<sub>d</sub> = 1,31\n",
    "\n",
    "___\n",
    "\n",
    "_Fig 1: Emissionskilder og beregningsrækkefølge for grisens produktaftryk_ Klik [HER](https://viewer.diagrams.net/?tags=%7B%7D&highlight=FFFFFF&edit=_blank&layers=1&nav=1&title=Produktaftryk_calculation_flowchart.drawio#Uhttps%3A%2F%2Fraw.githubusercontent.com%2Fsegesdk%2FSAF_dokumentation%2Fmain%2FFlowcharts%2FProduktaftryk_calculation_flowchart.drawio) for at se billedet i fuld opløsning\n",
    "\n",
    "![Emissionskilder og beregningsrækkefølge for grisens produktaftryk](Flowcharts/produktaftryk_gris.PNG)"
   ]
  }
 ],
 "metadata": {
  "kernelspec": {
   "display_name": ".NET (C#)",
   "language": "C#",
   "name": ".net-csharp"
  },
  "language_info": {
   "name": "polyglot-notebook"
  },
  "polyglot_notebook": {
   "kernelInfo": {
    "defaultKernelName": "csharp",
    "items": [
     {
      "aliases": [],
      "name": ".NET"
     },
     {
      "aliases": [
       "C#",
       "c#"
      ],
      "languageName": "C#",
      "name": "csharp"
     },
     {
      "aliases": [
       "F#",
       "f#"
      ],
      "languageName": "F#",
      "name": "fsharp"
     },
     {
      "aliases": [],
      "languageName": "HTML",
      "name": "html"
     },
     {
      "aliases": [
       "js"
      ],
      "languageName": "JavaScript",
      "name": "javascript"
     },
     {
      "aliases": [],
      "languageName": "KQL",
      "name": "kql"
     },
     {
      "aliases": [],
      "languageName": "Mermaid",
      "name": "mermaid"
     },
     {
      "aliases": [
       "powershell"
      ],
      "languageName": "PowerShell",
      "name": "pwsh"
     },
     {
      "aliases": [],
      "languageName": "SQL",
      "name": "sql"
     },
     {
      "aliases": [],
      "name": "value"
     },
     {
      "aliases": [
       "frontend"
      ],
      "name": "vscode"
     },
     {
      "aliases": [],
      "name": "webview"
     }
    ]
   }
  }
 },
 "nbformat": 4,
 "nbformat_minor": 2
}
