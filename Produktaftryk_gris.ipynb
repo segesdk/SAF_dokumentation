{
 "cells": [
  {
   "cell_type": "markdown",
   "metadata": {},
   "source": [
    "# **Grisens produktaftryk**\n",
    "\n",
    "## **Intro**\n",
    "\n",
    "Grisens produktaftryk beregnes ved at lægge alle dyrets udledningskilder sammen pr stald, for herefter at finde et vægtet gennemsnit på CHR nummeret.\n",
    "\n",
    "Præcist hvilke udledningskilder, der skal indgå i produktaftrykket, afhænger af dyretypen, og kan ses i fig 1 nederst på siden\n",
    "\n",
    "\n",
    "## **Beregning af grisens produktaftryk**\n",
    "\n",
    "Af fig 1 ses hvordan produktaftrykket for grisen beregnes på stalden. Generelt kan produktaftrykket, P, for en gris formuleres som:\n",
    "\n",
    "$$P = \\sum_{i=1}^{n} CO_2e_{i}$$\n",
    "\n",
    "Hvor: \n",
    "* n: antallet af udledningskilder inkluderet i beregningen for grisetypen = se fig 1\n",
    "* CO<sub>2</sub>e<sub>i</sub>: CO<sub>2</sub>e udledningen fra den i'te emissionskilde.\n",
    "\n",
    "Beregninger af de enkelte emissionskilder findes i:\n",
    "- CO<sub>2</sub>e fra [Fordøjelse/enterisk metan](https://github.com/segesdk/SAF_dokumentation/blob/main/CH4_Enterisk.ipynb)\n",
    "- CO<sub>2</sub>e fra Stald (En summering af bidraget fra [N2](https://github.com/segesdk/SAF_dokumentation/blob/main/N2_Stald_Lager.ipynb), [N2O](https://github.com/segesdk/SAF_dokumentation/blob/main/N2O_Stald_Lager.ipynb) og [CH4](https://github.com/segesdk/SAF_dokumentation/blob/main/CH4_Stald_Lager.ipynb))\n",
    "- CO<sub>2</sub>e fra Lager (En summering af bidraget fra [N2](https://github.com/segesdk/SAF_dokumentation/blob/main/N2_Stald_Lager.ipynb), [N2O](https://github.com/segesdk/SAF_dokumentation/blob/main/N2O_Stald_Lager.ipynb) og [CH4](https://github.com/segesdk/SAF_dokumentation/blob/main/CH4_Stald_Lager.ipynb))\n",
    "- CO<sub>2</sub>e fra [Foder](https://github.com/segesdk/SAF_dokumentation/blob/main/Foder.ipynb) (m/u LUC)\n",
    "- CO<sub>2</sub>e fra [El](https://github.com/segesdk/SAF_dokumentation/blob/main/Energi_varme_el.ipynb)\n",
    "- CO<sub>2</sub>e fra [Varme](https://github.com/segesdk/SAF_dokumentation/blob/main/Energi_varme_el.ipynb)\n",
    "- CO<sub>2</sub>e fra [Biodiesel](https://github.com/segesdk/SAF_dokumentation/blob/main/Biodiesel.ipynb)\n",
    "- CO<sub>2</sub>e fra [Smågrisens/pattegrisens aftryk og indkøbte polte](https://github.com/segesdk/SAF_dokumentation/blob/main/Importerede_dyr.ipynb) (m/u LUC)\n",
    "\n",
    "### **Særligt for pattegrisen**\n",
    "For at finde pattegrisens aftryk, beregnes først det samlede produktaftryk for soen inkl. pattegrise.\n",
    "\n",
    "Herefter fratrækkes soens andel, for at finde pattegrisens udledning jf. beregningen i '[Pattegrisens andel](https://github.com/segesdk/SAF_dokumentation/blob/main/Pattegrisens_andel.ipynb)'\n",
    "\n",
    "## **Beregning af grisens _gennemsnitlige_ produktaftryk på CHR nummeret**\n",
    "\n",
    "Når der findes mere end én staldtype på CHR nummeret, findes der et vægtet gennemsnitligt produktaftryk, μP, per grisetype på CHR nummeret:\n",
    "\n",
    "$$\\mu P = \\frac{\\sum_{i=1}^{n} w_i \\cdot P_i}{\\sum_{i=1}^{n}w_i}$$\n",
    "\n",
    "Hvor:\n",
    "\n",
    "* n: antallet af stalde med den pågældende grisetype på CHR nummeret\n",
    "* P<sub>i</sub>: produktaftrykket for grisetypen på den i'te stald = beregnes ovenfor\n",
    "* w<sub>i</sub>: antal grise af grisetypen på den i'te stald = input fra bruger el. værdi indlæst fra MO.\n",
    "___\n",
    "\n",
    "_Fig 1: Emissionskilder og beregningsrækkefølge for grisens produktaftryk_ Klik [HER](https://viewer.diagrams.net/?tags=%7B%7D&highlight=0000ff&edit=_blank&layers=1&nav=1&title=Produktaftryk_calculation_flowchart.drawio#Uhttps%3A%2F%2Fraw.githubusercontent.com%2Fsegesdk%2FSAF_dokumentation%2Fmain%2FProduktaftryk_calculation_flowchart.drawio) for at se billedet i fuld opløsning\n",
    "\n",
    "![Emissionskilder og beregningsrækkefølge for grisens produktaftryk](produktaftryk_gris.PNG)"
   ]
  }
 ],
 "metadata": {
  "kernelspec": {
   "display_name": ".NET (C#)",
   "language": "C#",
   "name": ".net-csharp"
  },
  "language_info": {
   "file_extension": ".cs",
   "mimetype": "text/x-csharp",
   "name": "C#",
   "pygments_lexer": "csharp",
   "version": "9.0"
  },
  "orig_nbformat": 4,
  "vscode": {
   "interpreter": {
    "hash": "bab84105c52ccadeb85d61dc9a1d15bd1feb821a6dbda7c8ceb9873f369b5223"
   }
  }
 },
 "nbformat": 4,
 "nbformat_minor": 2
}
