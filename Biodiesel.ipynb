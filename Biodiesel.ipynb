{
 "cells": [
  {
   "cell_type": "markdown",
   "metadata": {},
   "source": [
    "# **Biodiesel**\n",
    "\n",
    "### **Beregning af CO<sub>2</sub>e fra biodiesel afhænger af dyretypen:** \n",
    "\n",
    ">Slagtegris (konv. + øko) + FRATS + smågrise (konv. + øko)\n",
    "\n",
    "$$CO_{2}e_{biodiesel} = V_{dyr} \\cdot D_{dyr} \\cdot C_{bio} $$\n",
    "\n",
    ">Årssøer, løbe-og drætighedsstalden, konv + øko \n",
    "\n",
    "$$CO_{2}e_{biodiesel} = CO_{2}e_{pat} + CO_{2}e_{so}$$\n",
    "\n",
    "Hvor bidrag fra pattegrisen, CO<sub>2</sub>e<sub>pat</sub>, og bidrag fra soen, CO<sub>2</sub>e<sub>so</sub> beregnes:\n",
    "\n",
    "$$CO_{2}e_{pat} = (L_{pat} - F_{pat}) \\cdot K_{so} \\cdot V_{pat} \\cdot C_{bio}$$\n",
    "\n",
    "$$CO_{2}e_{so} = V_{dyr} \\cdot D_{dyr} \\cdot C_{bio} $$\n",
    "\n",
    "\n",
    "\n",
    "Hvor: \n",
    "\n",
    " * V<sub>dyr</sub>: Vægt pr død dyr/vægt pr død so  = [Tabelværdi](https://seges.sharepoint.com/:x:/r/sites/SAFprojeketet/_layouts/15/Doc.aspx?sourcedoc=%7B55DC573E-DF3A-4BB4-BA90-49438C005785%7D&file=Formler%20til%20PORK%202.0%20med%20foderberegner.xlsx&activeCell=%27biodisel%27!A13&action=embedview) (obs på øko/konv.) [kg]\n",
    " * D<sub>dyr</sub>: Døde dyr/døde søer pr årsso (aka dødelighedsprocent) = input fra bruger el. [Tabelværdi](https://seges.sharepoint.com/:x:/r/sites/SAFprojeketet/_layouts/15/Doc.aspx?sourcedoc=%7B55DC573E-DF3A-4BB4-BA90-49438C005785%7D&file=Formler%20til%20PORK%202.0%20med%20foderberegner.xlsx&activeCell=%27biodisel%27!A10&action=embedview) (obs på øko/konv.) [%]\n",
    " * C<sub>bio</sub>: Sammenvejet faktor til beregning af CO<sub>2</sub>e fra biodisel = [Standardtal](https://seges.sharepoint.com/:x:/r/sites/SAFprojeketet/_layouts/15/Doc.aspx?sourcedoc=%7B55DC573E-DF3A-4BB4-BA90-49438C005785%7D&file=Formler%20til%20PORK%202.0%20med%20foderberegner.xlsx&activeCell=%27biodisel%27!A6&action=embedview) (obs på øko/konv.) [CO<sub>2</sub>e]\n",
    " * L<sub>pat</sub>: Levendefødte pattegrise pr kuld = [Standardtal](https://seges.sharepoint.com/:x:/r/sites/SAFprojeketet/_layouts/15/Doc.aspx?sourcedoc=%7B55DC573E-DF3A-4BB4-BA90-49438C005785%7D&file=Formler%20til%20PORK%202.0%20med%20foderberegner.xlsx&activeCell=%27NORMtal-2020%27!A3&action=embedview) (obs på øko/konv.)\n",
    " * F<sub>pat</sub>: Fravænnede pattegrise pr kuld = [Standardtal](https://seges.sharepoint.com/:x:/r/sites/SAFprojeketet/_layouts/15/Doc.aspx?sourcedoc=%7B55DC573E-DF3A-4BB4-BA90-49438C005785%7D&file=Formler%20til%20PORK%202.0%20med%20foderberegner.xlsx&activeCell=%27NORMtal-2020%27!A4&action=embedview) (obs på øko/konv.)\n",
    " * K<sub>so</sub>: Kuld pr årsso = input fra bruger el. [Standardtal](https://seges.sharepoint.com/:x:/r/sites/SAFprojeketet/_layouts/15/Doc.aspx?sourcedoc=%7B55DC573E-DF3A-4BB4-BA90-49438C005785%7D&file=Formler%20til%20PORK%202.0%20med%20foderberegner.xlsx&activeCell=%27NORMtal-2020%27!A9&action=embedview) (obs på øko/konv.)\n",
    " * V<sub>pat</sub>: Vægt pr død pattegris  = [Standardtal](https://seges.sharepoint.com/:x:/r/sites/SAFprojeketet/_layouts/15/Doc.aspx?sourcedoc=%7B55DC573E-DF3A-4BB4-BA90-49438C005785%7D&file=Formler%20til%20PORK%202.0%20med%20foderberegner.xlsx&activeCell=%27NORMtal-2020%27!A13&action=embedview) (obs på øko/konv.) [kg]\n",
    "\n",
    "\n"
   ]
  },
  {
   "cell_type": "markdown",
   "metadata": {},
   "source": [
    "# **Testcases**\n",
    "\n",
    "Hvis du selv vil lege med beregningerne i testcases kan du køre notebooken i google colab [HER](https://colab.research.google.com/github/segesdk/SAF_dokumentation/blob/main/Biodiesel.ipynb) (kræver login på din google konto)"
   ]
  },
  {
   "cell_type": "code",
   "execution_count": null,
   "metadata": {
    "dotnet_interactive": {
     "language": "csharp"
    },
    "vscode": {
     "languageId": "dotnet-interactive.csharp"
    }
   },
   "outputs": [],
   "source": [
    "// konstanter - nix pille\n",
    "double C_bio = -0.44094375;"
   ]
  },
  {
   "cell_type": "markdown",
   "metadata": {},
   "source": [
    "**Slagte/FRATS/smågrise grise**"
   ]
  },
  {
   "cell_type": "code",
   "execution_count": null,
   "metadata": {
    "dotnet_interactive": {
     "language": "csharp"
    },
    "vscode": {
     "languageId": "dotnet-interactive.csharp"
    }
   },
   "outputs": [
    {
     "name": "stdout",
     "output_type": "stream",
     "text": [
      "Biodiesel fra dyret: -1,0803121875000001 Co2e\r\n"
     ]
    }
   ],
   "source": [
    "// Input - Test andre scenarier, ved at ændre i input-værdierne herunder\n",
    "double V_dyr = 70.0;\n",
    "double D_dyr = 0.035;\n",
    "\n",
    "// Beregning\n",
    "double CO2e_biodiesel = V_dyr * D_dyr * C_bio;\n",
    "Console.WriteLine($\"Biodiesel fra dyret: {CO2e_biodiesel} Co2e\");"
   ]
  },
  {
   "cell_type": "markdown",
   "metadata": {},
   "source": [
    "**Søer**"
   ]
  },
  {
   "cell_type": "code",
   "execution_count": null,
   "metadata": {
    "dotnet_interactive": {
     "language": "csharp"
    },
    "vscode": {
     "languageId": "dotnet-interactive.csharp"
    }
   },
   "outputs": [
    {
     "name": "stdout",
     "output_type": "stream",
     "text": [
      "Biodiesel fra soen: -20,31516045 Co2e\r\n"
     ]
    }
   ],
   "source": [
    "// Input - Test andre scenarier, ved at ændre i input-værdierne herunder\n",
    "double V_dyr = 247.0;\n",
    "double D_dyr = 0.151;\n",
    "double L_pat = 17.7;\n",
    "double F_pat = 15.1;\n",
    "double K_so = 2.25;\n",
    "double V_pat = 1.5;\n",
    "\n",
    "// Beregning\n",
    "double CO2e_biodiesel = ((L_pat - F_pat) * K_so * V_pat * C_bio) + (V_dyr * D_dyr * C_bio);\n",
    "Console.WriteLine($\"Biodiesel fra soen: {CO2e_biodiesel} Co2e\");"
   ]
  }
 ],
 "metadata": {
  "kernelspec": {
   "display_name": ".NET (C#)",
   "language": "C#",
   "name": ".net-csharp"
  },
  "language_info": {
   "file_extension": ".cs",
   "mimetype": "text/x-csharp",
   "name": "C#",
   "pygments_lexer": "csharp",
   "version": "9.0"
  },
  "orig_nbformat": 4,
  "vscode": {
   "interpreter": {
    "hash": "bab84105c52ccadeb85d61dc9a1d15bd1feb821a6dbda7c8ceb9873f369b5223"
   }
  }
 },
 "nbformat": 4,
 "nbformat_minor": 2
}
