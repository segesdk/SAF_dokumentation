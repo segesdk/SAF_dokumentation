{
 "cells": [
  {
   "attachments": {},
   "cell_type": "markdown",
   "metadata": {},
   "source": [
    "# **Foder**\n",
    "\n",
    "### **Beregning af CO<sub>2</sub>e fra foder med og uden land use change (LUC), afhænger af dyretypen**\n",
    "\n",
    ">Slagtegris (konv. + øko) + FRATS + smågrise (konv. + øko) \n",
    "\n",
    "$$ CO_2e_{foder} =  \\frac{T \\cdot F \\cdot CO_2e}{Fe} $$\n",
    "\n",
    "Hvor tilvæksten, T, beregnes for hhv. slagte/FRATSgrise og smågrise:\n",
    "\n",
    "$$ T_{slagt+FRATS} = V_{slagt}  \\cdot \\Delta_d - V_{ind}$$\n",
    "\n",
    "\n",
    "$$ T_{smågris} = V_{ud} - V_{ind} $$\n",
    "\n",
    ">Årssøer, konv + øko \n",
    "\n",
    "*Pattegrisens foder tillægges årssoens aftryk. Pattegrisefoderets klimaftryk findes ved at lægge aftrykket fra tørfoderet sammen med aftrykket fra mælkeprodukterne*\n",
    "\n",
    "\n",
    "$$ CO_2e_{foder} =  \\frac{F \\cdot CO_2e}{Fe} + \\frac{F_{tør} \\cdot FG \\cdot CO_2e_{tør}}{Fe_{tør}} + \\frac{F_{mælk} \\cdot FG \\cdot CO_2e_{mælk}}{Fe_{mælk}}$$\n",
    "\n",
    "Hvor: \n",
    "* F: Foder  = input fra bruger el. [Tabelværdi](https://seges.sharepoint.com/:x:/r/sites/SAFprojeketet/_layouts/15/Doc.aspx?sourcedoc=%7B0C95A002-A20E-4641-95BE-18B1560D7CE2%7D&file=PigData.xlsx&activeCell=AnimalTypes!G1&action=embedview) [FEsv pr kg tilvækst/FEso pr so]\n",
    "* CO<sub>2</sub>e: Klimaværdien for foderblandingen **m/u dLUC**  = input fra bruger el. [Tabelværdi m/ dLUC](https://seges.sharepoint.com/:x:/r/sites/SAFprojeketet/_layouts/15/Doc.aspx?sourcedoc=%7B0C95A002-A20E-4641-95BE-18B1560D7CE2%7D&file=PigData.xlsx&activeCell=AnimalTypes!Q1&action=embedview) / [Tabelværdi u/ dLUC](https://seges.sharepoint.com/:x:/r/sites/SAFprojeketet/_layouts/15/Doc.aspx?sourcedoc=%7B0C95A002-A20E-4641-95BE-18B1560D7CE2%7D&file=PigData.xlsx&activeCell=AnimalTypes!R1&action=embedview) [kg CO<sub>2</sub>e pr kg foder]\n",
    "* Fe: Foderenheder = input fra bruger el. [Tabelværdi](https://seges.sharepoint.com/:x:/r/sites/SAFprojeketet/_layouts/15/Doc.aspx?sourcedoc=%7B0C95A002-A20E-4641-95BE-18B1560D7CE2%7D&file=PigData.xlsx&activeCell=AnimalTypes!J1&action=embedview) [FE pr kg foder]\n",
    "* V<sub>slagt</sub>: Slagtevægt = input fra bruger el. [Tabelværdi](https://seges.sharepoint.com/:x:/r/sites/SAFprojeketet/_layouts/15/Doc.aspx?sourcedoc=%7B0C95A002-A20E-4641-95BE-18B1560D7CE2%7D&file=PigData.xlsx&activeCell=AnimalTypes!E1&action=embedview) [kg]\n",
    "* Δ<sub>d</sub> = 1,31\n",
    "* V<sub>ud</sub>: Vægt ved afgang el. salg = input fra bruger el. [Tabelværdi](https://seges.sharepoint.com/:x:/r/sites/SAFprojeketet/_layouts/15/Doc.aspx?sourcedoc=%7B0C95A002-A20E-4641-95BE-18B1560D7CE2%7D&file=PigData.xlsx&activeCell=AnimalTypes!F1&action=embedview) [kg]\n",
    "* V<sub>ind</sub>: Indsættelsesvægt = input fra bruger el. [Tabelværdi](https://seges.sharepoint.com/:x:/r/sites/SAFprojeketet/_layouts/15/Doc.aspx?sourcedoc=%7B0C95A002-A20E-4641-95BE-18B1560D7CE2%7D&file=PigData.xlsx&activeCell=AnimalTypes!D1&action=embedview) [kg]\n",
    "* F<sub>tør</sub>: Tørfoder til pattegrisen  =  input fra bruger el. [Tabelværdi](https://seges.sharepoint.com/:x:/r/sites/SAFprojeketet/_layouts/15/Doc.aspx?sourcedoc=%7B0C95A002-A20E-4641-95BE-18B1560D7CE2%7D&file=PigData.xlsx&activeCell=AnimalTypes!S1&action=embedview)\n",
    "[FEsv pr fravænnet gris]\n",
    "* FG: Fravænnede grise pr årsso = input fra bruger el. [Tabelværdi](https://seges.sharepoint.com/:x:/r/sites/SAFprojeketet/_layouts/15/Doc.aspx?sourcedoc=%7B0C95A002-A20E-4641-95BE-18B1560D7CE2%7D&file=PigData.xlsx&activeCell=AnimalTypes!U1&action=embedview)\n",
    "* CO<sub>2</sub>e<sub>tør</sub>: Klimaværdien for pattegrisens foderblanding **m/u LUC**  = input fra bruger el. [Tabelværdi m/ dLUC](https://seges.sharepoint.com/:x:/r/sites/SAFprojeketet/_layouts/15/Doc.aspx?sourcedoc=%7B0C95A002-A20E-4641-95BE-18B1560D7CE2%7D&file=PigData.xlsx&activeCell=AnimalTypes!V1&action=embedview) / [Tabelværdi u/ dLUC](https://seges.sharepoint.com/:x:/r/sites/SAFprojeketet/_layouts/15/Doc.aspx?sourcedoc=%7B0C95A002-A20E-4641-95BE-18B1560D7CE2%7D&file=PigData.xlsx&activeCell=AnimalTypes!W1&action=embedview) [kg CO<sub>2</sub>e pr kg foder]\n",
    "* Fe<sub>tør</sub>: Foderenheder i pattegrisens foderblanding = input fra bruger el. [Tabelværdi](https://seges.sharepoint.com/:x:/r/sites/SAFprojeketet/_layouts/15/Doc.aspx?sourcedoc=%7B0C95A002-A20E-4641-95BE-18B1560D7CE2%7D&file=PigData.xlsx&activeCell=AnimalTypes!K1&action=embedview) [FE pr kg foder]\n",
    "* F<sub>mælk</sub>: Mælkefoder til pattegrisen  =  input fra bruger el. [Tabelværdi](https://seges.sharepoint.com/:x:/r/sites/SAFprojeketet/_layouts/15/Doc.aspx?sourcedoc=%7B0C95A002-A20E-4641-95BE-18B1560D7CE2%7D&file=PigData.xlsx&activeCell=AnimalTypes!T1&action=embedview)\n",
    "[FEsv pr fravænnet gris]\n",
    "* CO<sub>2</sub>e<sub>mælk</sub>: Klimaværdien for pattegrisens mælkeblanding **m/u LUC**  = input fra bruger el. [Tabelværdi m/ dLUC](https://seges.sharepoint.com/:x:/r/sites/SAFprojeketet/_layouts/15/Doc.aspx?sourcedoc=%7B0C95A002-A20E-4641-95BE-18B1560D7CE2%7D&file=PigData.xlsx&activeCell=AnimalTypes!X1&action=embedview) / [Tabelværdi u/ dLUC](https://seges.sharepoint.com/:x:/r/sites/SAFprojeketet/_layouts/15/Doc.aspx?sourcedoc=%7B0C95A002-A20E-4641-95BE-18B1560D7CE2%7D&file=PigData.xlsx&activeCell=AnimalTypes!Y1&action=embedview) [kg CO<sub>2</sub>e pr kg foder]\n",
    "* Fe<sub>mælk</sub>: Foderenheder i pattegrisens mælkeblanding = input fra bruger el. [Tabelværdi](https://seges.sharepoint.com/:x:/r/sites/SAFprojeketet/_layouts/15/Doc.aspx?sourcedoc=%7B0C95A002-A20E-4641-95BE-18B1560D7CE2%7D&file=PigData.xlsx&activeCell=AnimalTypes!L1&action=embedview) [FE pr kg foder]\n",
    "\n",
    "----"
   ]
  },
  {
   "attachments": {},
   "cell_type": "markdown",
   "metadata": {},
   "source": [
    "# **Testcases**"
   ]
  },
  {
   "cell_type": "code",
   "execution_count": 11,
   "metadata": {
    "dotnet_interactive": {
     "language": "csharp"
    }
   },
   "outputs": [],
   "source": [
    "// konstanter - nix pille\n",
    "double Delta_d = 1.31;"
   ]
  },
  {
   "attachments": {},
   "cell_type": "markdown",
   "metadata": {},
   "source": [
    "**Slagte/FRATS grise**"
   ]
  },
  {
   "cell_type": "code",
   "execution_count": 12,
   "metadata": {
    "dotnet_interactive": {
     "language": "csharp"
    }
   },
   "outputs": [
    {
     "name": "stdout",
     "output_type": "stream",
     "text": [
      "Foderaftryk *uden* LUC foder for slagtegrise/FRATSgrise: 111,80345679012348 kg CO2e\n",
      "Foderaftryk *med* LUC foder for slagtegrise/FRATSgrise: 167,03703703703707 kg CO2e\n"
     ]
    }
   ],
   "source": [
    "// Input - Test andre scenarier, ved at ændre i input-værdierne herunder\n",
    "double V_slagt = 88.0;\n",
    "double V_ind = 30.0;\n",
    "double F = 2.75;\n",
    "double CO2e_uLUC = 0.502;\n",
    "double CO2e_mLUC = 0.75;\n",
    "double Fe = 1.053;\n",
    "\n",
    "// Beregning\n",
    "double FM = (V_slagt * Delta_d - V_ind) * F;\n",
    "double CO2e_foder_uLUC = FM * CO2e_uLUC/Fe;\n",
    "double CO2e_foder_mLUC = FM * CO2e_mLUC/Fe;\n",
    "Console.WriteLine($\"Foderaftryk *uden* LUC foder for slagtegrise/FRATSgrise: {CO2e_foder_uLUC} kg CO2e\");\n",
    "Console.WriteLine($\"Foderaftryk *med* LUC foder for slagtegrise/FRATSgrise: {CO2e_foder_mLUC} kg CO2e\");"
   ]
  },
  {
   "attachments": {},
   "cell_type": "markdown",
   "metadata": {},
   "source": [
    "**Smågrisen**"
   ]
  },
  {
   "cell_type": "code",
   "execution_count": 13,
   "metadata": {
    "dotnet_interactive": {
     "language": "csharp"
    }
   },
   "outputs": [
    {
     "name": "stdout",
     "output_type": "stream",
     "text": [
      "Foderaftryk *uden* LUC foder for smågrisen: 29,040644583706356 kg CO2e\n",
      "Foderaftryk *med* LUC foder for smågrisen: 37,75283795881827 kg CO2e\n"
     ]
    }
   ],
   "source": [
    "// Input - Test andre scenarier, ved at ændre i input-værdierne herunder\n",
    "double V_ud = 30.0;\n",
    "double V_ind = 8.2;\n",
    "double F = 1.86;\n",
    "double CO2e_uLUC = 0.8;\n",
    "double CO2e_mLUC = 1.04;\n",
    "double Fe = 1.117;\n",
    "\n",
    "// Beregning\n",
    "double FM = (V_ud - V_ind) * F;\n",
    "double CO2e_foder_uLUC = FM * CO2e_uLUC/Fe;\n",
    "double CO2e_foder_mLUC = FM * CO2e_mLUC/Fe;\n",
    "Console.WriteLine($\"Foderaftryk *uden* LUC foder for smågrisen: {CO2e_foder_uLUC} kg CO2e\");\n",
    "Console.WriteLine($\"Foderaftryk *med* LUC foder for smågrisen: {CO2e_foder_mLUC} kg CO2e\");"
   ]
  },
  {
   "attachments": {},
   "cell_type": "markdown",
   "metadata": {},
   "source": [
    "**Årsso**"
   ]
  },
  {
   "cell_type": "code",
   "execution_count": 14,
   "metadata": {
    "dotnet_interactive": {
     "language": "csharp"
    }
   },
   "outputs": [
    {
     "name": "stdout",
     "output_type": "stream",
     "text": [
      "Foderaftryk *uden* LUC foder for årssoen: 737,9790946575454 kg CO2e\n",
      "Foderaftryk *med* LUC foder for årssoen: 1155,3159678812494 kg CO2e\n"
     ]
    }
   ],
   "source": [
    "// Input - Test andre scenarier, ved at ændre i input-værdierne herunder\n",
    "double F = 1497.0;\n",
    "double CO2e_uLUC = 0.512348682521791;\n",
    "double CO2e_mLUC = 0.802088593464866;\n",
    "double Fe = 1.03930583303452;\n",
    "\n",
    "// Beregning\n",
    "double FM = F;\n",
    "double CO2e_foder_uLUC = FM * CO2e_uLUC/Fe;\n",
    "double CO2e_foder_mLUC = FM * CO2e_mLUC/Fe;\n",
    "Console.WriteLine($\"Foderaftryk *uden* LUC foder for årssoen: {CO2e_foder_uLUC} kg CO2e\");\n",
    "Console.WriteLine($\"Foderaftryk *med* LUC foder for årssoen: {CO2e_foder_mLUC} kg CO2e\");"
   ]
  },
  {
   "attachments": {},
   "cell_type": "markdown",
   "metadata": {},
   "source": [
    "**Pattegrise**"
   ]
  },
  {
   "cell_type": "code",
   "execution_count": 15,
   "metadata": {
    "dotnet_interactive": {
     "language": "csharp"
    }
   },
   "outputs": [
    {
     "name": "stdout",
     "output_type": "stream",
     "text": [
      "Foderaftryk *uden* LUC foder for pattegrisen: 71,02101042502005 kg CO2e\n",
      "Foderaftryk *med* LUC foder for pattegrisen: 75,41756214915799 kg CO2e\n"
     ]
    }
   ],
   "source": [
    "// Input - Test andre scenarier, ved at ændre i input-værdierne herunder\n",
    "double F_toer = 0.3;\n",
    "double F_maelk = 0.3;\n",
    "double CO2e_uLUC_toer = 1.0;\n",
    "double CO2e_mLUC_toer = 1.5;\n",
    "double CO2e_uLUC_maelk = 7.87;\n",
    "double CO2e_mLUC_maelk = 7.87;\n",
    "double Fe_toer = 1.16;\n",
    "double Fe_maelk = 1.29;\n",
    "double FG = 34.0;\n",
    "\n",
    "// Beregning\n",
    "double FM_toer = F_toer * FG;\n",
    "double FM_maelk = F_maelk * FG;\n",
    "double CO2e_foder_uLUC = FM_maelk * CO2e_uLUC_maelk/Fe_maelk + FM_toer * CO2e_uLUC_toer/Fe_toer;\n",
    "double CO2e_foder_mLUC = FM_maelk * CO2e_mLUC_maelk/Fe_maelk + FM_toer * CO2e_mLUC_toer/Fe_toer;\n",
    "Console.WriteLine($\"Foderaftryk *uden* LUC foder for pattegrisen: {CO2e_foder_uLUC} kg CO2e\");\n",
    "Console.WriteLine($\"Foderaftryk *med* LUC foder for pattegrisen: {CO2e_foder_mLUC} kg CO2e\");"
   ]
  }
 ],
 "metadata": {
  "kernelspec": {
   "display_name": ".NET (C#)",
   "language": "C#",
   "name": ".net-csharp"
  },
  "language_info": {
   "name": "polyglot-notebook"
  },
  "polyglot_notebook": {
   "kernelInfo": {
    "defaultKernelName": "csharp",
    "items": [
     {
      "aliases": [],
      "name": ".NET"
     },
     {
      "aliases": [
       "C#",
       "c#"
      ],
      "languageName": "C#",
      "name": "csharp"
     },
     {
      "aliases": [
       "F#",
       "f#"
      ],
      "languageName": "F#",
      "name": "fsharp"
     },
     {
      "aliases": [],
      "languageName": "HTML",
      "name": "html"
     },
     {
      "aliases": [
       "js"
      ],
      "languageName": "JavaScript",
      "name": "javascript"
     },
     {
      "aliases": [],
      "languageName": "KQL",
      "name": "kql"
     },
     {
      "aliases": [],
      "languageName": "Mermaid",
      "name": "mermaid"
     },
     {
      "aliases": [
       "powershell"
      ],
      "languageName": "PowerShell",
      "name": "pwsh"
     },
     {
      "aliases": [],
      "languageName": "SQL",
      "name": "sql"
     },
     {
      "aliases": [],
      "name": "value"
     },
     {
      "aliases": [
       "frontend"
      ],
      "name": "vscode"
     },
     {
      "aliases": [],
      "name": "webview"
     }
    ]
   }
  }
 },
 "nbformat": 4,
 "nbformat_minor": 2
}
