{
 "cells": [
  {
   "attachments": {},
   "cell_type": "markdown",
   "metadata": {},
   "source": [
    "# **Energi (varme + el)**\n",
    "\n",
    "## **Varme**\n",
    "\n",
    "### **Beregning af varmeforbrug, V<sub>gris</sub>, for grisen, afhænger af brugerinput og dyretype**\n",
    "\n",
    "> Hvis der _ikke_ er angivet varmepumpe/gyllekøling som varmekilde:\n",
    "\n",
    " $$ V_{gris} = V_{std} \\cdot C_V $$\n",
    "\n",
    "> Slagtegrise, hvis varmepumpe/gyllekøling er angivet som varmekilde af brugeren:\n",
    "\n",
    "$$ V_{gris} = 0 $$\n",
    "\n",
    "> Øvrige dyretyper, hvis varmepumpe/gyllekøling er angivet som varmekilde af brugeren:\n",
    "\n",
    "$$ V_{gris} = V_{std} \\cdot C_V \\cdot V_{\\chi} $$\n",
    "\n",
    "\n",
    " Hvor: \n",
    "\n",
    " * V<sub>std</sub>: En standardværdi for varmeforbrug, som afhænger af dyretypen = [Tabelværdi](https://seges.sharepoint.com/:x:/r/sites/SAFprojeketet/_layouts/15/Doc.aspx?sourcedoc=%7B0C95A002-A20E-4641-95BE-18B1560D7CE2%7D&file=PigData.xlsx&activeCell=AnimalTypes!AM1&action=embedview) [kwh]\n",
    " * C<sub>V</sub>: CO<sub>2</sub>e pr kwh i diverse varmekilder = [Standardtal](https://seges.sharepoint.com/:x:/r/sites/SAFprojeketet/_layouts/15/Doc.aspx?sourcedoc=%7B55DC573E-DF3A-4BB4-BA90-49438C005785%7D&file=Formler%20til%20PORK%202.0%20med%20foderberegner.xlsx&activeCell=%27Energi-vand-syre%27!D55&action=embedview) [kg/kwh]\n",
    " * V<sub>χ</sub>: Reduktionsværdi som funktion af benyttet varmepumpe/gyllekøling = 0.5\n"
   ]
  },
  {
   "attachments": {},
   "cell_type": "markdown",
   "metadata": {},
   "source": [
    "\n",
    "## **El**\n",
    "\n",
    "### **Beregning af el-forbrug, E<sub>gris</sub>, for grisen, afhænger af brugerinput** \n",
    "\n",
    "El-forbruget for grisen beregnes ved først at finde den samle mængde strøm brugt til alle grise:\n",
    "\n",
    "$$ E_{total} = (E_{ind} - E_{egen}) \\cdot O_{el}$$\n",
    "\n",
    "Hvor: \n",
    "\n",
    "* E<sub>ind</sub>: indkøbt el (blanding af vedvarende og fossile energikilder) = indtastes af bruger [kWh]\n",
    "* E<sub>egen</sub>: egenproduceret el = indtastes af bruger [kWh] (OBS hvis E<sub>egen</sub> > E<sub>ind</sub>, sættes strømforbruget til 0, da man ellers risikerer greenwashing)\n",
    "* O<sub>el</sub>: omregningsfaktor for el = 0,136 [kg CO2/kWh] [Kolonne AA](https://seges.sharepoint.com/:x:/s/GreenAction/EVQQ6Qbgx0VAor-_FAIU2QQBsfQB4lRJfW1TxuOVm5ZJCg?e=Xqmu2x) \n",
    "\n",
    "\n",
    "Denne mængde fordeles herefter ud på de enkelte dyr ihht. en fordelingsnøgle, der afhænger af dyretypens standard el-forbrug:\n",
    "\n",
    "$$ E_{gris} = E_{total} \\cdot A_{gris_x} / N_{gris_x} $$\n",
    "\n",
    "Hvor: \n",
    "\n",
    "* N<sub>gris<sub>x</sub></sub>: Antallet af grise af dyretype x\n",
    "* A<sub>gris<sub>x</sub></sub>: Andelen af strøm til dyretype x beregnes som:\n",
    "\n",
    "$$ A_{gris_x} = N_{gris_x} \\cdot E_{std_x} / \\sum_{i=1}^{n} (N_{gris_i} \\cdot E_{std_i}) $$\n",
    "\n",
    "Hvor: \n",
    "\n",
    "* E<sub>std<sub>x</sub></sub>: Et standard kwh-forbrug for dyretype x = [Tabelværdi](https://seges.sharepoint.com/:x:/r/sites/SAFprojeketet/_layouts/15/Doc.aspx?sourcedoc=%7B0C95A002-A20E-4641-95BE-18B1560D7CE2%7D&file=PigData.xlsx&activeCell=AnimalTypes_2022!AO1&action=embedview) [kWh]\n",
    "* N<sub>gris<sub>i</sub></sub>: Antallet af grise af dyretype i\n",
    "* E<sub>std<sub>i</sub></sub>: Et standard kwh-forbrug for dyretype i = [Tabelværdi](https://seges.sharepoint.com/:x:/r/sites/SAFprojeketet/_layouts/15/Doc.aspx?sourcedoc=%7B0C95A002-A20E-4641-95BE-18B1560D7CE2%7D&file=PigData.xlsx&activeCell=AnimalTypes_2022!AO1&action=embedview) [kWh]\n",
    "* n: antallet af dyretyper, som elforbruget skal fordeles imellem\n"
   ]
  },
  {
   "attachments": {},
   "cell_type": "markdown",
   "metadata": {},
   "source": [
    "----\n",
    "\n",
    "# **Testcases**\n",
    "\n",
    "## **Varme**"
   ]
  },
  {
   "attachments": {},
   "cell_type": "markdown",
   "metadata": {},
   "source": [
    "**Beregning for grisen, hvis der IKKE er angivet varmepumpe/gyllekøling som varmekilde**"
   ]
  },
  {
   "cell_type": "code",
   "execution_count": 41,
   "metadata": {
    "dotnet_interactive": {
     "language": "csharp"
    },
    "polyglot_notebook": {
     "kernelName": "csharp"
    }
   },
   "outputs": [],
   "source": [
    "// konstanter - nix pille\n",
    "double V_std_slagtegris = 1.7;\n",
    "double V_std_aarsso = 90.0;\n",
    "double V_std_FRATS = 8.8;\n",
    "double V_std_smaa = 7.1;\n",
    "double C_V = 0.267;\n",
    "double V_χ = 0.5;"
   ]
  },
  {
   "cell_type": "code",
   "execution_count": 42,
   "metadata": {
    "dotnet_interactive": {
     "language": "csharp"
    }
   },
   "outputs": [
    {
     "name": "stdout",
     "output_type": "stream",
     "text": [
      "Varme på slagtegrisen: 0.4539 kg CO2e\n",
      "Varme på årssoen: 24.03 kg CO2e\n",
      "Varme på FRATSgrisen: 2.3496 kg CO2e\n",
      "Varme på smågrisen: 1.8957 kg CO2e\n"
     ]
    }
   ],
   "source": [
    "// Beregning\n",
    "Console.WriteLine($\"Varme på slagtegrisen: {V_std_slagtegris * C_V} kg CO2e\");\n",
    "Console.WriteLine($\"Varme på årssoen: {V_std_aarsso * C_V} kg CO2e\");\n",
    "Console.WriteLine($\"Varme på FRATSgrisen: {V_std_FRATS * C_V} kg CO2e\");\n",
    "Console.WriteLine($\"Varme på smågrisen: {V_std_smaa * C_V} kg CO2e\");"
   ]
  },
  {
   "attachments": {},
   "cell_type": "markdown",
   "metadata": {},
   "source": [
    "**Beregning for grisen, hvis der er angivet varmepumpe/gyllekøling som varmekilde**"
   ]
  },
  {
   "cell_type": "code",
   "execution_count": 43,
   "metadata": {
    "dotnet_interactive": {
     "language": "csharp"
    }
   },
   "outputs": [
    {
     "name": "stdout",
     "output_type": "stream",
     "text": [
      "Varme på slagtegrisen: 0 kg CO2e\n",
      "Varme på årssoen: 12.015 kg CO2e\n",
      "Varme på FRATSgrisen: 1.1748 kg CO2e\n",
      "Varme på smågrisen: 0.94785 kg CO2e\n"
     ]
    }
   ],
   "source": [
    "// Beregning\n",
    "Console.WriteLine($\"Varme på slagtegrisen: {V_std_slagtegris * C_V * 0} kg CO2e\");\n",
    "Console.WriteLine($\"Varme på årssoen: {V_std_aarsso * C_V * V_χ} kg CO2e\");\n",
    "Console.WriteLine($\"Varme på FRATSgrisen: {V_std_FRATS * C_V * V_χ} kg CO2e\");\n",
    "Console.WriteLine($\"Varme på smågrisen: {V_std_smaa * C_V * V_χ} kg CO2e\");"
   ]
  },
  {
   "attachments": {},
   "cell_type": "markdown",
   "metadata": {},
   "source": [
    "## **El**"
   ]
  },
  {
   "cell_type": "code",
   "execution_count": 44,
   "metadata": {
    "dotnet_interactive": {
     "language": "csharp"
    }
   },
   "outputs": [],
   "source": [
    "// konstanter - nix pille\n",
    "double E_std_slagt = 9.2;\n",
    "double E_std_aarsso = 176.0;\n",
    "double E_std_smaa = 3.6;\n",
    "double C_E = 0.136;"
   ]
  },
  {
   "attachments": {},
   "cell_type": "markdown",
   "metadata": {},
   "source": [
    "**Årssøer, smågrise, slagtegrise**"
   ]
  },
  {
   "cell_type": "code",
   "execution_count": 45,
   "metadata": {
    "dotnet_interactive": {
     "language": "csharp"
    }
   },
   "outputs": [
    {
     "name": "stdout",
     "output_type": "stream",
     "text": [
      "El i alt : 500000 kWh\n",
      "El pr årssoen: 258.82352941176475 kWh = 35.20000000000001 kg CO2e\n",
      "El pr smågris: 5.294117647058823 kWh = 0.7200000000000001 kg CO2e\n",
      "El pr slagtegris: 13.529411764705882 kWh = 1.84 kg CO2e\n"
     ]
    }
   ],
   "source": [
    "// Input - Test andre scenarier, ved at ændre i input-værdierne herunder\n",
    "var E_ind = 500000.0;\n",
    "var E_egen = 0.0;\n",
    "var N_arsso = 1000.0;\n",
    "var N_smaa = 20000.0;\n",
    "var N_slagt = 10000.0;\n",
    "\n",
    "// Beregning\n",
    "\n",
    "double E_total = E_ind - E_egen * C_E;\n",
    "\n",
    "double Norm_aarsso = N_arsso * E_std_aarsso;\n",
    "double Norm_smaa = N_smaa * E_std_smaa;\n",
    "double Norm_slagt = N_slagt * E_std_slagt;\n",
    "double Norm_sum = Norm_aarsso + Norm_smaa + Norm_slagt;\n",
    "\n",
    "double A_aarsso = Norm_aarsso / Norm_sum;\n",
    "double A_smaa = Norm_smaa / Norm_sum;\n",
    "double A_slagt = Norm_slagt / Norm_sum;\n",
    "\n",
    "double E_aarsso = E_total * A_aarsso / N_arsso;\n",
    "double E_smaa = E_total * A_smaa / N_smaa;\n",
    "double E_slagt = E_total * A_slagt / N_slagt;\n",
    "\n",
    "\n",
    "Console.WriteLine($\"El i alt : {E_total} kWh\");\n",
    "Console.WriteLine($\"El pr årssoen: {E_aarsso} kWh = {E_aarsso * C_E} kg CO2e\");\n",
    "Console.WriteLine($\"El pr smågris: {E_smaa} kWh = {E_smaa * C_E} kg CO2e\");\n",
    "Console.WriteLine($\"El pr slagtegris: {E_slagt} kWh = {E_slagt * C_E} kg CO2e\");"
   ]
  }
 ],
 "metadata": {
  "kernelspec": {
   "display_name": ".NET (C#)",
   "language": "C#",
   "name": ".net-csharp"
  },
  "language_info": {
   "name": "polyglot-notebook"
  },
  "polyglot_notebook": {
   "kernelInfo": {
    "defaultKernelName": "csharp",
    "items": [
     {
      "aliases": [],
      "name": ".NET"
     },
     {
      "aliases": [
       "C#",
       "c#"
      ],
      "languageName": "C#",
      "name": "csharp"
     },
     {
      "aliases": [
       "F#",
       "f#"
      ],
      "languageName": "F#",
      "name": "fsharp"
     },
     {
      "aliases": [],
      "languageName": "HTML",
      "name": "html"
     },
     {
      "aliases": [
       "js"
      ],
      "languageName": "JavaScript",
      "name": "javascript"
     },
     {
      "aliases": [],
      "languageName": "KQL",
      "name": "kql"
     },
     {
      "aliases": [],
      "languageName": "Mermaid",
      "name": "mermaid"
     },
     {
      "aliases": [
       "powershell"
      ],
      "languageName": "PowerShell",
      "name": "pwsh"
     },
     {
      "aliases": [],
      "languageName": "SQL",
      "name": "sql"
     },
     {
      "aliases": [],
      "name": "value"
     },
     {
      "aliases": [
       "frontend"
      ],
      "name": "vscode"
     },
     {
      "aliases": [],
      "name": "webview"
     }
    ]
   }
  }
 },
 "nbformat": 4,
 "nbformat_minor": 2
}
