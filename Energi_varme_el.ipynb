{
 "cells": [
  {
   "cell_type": "markdown",
   "metadata": {
    "dotnet_interactive": {
     "language": "csharp"
    },
    "polyglot_notebook": {
     "kernelName": "csharp"
    }
   },
   "source": [
    "# **Energi (varme + el)**\n",
    "\n",
    "## **Varme**\n",
    "\n",
    "### **Beregning af varmeforbrug, V<sub>gris</sub>, for grisen, afhænger af brugerinput og dyretype**\n",
    "\n",
    "> Hvis der _ikke_ er angivet varmepumpe/gyllekøling som varmekilde:\n",
    "\n",
    " $$ V_{gris} = V_{std} \\cdot C_V $$\n",
    "\n",
    "> Slagtegrise, hvis varmepumpe/gyllekøling er angivet som varmekilde af brugeren:\n",
    "\n",
    "$$ V_{gris} = 0 $$\n",
    "\n",
    "> Øvrige dyretyper, hvis varmepumpe/gyllekøling er angivet som varmekilde af brugeren:\n",
    "\n",
    "$$ V_{gris} = V_{std} \\cdot C_V \\cdot V_{\\chi} $$\n",
    "\n",
    "\n",
    " Hvor: \n",
    "\n",
    " * V<sub>std</sub>: En standardværdi for varmeforbrug, som afhænger af dyretypen = [Tabelværdi](https://seges.sharepoint.com/:x:/r/sites/SAFprojeketet/_layouts/15/Doc.aspx?sourcedoc=%7B55DC573E-DF3A-4BB4-BA90-49438C005785%7D&file=Formler%20til%20PORK%202.0%20med%20foderberegner.xlsx&activeCell=%27Energi-vand-syre%27!A30&action=embedview) [kwh]\n",
    " * C<sub>V</sub>: CO<sub>2</sub>e pr kwh i diverse varmekilder = [Standardtal](https://seges.sharepoint.com/:x:/r/sites/SAFprojeketet/_layouts/15/Doc.aspx?sourcedoc=%7B55DC573E-DF3A-4BB4-BA90-49438C005785%7D&file=Formler%20til%20PORK%202.0%20med%20foderberegner.xlsx&activeCell=%27Energi-vand-syre%27!D55&action=embedview) [kg/kwh]\n",
    " * V<sub>χ</sub>: Reduktionsværdi som funktion af benyttet varmepumpe/gyllekøling = 0.5\n"
   ]
  },
  {
   "cell_type": "markdown",
   "metadata": {
    "dotnet_interactive": {
     "language": "csharp"
    },
    "polyglot_notebook": {
     "kernelName": "csharp"
    }
   },
   "source": [
    "\n",
    "## **El**\n",
    "\n",
    "### **Beregning af el-forbrug, E<sub>gris</sub>, for grisen, afhænger af brugerinput** \n",
    "\n",
    "El-forbruget for grisen beregnes ud fra hvilke teknologier, der er valgt i brugerfladen. Teknologiernes samlede kwh-forbrug lægges til et standard kwh-forbrug, som afhænger af dyretypen.\n",
    "\n",
    "Andelen af grøn el/egenproduceret el fratrækkes:\n",
    "\n",
    " $$ E_{gris} = (E_{std} + \\sum_{i=1}^{n}T_i - E_{grøn}) \\cdot C_E $$\n",
    "\n",
    " Hvor: \n",
    "\n",
    " * E<sub>std</sub>: Et standard kwh-forbrug for dyretypen = [Tabelværdi](https://seges.sharepoint.com/:x:/r/sites/SAFprojeketet/_layouts/15/Doc.aspx?sourcedoc=%7B55DC573E-DF3A-4BB4-BA90-49438C005785%7D&file=Formler%20til%20PORK%202.0%20med%20foderberegner.xlsx&activeCell=%27Energi-vand-syre%27!A9&action=embedview) [kwh] \n",
    " * E<sub>grøn</sub>: Mængden af energi brugt til grise, som stammer fra enten indkøbt grøn el eller egneproduktion af el = brugerinput [kwh]\n",
    " * T<sub>i</sub>: Energiforbrug for den i'te el-teknologi valgt i brugerfladen = [Tabelværdi](https://seges.sharepoint.com/:x:/r/sites/SAFprojeketet/_layouts/15/Doc.aspx?sourcedoc=%7B55DC573E-DF3A-4BB4-BA90-49438C005785%7D&file=Formler%20til%20PORK%202.0%20med%20foderberegner.xlsx&activeCell=%27Energi-vand-syre%27!A11&action=embedview) [kwh] \n",
    " * C<sub>E</sub>: CO<sub>2</sub>e pr kwh i el = [Standardtal](https://seges.sharepoint.com/:x:/r/sites/SAFprojeketet/_layouts/15/Doc.aspx?sourcedoc=%7B55DC573E-DF3A-4BB4-BA90-49438C005785%7D&file=Formler%20til%20PORK%202.0%20med%20foderberegner.xlsx&activeCell=%27Energi-vand-syre%27!D51&action=embedview) [kg/kwh]"
   ]
  },
  {
   "attachments": {},
   "cell_type": "markdown",
   "metadata": {
    "dotnet_interactive": {
     "language": "csharp"
    },
    "polyglot_notebook": {
     "kernelName": "csharp"
    }
   },
   "source": [
    "----\n",
    "\n",
    "# **Testcases**\n",
    "\n",
    "## **Varme**"
   ]
  },
  {
   "attachments": {},
   "cell_type": "markdown",
   "metadata": {
    "dotnet_interactive": {
     "language": "csharp"
    },
    "polyglot_notebook": {
     "kernelName": "csharp"
    }
   },
   "source": [
    "**Beregning for grisen, hvis der IKKE er angivet varmepumpe/gyllekøling som varmekilde**"
   ]
  },
  {
   "cell_type": "code",
   "execution_count": 8,
   "metadata": {
    "dotnet_interactive": {
     "language": "csharp"
    },
    "polyglot_notebook": {
     "kernelName": "csharp"
    },
    "vscode": {
     "languageId": "polyglot-notebook"
    }
   },
   "outputs": [],
   "source": [
    "// konstanter - nix pille\n",
    "double V_std_slagtegris = 1.7;\n",
    "double V_std_aarsso = 90.0;\n",
    "double V_std_FRATS = 8.8;\n",
    "double V_std_smaa = 7.1;\n",
    "double C_V = 0.267;\n",
    "double V_χ = 0.5;"
   ]
  },
  {
   "cell_type": "code",
   "execution_count": 9,
   "metadata": {
    "dotnet_interactive": {
     "language": "csharp"
    },
    "vscode": {
     "languageId": "polyglot-notebook"
    }
   },
   "outputs": [
    {
     "name": "stdout",
     "output_type": "stream",
     "text": [
      "Varme på slagtegrisen: 0,4539 kg CO2e\n",
      "Varme på årssoen: 24,03 kg CO2e\n",
      "Varme på FRATSgrisen: 2,3496 kg CO2e\n",
      "Varme på smågrisen: 1,8957 kg CO2e\n"
     ]
    }
   ],
   "source": [
    "// Beregning\n",
    "Console.WriteLine($\"Varme på slagtegrisen: {V_std_slagtegris * C_V} kg CO2e\");\n",
    "Console.WriteLine($\"Varme på årssoen: {V_std_aarsso * C_V} kg CO2e\");\n",
    "Console.WriteLine($\"Varme på FRATSgrisen: {V_std_FRATS * C_V} kg CO2e\");\n",
    "Console.WriteLine($\"Varme på smågrisen: {V_std_smaa * C_V} kg CO2e\");"
   ]
  },
  {
   "attachments": {},
   "cell_type": "markdown",
   "metadata": {
    "dotnet_interactive": {
     "language": "csharp"
    },
    "polyglot_notebook": {
     "kernelName": "csharp"
    }
   },
   "source": [
    "**Beregning for grisen, hvis der er angivet varmepumpe/gyllekøling som varmekilde**"
   ]
  },
  {
   "cell_type": "code",
   "execution_count": 10,
   "metadata": {
    "dotnet_interactive": {
     "language": "csharp"
    },
    "vscode": {
     "languageId": "polyglot-notebook"
    }
   },
   "outputs": [
    {
     "name": "stdout",
     "output_type": "stream",
     "text": [
      "Varme på slagtegrisen: 0 kg CO2e\n",
      "Varme på årssoen: 12,015 kg CO2e\n",
      "Varme på FRATSgrisen: 1,1748 kg CO2e\n",
      "Varme på smågrisen: 0,94785 kg CO2e\n"
     ]
    }
   ],
   "source": [
    "// Beregning\n",
    "Console.WriteLine($\"Varme på slagtegrisen: {V_std_slagtegris * C_V * 0} kg CO2e\");\n",
    "Console.WriteLine($\"Varme på årssoen: {V_std_aarsso * C_V * V_χ} kg CO2e\");\n",
    "Console.WriteLine($\"Varme på FRATSgrisen: {V_std_FRATS * C_V * V_χ} kg CO2e\");\n",
    "Console.WriteLine($\"Varme på smågrisen: {V_std_smaa * C_V * V_χ} kg CO2e\");"
   ]
  },
  {
   "cell_type": "markdown",
   "metadata": {
    "dotnet_interactive": {
     "language": "csharp"
    },
    "polyglot_notebook": {
     "kernelName": "csharp"
    }
   },
   "source": [
    "## **El**"
   ]
  },
  {
   "cell_type": "code",
   "execution_count": 11,
   "metadata": {
    "dotnet_interactive": {
     "language": "csharp"
    },
    "vscode": {
     "languageId": "polyglot-notebook"
    }
   },
   "outputs": [],
   "source": [
    "// konstanter - nix pille\n",
    "double E_std_slagt = 9.2;\n",
    "double E_std_aarsso = 176.0;\n",
    "double E_std_FRATS = 12.8;\n",
    "double E_std_smaa = 3.6;\n",
    "double C_E = 0.151;\n",
    "\n",
    "var aarsso_teknologier = new Dictionary<string, double>\n",
    "{\n",
    "    { \"HjemmeblandetFoder\", 20.0},\n",
    "    { \"Luftrensning100p\", 18.0},\n",
    "    { \"Luftrensning10til20p\", 7.0},\n",
    "    { \"BiologiskLuftrenser\", 8.0},\n",
    "    { \"Smellfighter\", 0.0},\n",
    "    { \"Gylleseparering\", 0.0},\n",
    "    { \"Gyllekøling\", 20.0},\n",
    "    { \"Varmepumpe\", 20.0},\n",
    "    { \"LEDlys\", -7.0},\n",
    "    { \"UdtøringAfStaldEl\", 0.0},\n",
    "    { \"LavenergiJævnstrømsmotorer\", -26.0}\n",
    "};\n",
    "\n",
    "var smaagris_teknologier = new Dictionary<string, double>\n",
    "{\n",
    "    { \"HjemmeblandetFoder\", 0.6},\n",
    "    { \"Luftrensning100p\", 5.0},\n",
    "    { \"Luftrensning10til20p\", 2.0},\n",
    "    { \"BiologiskLuftrenser\", 2.4},\n",
    "    { \"Smellfighter\", 0.0},\n",
    "    { \"Gylleseparering\", 0.0},\n",
    "    { \"Gyllekøling\", 1.6},\n",
    "    { \"Varmepumpe\", 1.6},\n",
    "    { \"LEDlys\", -0.5},\n",
    "    { \"UdtøringAfStaldEl\", 0.9},\n",
    "    { \"LavenergiJævnstrømsmotorer\", -1.0}\n",
    "};\n",
    "\n",
    "var slagtegris_teknologier = new Dictionary<string, double>\n",
    "{\n",
    "    { \"HjemmeblandetFoder\", 3.0},\n",
    "    { \"Luftrensning100p\", 18.2},\n",
    "    { \"Luftrensning10til20p\", 7.1},\n",
    "    { \"BiologiskLuftrenser\", 8.4},\n",
    "    { \"Smellfighter\", 1.5},\n",
    "    { \"Gylleseparering\", 1.5},\n",
    "    { \"Gyllekøling\", 5.0},\n",
    "    { \"Varmepumpe\", 5.0},\n",
    "    { \"LEDlys\", -1.5},\n",
    "    { \"UdtøringAfStaldEl\", 1.4},\n",
    "    { \"LavenergiJævnstrømsmotorer\", -5.0}\n",
    "};        \n",
    "\n",
    "var FRATS_teknologier = new Dictionary<string, double>\n",
    "{\n",
    "    { \"HjemmeblandetFoder\", 3.6},\n",
    "    { \"Luftrensning100p\",  23.2},\n",
    "    { \"Luftrensning10til20p\", 9.1},\n",
    "    { \"BiologiskLuftrenser\", 10.8},\n",
    "    { \"Smellfighter\", 1.5},\n",
    "    { \"Gylleseparering\", 1.5},\n",
    "    { \"Gyllekøling\", 6.6},\n",
    "    { \"Varmepumpe\", 6.6},\n",
    "    { \"LEDlys\", -2.0},\n",
    "    { \"UdtøringAfStaldEl\", 2.3},\n",
    "    { \"LavenergiJævnstrømsmotorer\", -6.0}\n",
    "};     "
   ]
  },
  {
   "cell_type": "markdown",
   "metadata": {
    "dotnet_interactive": {
     "language": "csharp"
    },
    "polyglot_notebook": {
     "kernelName": "csharp"
    }
   },
   "source": [
    "**Årssøer**"
   ]
  },
  {
   "cell_type": "code",
   "execution_count": 12,
   "metadata": {
    "dotnet_interactive": {
     "language": "csharp"
    },
    "vscode": {
     "languageId": "polyglot-notebook"
    }
   },
   "outputs": [
    {
     "name": "stdout",
     "output_type": "stream",
     "text": [
      "El på årssoen: 189 kwh\n",
      "Omregnet til CO2e: 28,538999999999998 kg CO2e\n"
     ]
    }
   ],
   "source": [
    "// Input - Test andre scenarier, ved at ændre i input-værdierne herunder\n",
    "double E_gron = 25.0;\n",
    "var valgte_teknologier = new List<string>(){\"Luftrensning100p\", \"Smellfighter\", \"Varmepumpe\"};\n",
    "\n",
    "// Beregning\n",
    "double teknologier = 0.0;\n",
    "valgte_teknologier.ForEach(tek => teknologier += (aarsso_teknologier[tek]));\n",
    "double E_aarsso = (E_std_aarsso + teknologier - E_gron);\n",
    "Console.WriteLine($\"El på årssoen: {E_aarsso} kwh\");\n",
    "Console.WriteLine($\"Omregnet til CO2e: {E_aarsso * C_E} kg CO2e\");"
   ]
  },
  {
   "cell_type": "markdown",
   "metadata": {
    "dotnet_interactive": {
     "language": "csharp"
    },
    "polyglot_notebook": {
     "kernelName": "csharp"
    }
   },
   "source": [
    "**Smågris**"
   ]
  },
  {
   "cell_type": "code",
   "execution_count": 13,
   "metadata": {
    "dotnet_interactive": {
     "language": "csharp"
    },
    "vscode": {
     "languageId": "polyglot-notebook"
    }
   },
   "outputs": [
    {
     "name": "stdout",
     "output_type": "stream",
     "text": [
      "El på smågrisen: -14,8 kwh\n",
      "Omregnet til CO2e: -2,2348 kg CO2e\n"
     ]
    }
   ],
   "source": [
    "// Input - Test andre scenarier, ved at ændre i input-værdierne herunder\n",
    "double E_gron = 25.0;\n",
    "var valgte_teknologier = new List<string>(){\"Luftrensning100p\", \"Smellfighter\", \"Varmepumpe\"};\n",
    "\n",
    "// Beregning\n",
    "double teknologier = 0.0;\n",
    "valgte_teknologier.ForEach(tek => teknologier += (smaagris_teknologier[tek]));\n",
    "double E_smaagris = (E_std_smaa + teknologier - E_gron);\n",
    "Console.WriteLine($\"El på smågrisen: {E_smaagris} kwh\");\n",
    "Console.WriteLine($\"Omregnet til CO2e: {E_smaagris * C_E} kg CO2e\");"
   ]
  },
  {
   "cell_type": "markdown",
   "metadata": {
    "dotnet_interactive": {
     "language": "csharp"
    },
    "polyglot_notebook": {
     "kernelName": "csharp"
    }
   },
   "source": [
    "**Slagtegris**"
   ]
  },
  {
   "cell_type": "code",
   "execution_count": 14,
   "metadata": {
    "dotnet_interactive": {
     "language": "csharp"
    },
    "vscode": {
     "languageId": "polyglot-notebook"
    }
   },
   "outputs": [
    {
     "name": "stdout",
     "output_type": "stream",
     "text": [
      "El på slagtegrisen: 8,899999999999999 kwh\n",
      "Omregnet til CO2e: 1,3438999999999997 kg CO2e\n"
     ]
    }
   ],
   "source": [
    "// Input - Test andre scenarier, ved at ændre i input-værdierne herunder\n",
    "double E_gron = 25.0;\n",
    "var valgte_teknologier = new List<string>(){\"Luftrensning100p\", \"Smellfighter\", \"Varmepumpe\"};\n",
    "\n",
    "// Beregning\n",
    "double teknologier = 0.0;\n",
    "valgte_teknologier.ForEach(tek => teknologier += (slagtegris_teknologier[tek]));\n",
    "double E_slagtegris = (E_std_slagt + teknologier - E_gron);\n",
    "Console.WriteLine($\"El på slagtegrisen: {E_slagtegris} kwh\");\n",
    "Console.WriteLine($\"Omregnet til CO2e: {E_slagtegris * C_E} kg CO2e\");"
   ]
  },
  {
   "cell_type": "markdown",
   "metadata": {
    "dotnet_interactive": {
     "language": "csharp"
    },
    "polyglot_notebook": {
     "kernelName": "csharp"
    }
   },
   "source": [
    "**FRATSgrise**"
   ]
  },
  {
   "cell_type": "code",
   "execution_count": 15,
   "metadata": {
    "dotnet_interactive": {
     "language": "csharp"
    },
    "vscode": {
     "languageId": "polyglot-notebook"
    }
   },
   "outputs": [
    {
     "name": "stdout",
     "output_type": "stream",
     "text": [
      "El på FRATSgrisen: 19,099999999999994 kwh\n",
      "Omregnet til CO2e: 2,884099999999999 kg CO2e\n"
     ]
    }
   ],
   "source": [
    "// Input - Test andre scenarier, ved at ændre i input-værdierne herunder\n",
    "double E_gron = 25.0;\n",
    "var valgte_teknologier = new List<string>(){\"Luftrensning100p\", \"Smellfighter\", \"Varmepumpe\"};\n",
    "\n",
    "// Beregning\n",
    "double teknologier = 0.0;\n",
    "valgte_teknologier.ForEach(tek => teknologier += (FRATS_teknologier[tek]));\n",
    "double E_FRATS = (E_std_FRATS + teknologier - E_gron);\n",
    "Console.WriteLine($\"El på FRATSgrisen: {E_FRATS} kwh\");\n",
    "Console.WriteLine($\"Omregnet til CO2e: {E_FRATS * C_E} kg CO2e\");"
   ]
  }
 ],
 "metadata": {
  "kernelspec": {
   "display_name": ".NET (C#)",
   "language": "C#",
   "name": ".net-csharp"
  },
  "polyglot_notebook": {
   "kernelInfo": {
    "defaultKernelName": "csharp",
    "items": [
     {
      "aliases": [
       "c#",
       "C#"
      ],
      "languageName": "C#",
      "name": "csharp"
     },
     {
      "aliases": [
       "frontend"
      ],
      "name": "vscode"
     },
     {
      "aliases": [],
      "name": ".NET"
     },
     {
      "aliases": [
       "f#",
       "F#"
      ],
      "languageName": "F#",
      "name": "fsharp"
     },
     {
      "aliases": [],
      "languageName": "HTML",
      "name": "html"
     },
     {
      "aliases": [],
      "languageName": "KQL",
      "name": "kql"
     },
     {
      "aliases": [],
      "languageName": "Mermaid",
      "name": "mermaid"
     },
     {
      "aliases": [
       "powershell"
      ],
      "languageName": "PowerShell",
      "name": "pwsh"
     },
     {
      "aliases": [],
      "languageName": "SQL",
      "name": "sql"
     },
     {
      "aliases": [],
      "name": "value"
     },
     {
      "aliases": [
       "js"
      ],
      "languageName": "JavaScript",
      "name": "javascript"
     },
     {
      "aliases": [],
      "name": "webview"
     }
    ]
   }
  }
 },
 "nbformat": 4,
 "nbformat_minor": 2
}
