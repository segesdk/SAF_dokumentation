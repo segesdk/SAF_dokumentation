{
 "cells": [
  {
   "cell_type": "markdown",
   "metadata": {},
   "source": [
    "# **Energi (varme + el)**\n",
    "\n",
    "## **Varme**\n",
    "\n",
    "### **Beregning af varmeforbrug, V<sub>gris</sub>, for grisen, afhænger af brugerinput og dyretype**\n",
    "\n",
    "> Hvis der _ikke_ er angivet varmepumpe/gyllekøling som varmekilde:\n",
    "\n",
    " $$ V_{gris} = V_{std} \\cdot C_V $$\n",
    "\n",
    "> Slagtegrise, hvis varmepumpe/gyllekøling er angivet som varmekilde af brugeren:\n",
    "\n",
    "$$ V_{gris} = 0 $$\n",
    "\n",
    "> Øvrige dyretyper, hvis varmepumpe/gyllekøling er angivet som varmekilde af brugeren:\n",
    "\n",
    "$$ V_{gris} = V_{std} \\cdot C_V \\cdot V_{\\chi} $$\n",
    "\n",
    "\n",
    " Hvor: \n",
    "\n",
    " * V<sub>std</sub>: En standardværdi for varmeforbrug, som afhænger af dyretypen = [Tabelværdi](https://seges.sharepoint.com/:x:/r/sites/SAFprojeketet/_layouts/15/Doc.aspx?sourcedoc=%7B55DC573E-DF3A-4BB4-BA90-49438C005785%7D&file=Formler%20til%20PORK%202.0%20med%20foderberegner.xlsx&activeCell=%27Energi-vand-syre%27!A30&action=embedview) [kwh]\n",
    " * C<sub>V</sub>: CO<sub>2</sub>e pr kwh i diverse varmekilder = [Standardtal](https://seges.sharepoint.com/:x:/r/sites/SAFprojeketet/_layouts/15/Doc.aspx?sourcedoc=%7B55DC573E-DF3A-4BB4-BA90-49438C005785%7D&file=Formler%20til%20PORK%202.0%20med%20foderberegner.xlsx&activeCell=%27Energi-vand-syre%27!D55&action=embedview) [kg/kwh]\n",
    " * V<sub>χ</sub>: Reduktionsværdi som funktion af benyttet varmepumpe/gyllekøling = 0.5\n"
   ]
  },
  {
   "cell_type": "markdown",
   "metadata": {},
   "source": [
    "\n",
    "## **El**\n",
    "\n",
    "### **Beregning af el-forbrug, E<sub>gris</sub>, for grisen, afhænger af brugerinput** \n",
    "\n",
    "El-forbruget for grisen beregnes ud fra hvilke teknologier, der er valgt i brugerfladen. Teknologiernes samlede kwh-forbrug lægges til et standard kwh-forbrug, som afhænger af dyretypen.\n",
    "\n",
    "Andelen af grøn el/egenproduceret el fratrækkes:\n",
    "\n",
    " $$ E_{gris} = (E_{std} + \\sum_{i=1}^{n}T_i - ((E_{std} + \\sum_{i=1}^{n}T_i) \\cdot E_{grøn})) \\cdot C_E $$\n",
    "\n",
    " Hvor: \n",
    "\n",
    " * E<sub>std</sub>: Et standard kwh-forbrug for dyretypen = [Tabelværdi](https://seges.sharepoint.com/:x:/r/sites/SAFprojeketet/_layouts/15/Doc.aspx?sourcedoc=%7B55DC573E-DF3A-4BB4-BA90-49438C005785%7D&file=Formler%20til%20PORK%202.0%20med%20foderberegner.xlsx&activeCell=%27Energi-vand-syre%27!A9&action=embedview) [kwh] \n",
    " * E<sub>grøn</sub>: Andelen af energi brugt til grise, som stammer fra enten indkøbt grøn el eller egneproduktion af el = brugerinput [%]\n",
    " * T<sub>i</sub>: Energiforbrug for den i'te el-teknologi valgt i brugerfladen = [Tabelværdi](https://seges.sharepoint.com/:x:/r/sites/SAFprojeketet/_layouts/15/Doc.aspx?sourcedoc=%7B55DC573E-DF3A-4BB4-BA90-49438C005785%7D&file=Formler%20til%20PORK%202.0%20med%20foderberegner.xlsx&activeCell=%27Energi-vand-syre%27!A11&action=embedview) [kwh] \n",
    " * C<sub>E</sub>: CO<sub>2</sub>e pr kwh i el = [Standardtal](https://seges.sharepoint.com/:x:/r/sites/SAFprojeketet/_layouts/15/Doc.aspx?sourcedoc=%7B55DC573E-DF3A-4BB4-BA90-49438C005785%7D&file=Formler%20til%20PORK%202.0%20med%20foderberegner.xlsx&activeCell=%27Energi-vand-syre%27!D51&action=embedview) [kg/kwh]"
   ]
  },
  {
   "cell_type": "markdown",
   "metadata": {},
   "source": [
    "----\n",
    "\n",
    "# **Testcases**\n",
    "\n",
    "Hvis du selv vil lege med beregningerne i testcases kan du køre notebooken i google colab [HER](https://colab.research.google.com/github/segesdk/SAF_dokumentation/blob/main/Energi_varme_el.ipynb) (kræver login på din google konto)\n",
    "\n",
    "## **Varme**"
   ]
  },
  {
   "cell_type": "markdown",
   "metadata": {},
   "source": [
    "**Beregning for grisen, hvis der IKKE er opgivet et naturgas/halm/olie forbrug**"
   ]
  },
  {
   "cell_type": "code",
   "execution_count": null,
   "metadata": {
    "dotnet_interactive": {
     "language": "csharp"
    },
    "vscode": {
     "languageId": "dotnet-interactive.csharp"
    }
   },
   "outputs": [
    {
     "name": "stdout",
     "output_type": "stream",
     "text": [
      "Varme på slagtegrisen: 0,4539 kg CO2e\r\n",
      "Varme på årssoen: 24,03 kg CO2e\r\n",
      "Varme på FRATSgrisen: 2,3496 kg CO2e\r\n",
      "Varme på smågrisen: 1,8957 kg CO2e\r\n"
     ]
    }
   ],
   "source": [
    "// konstanter - nix pille\n",
    "double V_std_slagtegris = 1.7;\n",
    "double V_std_aarsso = 90.0;\n",
    "double V_std_FRATS = 8.8;\n",
    "double V_std_smaa = 7.1;\n",
    "double C_V = 0.267;\n",
    "\n",
    "// Beregning\n",
    "Console.WriteLine($\"Varme på slagtegrisen: {V_std_slagtegris * C_V} kg CO2e\");\n",
    "Console.WriteLine($\"Varme på årssoen: {V_std_aarsso * C_V} kg CO2e\");\n",
    "Console.WriteLine($\"Varme på FRATSgrisen: {V_std_FRATS * C_V} kg CO2e\");\n",
    "Console.WriteLine($\"Varme på smågrisen: {V_std_smaa * C_V} kg CO2e\");"
   ]
  },
  {
   "cell_type": "markdown",
   "metadata": {},
   "source": [
    "**Beregning for grisen, hvis der er opgivet et naturgas- halm- eller olieforbrug**"
   ]
  },
  {
   "cell_type": "code",
   "execution_count": null,
   "metadata": {
    "dotnet_interactive": {
     "language": "csharp"
    },
    "vscode": {
     "languageId": "dotnet-interactive.csharp"
    }
   },
   "outputs": [
    {
     "name": "stdout",
     "output_type": "stream",
     "text": [
      "Varme på grisen: 91,84343021999999 kg CO2e\r\n"
     ]
    }
   ],
   "source": [
    "// konstanter - nix pille\n",
    "double M_N = 39.6;\n",
    "double K_N = 0.2778;\n",
    "double C_N = 0.204;\n",
    "double M_H = 14.4;\n",
    "double K_H = 0.2778;\n",
    "double C_H = 0.157;\n",
    "double M_O = 35.3;\n",
    "double K_O = 0.2778;\n",
    "double C_O = 0.267;\n",
    "\n",
    "// Input - Test andre scenarier, ved at ændre i input-værdierne herunder\n",
    "double N = 7.0;\n",
    "double H = 17.0;\n",
    "double O = 25.0;\n",
    "\n",
    "// Beregning\n",
    "double E_N = N * M_N * K_N * C_N;\n",
    "double E_H = H * M_H * K_H * C_H;\n",
    "double E_O = O * M_O * K_O * C_O;\n",
    "double E_gris = E_N + E_H + E_O;\n",
    "\n",
    "Console.WriteLine($\"Varme på grisen: {E_gris} kg CO2e\");"
   ]
  },
  {
   "cell_type": "markdown",
   "metadata": {},
   "source": [
    "## **El**"
   ]
  },
  {
   "cell_type": "code",
   "execution_count": null,
   "metadata": {
    "dotnet_interactive": {
     "language": "csharp"
    },
    "vscode": {
     "languageId": "dotnet-interactive.csharp"
    }
   },
   "outputs": [],
   "source": [
    "// konstanter - nix pille\n",
    "double E_std_slagt = 9.2;\n",
    "double E_std_aarsso = 176.0;\n",
    "double E_std_FRATS = 12.8;\n",
    "double E_std_smaa = 3.6;\n",
    "double C_E = 0.151;\n",
    "\n",
    "var aarsso_teknologier = new Dictionary<string, double>\n",
    "{\n",
    "    { \"HjemmeblandetFoder\", 20.0},\n",
    "    { \"Luftrensning100p\", 18.0},\n",
    "    { \"Luftrensning10til20p\", 7.0},\n",
    "    { \"BiologiskLuftrenser\", 8.0},\n",
    "    { \"Smellfighter\", 0.0},\n",
    "    { \"Gylleseparering\", 0.0},\n",
    "    { \"Gyllekøling\", 20.0},\n",
    "    { \"Varmepumpe\", 20.0},\n",
    "    { \"LEDlys\", -7.0},\n",
    "    { \"UdtøringAfStaldEl\", 0.0},\n",
    "    { \"LavenergiJævnstrømsmotorer\", -26.0}\n",
    "};\n",
    "\n",
    "var smaagris_teknologier = new Dictionary<string, double>\n",
    "{\n",
    "    { \"HjemmeblandetFoder\", 0.6},\n",
    "    { \"Luftrensning100p\", 5.0},\n",
    "    { \"Luftrensning10til20p\", 2.0},\n",
    "    { \"BiologiskLuftrenser\", 2.4},\n",
    "    { \"Smellfighter\", 0.0},\n",
    "    { \"Gylleseparering\", 0.0},\n",
    "    { \"Gyllekøling\", 1.6},\n",
    "    { \"Varmepumpe\", 1.6},\n",
    "    { \"LEDlys\", -0.5},\n",
    "    { \"UdtøringAfStaldEl\", 0.9},\n",
    "    { \"LavenergiJævnstrømsmotorer\", -1.0}\n",
    "};\n",
    "\n",
    "var slagtegris_teknologier = new Dictionary<string, double>\n",
    "{\n",
    "    { \"HjemmeblandetFoder\", 3.0},\n",
    "    { \"Luftrensning100p\", 18.2},\n",
    "    { \"Luftrensning10til20p\", 7.1},\n",
    "    { \"BiologiskLuftrenser\", 8.4},\n",
    "    { \"Smellfighter\", 1.5},\n",
    "    { \"Gylleseparering\", 1.5},\n",
    "    { \"Gyllekøling\", 5.0},\n",
    "    { \"Varmepumpe\", 5.0},\n",
    "    { \"LEDlys\", -1.5},\n",
    "    { \"UdtøringAfStaldEl\", 1.4},\n",
    "    { \"LavenergiJævnstrømsmotorer\", -5.0}\n",
    "};        \n",
    "\n",
    "var FRATS_teknologier = new Dictionary<string, double>\n",
    "{\n",
    "    { \"HjemmeblandetFoder\", 3.6},\n",
    "    { \"Luftrensning100p\",  23.2},\n",
    "    { \"Luftrensning10til20p\", 9.1},\n",
    "    { \"BiologiskLuftrenser\", 10.8},\n",
    "    { \"Smellfighter\", 1.5},\n",
    "    { \"Gylleseparering\", 1.5},\n",
    "    { \"Gyllekøling\", 6.6},\n",
    "    { \"Varmepumpe\", 6.6},\n",
    "    { \"LEDlys\", -2.0},\n",
    "    { \"UdtøringAfStaldEl\", 2.3},\n",
    "    { \"LavenergiJævnstrømsmotorer\", -6.0}\n",
    "};     "
   ]
  },
  {
   "cell_type": "markdown",
   "metadata": {},
   "source": [
    "**Årssøer**"
   ]
  },
  {
   "cell_type": "code",
   "execution_count": null,
   "metadata": {
    "dotnet_interactive": {
     "language": "csharp"
    },
    "vscode": {
     "languageId": "dotnet-interactive.csharp"
    }
   },
   "outputs": [
    {
     "name": "stdout",
     "output_type": "stream",
     "text": [
      "El på årssoen: 189 kwh\r\n",
      "Omregnet til CO2e: 28,538999999999998 kg CO2e\r\n"
     ]
    }
   ],
   "source": [
    "// Input - Test andre scenarier, ved at ændre i input-værdierne herunder\n",
    "double E_gron = 25.0;\n",
    "var valgte_teknologier = new List<string>(){\"Luftrensning100p\", \"Smellfighter\", \"Varmepumpe\"};\n",
    "\n",
    "// Beregning\n",
    "double teknologier = 0.0;\n",
    "valgte_teknologier.ForEach(tek => teknologier += (aarsso_teknologier[tek]));\n",
    "double E_aarsso = (E_std_aarsso + teknologier - E_gron);\n",
    "Console.WriteLine($\"El på årssoen: {E_aarsso} kwh\");\n",
    "Console.WriteLine($\"Omregnet til CO2e: {E_aarsso * C_E} kg CO2e\");"
   ]
  },
  {
   "cell_type": "markdown",
   "metadata": {},
   "source": [
    "**Smågris**"
   ]
  },
  {
   "cell_type": "code",
   "execution_count": null,
   "metadata": {
    "dotnet_interactive": {
     "language": "csharp"
    },
    "vscode": {
     "languageId": "dotnet-interactive.csharp"
    }
   },
   "outputs": [
    {
     "name": "stdout",
     "output_type": "stream",
     "text": [
      "El på smågrisen: -14,8 kwh\r\n",
      "Omregnet til CO2e: -2,2348 kg CO2e\r\n"
     ]
    }
   ],
   "source": [
    "// Input - Test andre scenarier, ved at ændre i input-værdierne herunder\n",
    "double E_gron = 25.0;\n",
    "var valgte_teknologier = new List<string>(){\"Luftrensning100p\", \"Smellfighter\", \"Varmepumpe\"};\n",
    "\n",
    "// Beregning\n",
    "double teknologier = 0.0;\n",
    "valgte_teknologier.ForEach(tek => teknologier += (smaagris_teknologier[tek]));\n",
    "double E_smaagris = (E_std_smaa + teknologier - E_gron);\n",
    "Console.WriteLine($\"El på smågrisen: {E_smaagris} kwh\");\n",
    "Console.WriteLine($\"Omregnet til CO2e: {E_smaagris * C_E} kg CO2e\");"
   ]
  },
  {
   "cell_type": "markdown",
   "metadata": {},
   "source": [
    "**Slagtegris**"
   ]
  },
  {
   "cell_type": "code",
   "execution_count": null,
   "metadata": {
    "dotnet_interactive": {
     "language": "csharp"
    },
    "vscode": {
     "languageId": "dotnet-interactive.csharp"
    }
   },
   "outputs": [
    {
     "name": "stdout",
     "output_type": "stream",
     "text": [
      "El på slagtegrisen: 8,899999999999999 kwh\r\n",
      "Omregnet til CO2e: 1,3438999999999997 kg CO2e\r\n"
     ]
    }
   ],
   "source": [
    "// Input - Test andre scenarier, ved at ændre i input-værdierne herunder\n",
    "double E_gron = 25.0;\n",
    "var valgte_teknologier = new List<string>(){\"Luftrensning100p\", \"Smellfighter\", \"Varmepumpe\"};\n",
    "\n",
    "// Beregning\n",
    "double teknologier = 0.0;\n",
    "valgte_teknologier.ForEach(tek => teknologier += (slagtegris_teknologier[tek]));\n",
    "double E_slagtegris = (E_std_slagt + teknologier - E_gron);\n",
    "Console.WriteLine($\"El på slagtegrisen: {E_slagtegris} kwh\");\n",
    "Console.WriteLine($\"Omregnet til CO2e: {E_slagtegris * C_E} kg CO2e\");"
   ]
  },
  {
   "cell_type": "markdown",
   "metadata": {},
   "source": [
    "**FRATSgrise**"
   ]
  },
  {
   "cell_type": "code",
   "execution_count": null,
   "metadata": {
    "dotnet_interactive": {
     "language": "csharp"
    },
    "vscode": {
     "languageId": "dotnet-interactive.csharp"
    }
   },
   "outputs": [
    {
     "name": "stdout",
     "output_type": "stream",
     "text": [
      "El på FRATSgrisen: 19,099999999999994 kwh\r\n",
      "Omregnet til CO2e: 2,884099999999999 kg CO2e\r\n"
     ]
    }
   ],
   "source": [
    "// Input - Test andre scenarier, ved at ændre i input-værdierne herunder\n",
    "double E_gron = 25.0;\n",
    "var valgte_teknologier = new List<string>(){\"Luftrensning100p\", \"Smellfighter\", \"Varmepumpe\"};\n",
    "\n",
    "// Beregning\n",
    "double teknologier = 0.0;\n",
    "valgte_teknologier.ForEach(tek => teknologier += (FRATS_teknologier[tek]));\n",
    "double E_FRATS = (E_std_FRATS + teknologier - E_gron);\n",
    "Console.WriteLine($\"El på FRATSgrisen: {E_FRATS} kwh\");\n",
    "Console.WriteLine($\"Omregnet til CO2e: {E_FRATS * C_E} kg CO2e\");"
   ]
  }
 ],
 "metadata": {
  "kernelspec": {
   "display_name": ".NET (C#)",
   "language": "C#",
   "name": ".net-csharp"
  },
  "language_info": {
   "file_extension": ".cs",
   "mimetype": "text/x-csharp",
   "name": "C#",
   "pygments_lexer": "csharp",
   "version": "9.0"
  },
  "orig_nbformat": 4,
  "vscode": {
   "interpreter": {
    "hash": "bab84105c52ccadeb85d61dc9a1d15bd1feb821a6dbda7c8ceb9873f369b5223"
   }
  }
 },
 "nbformat": 4,
 "nbformat_minor": 2
}
