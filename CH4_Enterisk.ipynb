{
 "cells": [
  {
   "attachments": {},
   "cell_type": "markdown",
   "metadata": {},
   "source": [
    "# **Enterisk metan på grisen**\n",
    "\n",
    "## **Beregning**\n",
    "\n",
    "### **Beregning af enterisk metan, afhænger af dyretypen** \n",
    "\n",
    ">Slagtegris (konv. + øko) + FRATS + smågrise (konv. + øko)\n",
    "\n",
    "$$CH_{4_{enterisk}} = \\frac{T \\cdot F \\cdot {E} \\cdot Ym}{\\theta_{MJ-CH_4}} $$\n",
    "\n",
    "Hvor tilvæksten, T, beregnes for hhv. slagte/FRATSgrise og smågrise:\n",
    "\n",
    "$$ T_{slagt+FRATS} = V_{slagt}  \\cdot \\Delta_d - V_{ind}$$\n",
    "\n",
    "$$ T_{smågris} = V_{ud} - V_{ind} $$\n",
    "\n",
    ">Årssøer, løbe-og drætighedsstalden, konv + øko \n",
    "\n",
    "$$CH_{4_{enterisk}} = \\frac{F \\cdot {E} \\cdot Ym}{\\theta_{MJ-CH_4}} $$\n",
    "\n",
    "Hvor: \n",
    "\n",
    "* V<sub>slagt</sub>: Slagtevægt = input fra bruger el. [Tabelværdi](https://seges.sharepoint.com/:x:/r/sites/SAFprojeketet/_layouts/15/Doc.aspx?sourcedoc=%7B0C95A002-A20E-4641-95BE-18B1560D7CE2%7D&file=PigData.xlsx&activeCell=AnimalTypes!E1&action=embedview) [kg]\n",
    "* Δ<sub>d</sub> = 1,31\n",
    "* V<sub>ud</sub>: Vægt ved afgang el. salg el. fravænning = input fra bruger el. [Tabelværdi](https://seges.sharepoint.com/:x:/r/sites/SAFprojeketet/_layouts/15/Doc.aspx?sourcedoc=%7B0C95A002-A20E-4641-95BE-18B1560D7CE2%7D&file=PigData.xlsx&activeCell=AnimalTypes!F1&action=embedview) [kg]\n",
    "* V<sub>ind</sub>: Indsættelsesvægt = input fra bruger el. [Tabelværdi](https://seges.sharepoint.com/:x:/r/sites/SAFprojeketet/_layouts/15/Doc.aspx?sourcedoc=%7B0C95A002-A20E-4641-95BE-18B1560D7CE2%7D&file=PigData.xlsx&activeCell=AnimalTypes!D1&action=embedview) [kg]\n",
    "* F: Foder  = input fra bruger el. [Tabelværdi](https://seges.sharepoint.com/:x:/r/sites/SAFprojeketet/_layouts/15/Doc.aspx?sourcedoc=%7B0C95A002-A20E-4641-95BE-18B1560D7CE2%7D&file=PigData.xlsx&activeCell=AnimalTypes!G1&action=embedview) [FEsv pr kg tilvækst/FEso pr so]\n",
    "* E: Energi fra foder = [Tabelværdi](https://seges.sharepoint.com/:x:/r/sites/SAFprojeketet/_layouts/15/Doc.aspx?sourcedoc=%7B0C95A002-A20E-4641-95BE-18B1560D7CE2%7D&file=PigData.xlsx&activeCell=AnimalTypes!H1&action=embedview) [MJ pr foderenhed]\n",
    "* Ym: Ym-faktor = [Standardtal](https://seges.sharepoint.com/:x:/r/sites/SAFprojeketet/_layouts/15/Doc.aspx?sourcedoc=%7B55DC573E-DF3A-4BB4-BA90-49438C005785%7D&file=Formler%20til%20PORK%202.0%20med%20foderberegner.xlsx&activeCell=%27Enterisk%20metan%2Bsoallokering%27!C5&action=embedview)\n",
    "* $\\theta$<sub>MJ-CH<sub>4</sub></sub> : Omregningsfaktor MJ til CH<sub>4</sub> = [Standardtal](https://seges.sharepoint.com/:x:/r/sites/SAFprojeketet/_layouts/15/Doc.aspx?sourcedoc=%7B55DC573E-DF3A-4BB4-BA90-49438C005785%7D&file=Formler%20til%20PORK%202.0%20med%20foderberegner.xlsx&activeCell=%27Enterisk%20metan%2Bsoallokering%27!C6&action=embedview)\n",
    "\n",
    "\n",
    "### **Omregning til CO<sub>2</sub>e**\n",
    "\n",
    "$$CO_2e = CH_{4_{enterisk}} \\cdot \\theta_{CH_4-CO_2} $$\n",
    "\n",
    "Hvor: \n",
    "\n",
    "* $\\theta$<sub>CH<sub>4</sub>-CO<sub>2</sub></sub>: Omregningsfaktor CH<sub>4</sub> til CO<sub>2</sub> [Standardtal](https://seges.sharepoint.com/:x:/r/sites/SAFprojeketet/_layouts/15/Doc.aspx?sourcedoc=%7B55DC573E-DF3A-4BB4-BA90-49438C005785%7D&file=Formler%20til%20PORK%202.0%20med%20foderberegner.xlsx&activeCell=%27Enterisk%20metan%2Bsoallokering%27!C3&action=embedview)\n",
    "\n",
    "----"
   ]
  },
  {
   "attachments": {},
   "cell_type": "markdown",
   "metadata": {},
   "source": [
    "# **Testcases**"
   ]
  },
  {
   "cell_type": "code",
   "execution_count": null,
   "metadata": {
    "dotnet_interactive": {
     "language": "csharp"
    }
   },
   "outputs": [],
   "source": [
    "// konstanter - nix pille\n",
    "double Ym = 0.006;\n",
    "double theta_MJ_CH4 = 55.65;\n",
    "double Delta_d = 1.31;\n",
    "double theta_CH4_CO2 = 25;"
   ]
  },
  {
   "attachments": {},
   "cell_type": "markdown",
   "metadata": {},
   "source": [
    "**Slagte/FRATS grise**"
   ]
  },
  {
   "cell_type": "code",
   "execution_count": null,
   "metadata": {
    "dotnet_interactive": {
     "language": "csharp"
    }
   },
   "outputs": [],
   "source": [
    "// Input - Test andre scenarier, ved at ændre i input-værdierne herunder\n",
    "double V_slagt = 88.0;\n",
    "double V_ind = 30.0;\n",
    "double F = 2.75;\n",
    "double E = 17.3;\n",
    "\n",
    "// Beregning\n",
    "double CH4_enterisk = ((V_slagt * Delta_d - V_ind) * F * E * Ym)/theta_MJ_CH4;\n",
    "Console.WriteLine($\"Enterisk metan for slagtegrise/FRATSgrise: {CH4_enterisk}\");\n",
    "Console.WriteLine($\"Omregnet til CO2e: {CH4_enterisk*theta_CH4_CO2}\");\n"
   ]
  },
  {
   "attachments": {},
   "cell_type": "markdown",
   "metadata": {},
   "source": [
    "**Smågrise**"
   ]
  },
  {
   "cell_type": "code",
   "execution_count": null,
   "metadata": {
    "dotnet_interactive": {
     "language": "csharp"
    }
   },
   "outputs": [],
   "source": [
    "// Input - Test andre scenarier, ved at ændre i input-værdierne herunder\n",
    "double V_ind = 8.2;\n",
    "double V_ud = 30.0;\n",
    "double F = 1.18;\n",
    "double E = 16.5;\n",
    "\n",
    "// Beregning\n",
    "double CH4_enterisk = ((V_ud - V_ind) * F * E * Ym)/theta_MJ_CH4;\n",
    "Console.WriteLine($\"Enterisk metan for slagtegrise/FRATSgrise: {CH4_enterisk}\");\n",
    "Console.WriteLine($\"Omregnet til CO2e: {CH4_enterisk*theta_CH4_CO2}\");"
   ]
  },
  {
   "attachments": {},
   "cell_type": "markdown",
   "metadata": {},
   "source": [
    "**Årssøer**"
   ]
  },
  {
   "cell_type": "code",
   "execution_count": null,
   "metadata": {
    "dotnet_interactive": {
     "language": "csharp"
    }
   },
   "outputs": [],
   "source": [
    "// Input - Test andre scenarier, ved at ændre i input-værdierne herunder\n",
    "double F = 1616.0;\n",
    "double E = 17.5;\n",
    "\n",
    "// Beregning\n",
    "CH4_enterisk = (F * E * Ym)/theta_MJ_CH4;\n",
    "Console.WriteLine($\"Enterisk metan for slagtegrise/FRATSgrise: {CH4_enterisk}\");\n",
    "Console.WriteLine($\"Omregnet til CO2e: {CH4_enterisk*theta_CH4_CO2}\");"
   ]
  }
 ],
 "metadata": {
  "kernelspec": {
   "display_name": ".NET (C#)",
   "language": "C#",
   "name": ".net-csharp"
  },
  "language_info": {
   "name": "polyglot-notebook"
  },
  "polyglot_notebook": {
   "kernelInfo": {
    "defaultKernelName": "csharp",
    "items": [
     {
      "aliases": [],
      "name": ".NET"
     },
     {
      "aliases": [
       "C#",
       "c#"
      ],
      "languageName": "C#",
      "name": "csharp"
     },
     {
      "aliases": [
       "F#",
       "f#"
      ],
      "languageName": "F#",
      "name": "fsharp"
     },
     {
      "aliases": [],
      "languageName": "HTML",
      "name": "html"
     },
     {
      "aliases": [
       "js"
      ],
      "languageName": "JavaScript",
      "name": "javascript"
     },
     {
      "aliases": [],
      "languageName": "KQL",
      "name": "kql"
     },
     {
      "aliases": [],
      "languageName": "Mermaid",
      "name": "mermaid"
     },
     {
      "aliases": [
       "powershell"
      ],
      "languageName": "PowerShell",
      "name": "pwsh"
     },
     {
      "aliases": [],
      "languageName": "SQL",
      "name": "sql"
     },
     {
      "aliases": [],
      "name": "value"
     },
     {
      "aliases": [
       "frontend"
      ],
      "name": "vscode"
     },
     {
      "aliases": [],
      "name": "webview"
     }
    ]
   }
  }
 },
 "nbformat": 4,
 "nbformat_minor": 2
}
