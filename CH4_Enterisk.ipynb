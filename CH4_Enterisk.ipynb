{
 "cells": [
  {
   "cell_type": "markdown",
   "metadata": {},
   "source": [
    "$$ T_{smågris} = V_{ud} - V_{ind} $$\n",
    "\n",
    ">Årssøer, løbe-og drætighedsstalden, konv + øko \n",
    "\n",
    "$$TAN_N = (\\frac{\\frac{F \\cdot X_{løb} \\cdot R \\cdot K}{1000}}{P} - k_{so} \\cdot X_{løb} - \\frac{(V_{ind} \\cdot V_{ud}) \\cdot X_{løb} \\cdot N_{pat}}{1000})$$\n",
    "\n",
    ">Årssøer, farestald, konv + øko \n",
    "\n",
    "$$TAN_N = (\\frac{\\frac{F \\cdot X_{fare} \\cdot R \\cdot K}{1000}}{P} - k_{so} \\cdot X_{fare} - \\frac{(V_{ind} \\cdot V_{ud}) \\cdot X_{fare} \\cdot N_{pat}}{1000})$$"
   ]
  },
  {
   "cell_type": "code",
   "execution_count": 3,
   "metadata": {
    "dotnet_interactive": {
     "language": "csharp"
    }
   },
   "outputs": [
    {
     "data": {
      "text/plain": [
       "19"
      ]
     },
     "execution_count": 3,
     "metadata": {},
     "output_type": "execute_result"
    }
   ],
   "source": [
    "mcd = 0 #indtast en værdi her for at teste\n",
    "mcd = mcd + 19\n",
    "\n",
    "mcd \n"
   ]
  },
  {
   "cell_type": "markdown",
   "metadata": {},
   "source": []
  }
 ],
 "metadata": {
  "kernelspec": {
   "display_name": "Python 3.9.10 64-bit",
   "language": "python",
   "name": "python3"
  },
  "language_info": {
   "codemirror_mode": {
    "name": "ipython",
    "version": 3
   },
   "file_extension": ".py",
   "mimetype": "text/x-python",
   "name": "python",
   "nbconvert_exporter": "python",
   "pygments_lexer": "ipython3",
   "version": "3.9.10"
  },
  "orig_nbformat": 4,
  "vscode": {
   "interpreter": {
    "hash": "bdf001e0a405e8b8504014542464f4868d6e9f604bb794366dc2b084054cc945"
   }
  }
 },
 "nbformat": 4,
 "nbformat_minor": 2
}
