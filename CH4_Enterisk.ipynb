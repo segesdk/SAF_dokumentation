{
 "cells": [
  {
   "cell_type": "markdown",
   "metadata": {},
   "source": [
    "# **Enterisk metan på grisen**\n",
    "\n",
    "## **Beregning**\n",
    "\n",
    "### **Beregning af enterisk metan, afhænger af dyretypen** \n",
    "\n",
    ">Slagtegris (konv. + øko) + FRATS + smågrise (konv. + øko)\n",
    "\n",
    "$$CH_{4_{enterisk}} = \\frac{T \\cdot F \\cdot {E} \\cdot Ym}{\\theta_{MJ-CH_4}} $$\n",
    "\n",
    "Hvor tilvæksten, T, beregnes for hhv. slagte/FRATSgrise og smågrise:\n",
    "\n",
    "$$ T_{slagt+FRATS} = V_{slagt}  \\cdot \\Delta_d - V_{ind}$$\n",
    "\n",
    "$$ T_{smågris} = V_{ud} - V_{ind} $$\n",
    "\n",
    ">Årssøer, løbe-og drætighedsstalden, konv + øko \n",
    "\n",
    "$$CH_{4_{enterisk}} = \\frac{F \\cdot {E} \\cdot Ym}{\\theta_{MJ-CH_4}} $$\n",
    "\n",
    "Hvor: \n",
    "\n",
    " * V<sub>slagt</sub>: Slagtevægt = input fra bruger el. [Tabelværdi](https://seges.sharepoint.com/:x:/r/sites/SAFprojeketet/_layouts/15/Doc.aspx?sourcedoc=%7B55DC573E-DF3A-4BB4-BA90-49438C005785%7D&file=Formler%20til%20PORK%202.0%20med%20foderberegner.xlsx&activeCell=%27Formler%20NH3%20og%20N2O%20-Stald%201%27!K2&action=embedview) [kg]\n",
    "* Δ<sub>d</sub> = 1,31\n",
    "* V<sub>ud</sub>: Vægt ved afgang el. salg el. fravænning = input fra bruger el. [Tabelværdi](https://seges.sharepoint.com/:x:/r/sites/SAFprojeketet/_layouts/15/Doc.aspx?sourcedoc=%7B55DC573E-DF3A-4BB4-BA90-49438C005785%7D&file=Formler%20til%20PORK%202.0%20med%20foderberegner.xlsx&activeCell=%27Formler%20NH3%20og%20N2O%20-Stald%201%27!L2&action=embedview) [kg]\n",
    "* V<sub>ind</sub>: Indsættelsesvægt = input fra bruger el. [Tabelværdi](https://seges.sharepoint.com/:x:/r/sites/SAFprojeketet/_layouts/15/Doc.aspx?sourcedoc=%7B55DC573E-DF3A-4BB4-BA90-49438C005785%7D&file=Formler%20til%20PORK%202.0%20med%20foderberegner.xlsx&activeCell=%27Formler%20NH3%20og%20N2O%20-Stald%201%27!J2&action=embedview) [kg]\n",
    "* F: Foder  = input fra bruger el. [Tabelværdi](https://seges.sharepoint.com/:x:/r/sites/SAFprojeketet/_layouts/15/Doc.aspx?sourcedoc=%7B55DC573E-DF3A-4BB4-BA90-49438C005785%7D&file=Formler%20til%20PORK%202.0%20med%20foderberegner.xlsx&activeCell=%27Formler%20NH3%20og%20N2O%20-Stald%201%27!N2&action=embedview) [FEsv pr kg tilvækst/FEso pr so]\n",
    "* E: Energi fra foder = [Tabelværdi](https://seges.sharepoint.com/:x:/r/sites/SAFprojeketet/_layouts/15/Doc.aspx?sourcedoc=%7B55DC573E-DF3A-4BB4-BA90-49438C005785%7D&file=Formler%20til%20PORK%202.0%20med%20foderberegner.xlsx&activeCell=%27Enterisk%20metan%2Bsoallokering%27!C7&action=embedview) [MJ pr foderenhed]\n",
    "* Ym: Ym-faktor = [Standardtal](https://seges.sharepoint.com/:x:/r/sites/SAFprojeketet/_layouts/15/Doc.aspx?sourcedoc=%7B55DC573E-DF3A-4BB4-BA90-49438C005785%7D&file=Formler%20til%20PORK%202.0%20med%20foderberegner.xlsx&activeCell=%27Enterisk%20metan%2Bsoallokering%27!C5&action=embedview)\n",
    "* $\\theta$<sub>MJ-CH<sub>4</sub></sub> : Omregningsfaktor MJ til CH<sub>4</sub> = [Standardtal](https://seges.sharepoint.com/:x:/r/sites/SAFprojeketet/_layouts/15/Doc.aspx?sourcedoc=%7B55DC573E-DF3A-4BB4-BA90-49438C005785%7D&file=Formler%20til%20PORK%202.0%20med%20foderberegner.xlsx&activeCell=%27Enterisk%20metan%2Bsoallokering%27!C6&action=embedview)\n",
    "\n",
    "\n",
    "### **Omregning til CO<sub>2</sub>e**\n",
    "\n",
    "$$CO_2e = CH_{4_{enterisk}} \\cdot \\theta_{CH_4-CO_2} $$\n",
    "\n",
    "Hvor: \n",
    "\n",
    "* $\\theta$<sub>CH<sub>4</sub>-CO<sub>2</sub></sub>: Omregningsfaktor CH<sub>4</sub> til CO<sub>2</sub> [Standardtal](https://seges.sharepoint.com/:x:/r/sites/SAFprojeketet/_layouts/15/Doc.aspx?sourcedoc=%7B55DC573E-DF3A-4BB4-BA90-49438C005785%7D&file=Formler%20til%20PORK%202.0%20med%20foderberegner.xlsx&activeCell=%27Enterisk%20metan%2Bsoallokering%27!C3&action=embedview)\n",
    "\n",
    "----"
   ]
  },
  {
   "cell_type": "markdown",
   "metadata": {
    "dotnet_interactive": {
     "language": "csharp"
    }
   },
   "source": [
    "# **Testcases**\n",
    "\n",
    "Hvis du selv vil lege med beregningerne i testcases kan du køre notebooken i google colab [HER](https://colab.research.google.com/github/segesdk/SAF_dokumentation/blob/main/CH4_Enterisk.ipynb) (kræver login på din google konto)"
   ]
  },
  {
   "cell_type": "code",
   "execution_count": null,
   "metadata": {},
   "outputs": [],
   "source": [
    "# konstanter - nix pille\n",
    "Ym = 0.006\n",
    "theta_MJ_CH4 = 55.65\n",
    "Delta_d = 1.31\n",
    "theta_CH4_CO2 = 25"
   ]
  },
  {
   "cell_type": "markdown",
   "metadata": {},
   "source": [
    "**Slagte/FRATS grise**"
   ]
  },
  {
   "cell_type": "code",
   "execution_count": 7,
   "metadata": {},
   "outputs": [
    {
     "name": "stdout",
     "output_type": "stream",
     "text": [
      "Enterisk metan for slagtegrise/FRATSgrise: 0.42152685714285715\n",
      "Omregnet til CO2e: 10.53817142857143\n"
     ]
    }
   ],
   "source": [
    "#Input - Test andre scenarier, ved at ændre i input-værdierne herunder\n",
    "V_slagt = 88\n",
    "V_ind = 30\n",
    "F = 2.65\n",
    "E = 17.3\n",
    "\n",
    "#Beregning\n",
    "CH4_enterisk = ((V_slagt * Delta_d - V_ind) * F * E * Ym)/theta_MJ_CH4\n",
    "print(f'Enterisk metan for slagtegrise/FRATSgrise: {CH4_enterisk}')\n",
    "print(f'Omregnet til CO2e: {CH4_enterisk*theta_CH4_CO2}')\n"
   ]
  },
  {
   "cell_type": "markdown",
   "metadata": {},
   "source": [
    "**Smågrise**"
   ]
  },
  {
   "cell_type": "code",
   "execution_count": 12,
   "metadata": {},
   "outputs": [
    {
     "name": "stdout",
     "output_type": "stream",
     "text": [
      "Enterisk metan for smågrise: 0.04954091644204851\n",
      "Omregnet til CO2e: 1.2385229110512128\n"
     ]
    }
   ],
   "source": [
    "#Input - Test andre scenarier, ved at ændre i input-værdierne herunder\n",
    "V_ind = 6.4\n",
    "V_ud = 30\n",
    "F = 1.18\n",
    "E = 16.5\n",
    "\n",
    "#Beregning\n",
    "CH4_enterisk = ((V_ud - V_ind) * F * E * Ym)/theta_MJ_CH4\n",
    "print(f'Enterisk metan for smågrise: {CH4_enterisk}')\n",
    "print(f'Omregnet til CO2e: {CH4_enterisk*theta_CH4_CO2}')"
   ]
  },
  {
   "cell_type": "markdown",
   "metadata": {},
   "source": [
    "**Årssøer**"
   ]
  },
  {
   "cell_type": "code",
   "execution_count": 11,
   "metadata": {},
   "outputs": [
    {
     "name": "stdout",
     "output_type": "stream",
     "text": [
      "Enterisk metan for årssøer: 2.8603773584905663\n",
      "Omregnet til CO2e: 71.50943396226415\n"
     ]
    }
   ],
   "source": [
    "#Input - Test andre scenarier, ved at ændre i input-værdierne herunder\n",
    "F = 1516\n",
    "E = 17.5\n",
    "\n",
    "#Beregning\n",
    "CH4_enterisk = (F * E * Ym)/theta_MJ_CH4\n",
    "print(f'Enterisk metan for årssøer: {CH4_enterisk}')\n",
    "print(f'Omregnet til CO2e: {CH4_enterisk*theta_CH4_CO2}')"
   ]
  }
 ],
 "metadata": {
  "kernelspec": {
   "display_name": "Python 3.9.10 64-bit",
   "language": "python",
   "name": "python3"
  },
  "language_info": {
   "codemirror_mode": {
    "name": "ipython",
    "version": 3
   },
   "file_extension": ".py",
   "mimetype": "text/x-python",
   "name": "python",
   "nbconvert_exporter": "python",
   "pygments_lexer": "ipython3",
   "version": "3.9.10"
  },
  "orig_nbformat": 4,
  "vscode": {
   "interpreter": {
    "hash": "bdf001e0a405e8b8504014542464f4868d6e9f604bb794366dc2b084054cc945"
   }
  }
 },
 "nbformat": 4,
 "nbformat_minor": 2
}
